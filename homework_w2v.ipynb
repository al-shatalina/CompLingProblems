{
 "cells": [
  {
   "cell_type": "markdown",
   "id": "a98604cb",
   "metadata": {},
   "source": [
    "Домашку будет легче делать в колабе (убедитесь, что у вас runtype с gpu)."
   ]
  },
  {
   "cell_type": "markdown",
   "id": "9c422aa0",
   "metadata": {},
   "source": [
    "# Задание 1 (3 балла)"
   ]
  },
  {
   "cell_type": "markdown",
   "id": "e4a72790",
   "metadata": {},
   "source": [
    "Обучите word2vec модели с негативным семплированием (cbow и skip-gram) аналогично тому, как это было сделано в семинаре. Вам нужно изменить следующие пункты: \n",
    "1) добавьте лемматизацию в предобработку (любым способом)  \n",
    "2) измените размер окна в большую или меньшую сторону\n",
    "3) измените размерность итоговых векторов\n",
    "\n",
    "Выберете несколько не похожих по смыслу слов (не таких как в семинаре), и протестируйте полученные эмбединги (найдите ближайшие слова и оцените качество, как в семинаре). \n",
    "Постарайтесь обучать модели как можно дольше и на как можно большем количестве данных. (Но если у вас мало времени или ресурсов, то допустимо взять поменьше данных и поставить меньше эпох)"
   ]
  },
  {
   "cell_type": "code",
   "execution_count": 1,
   "id": "cde5fd96",
   "metadata": {},
   "outputs": [],
   "source": [
    "import numpy as np\n",
    "import pandas as pd\n",
    "from string import punctuation\n",
    "from sklearn.model_selection import train_test_split\n",
    "from collections import Counter\n",
    "import matplotlib.pyplot as plt\n",
    "from sklearn.decomposition import TruncatedSVD\n",
    "from sklearn.feature_extraction.text import CountVectorizer\n",
    "from sklearn.metrics.pairwise import cosine_distances\n",
    "\n",
    "from IPython.display import Image\n",
    "from IPython.core.display import HTML \n",
    "%matplotlib inline\n",
    "\n",
    "import pymorphy3\n",
    "morph = pymorphy3.MorphAnalyzer()"
   ]
  },
  {
   "cell_type": "code",
   "execution_count": 2,
   "id": "4f71d7cb",
   "metadata": {},
   "outputs": [
    {
     "name": "stdout",
     "output_type": "stream",
     "text": [
      "3.8.0\n"
     ]
    }
   ],
   "source": [
    "import os\n",
    "os.environ[\"KERAS_BACKEND\"] = \"torch\"\n",
    "# os.environ[\"PYTORCH_ENABLE_MPS_FALLBACK\"] = \"1\"\n",
    "\n",
    "import torch\n",
    "# torch.set_default_device('cpu')\n",
    "\n",
    "import keras\n",
    "print(keras.__version__)"
   ]
  },
  {
   "cell_type": "code",
   "execution_count": 31,
   "id": "e894f30f",
   "metadata": {},
   "outputs": [],
   "source": [
    "import codecs\n",
    "file = codecs.open('wiki_data.txt', \"r\", \"utf-8\" )\n",
    "wiki = file.read().split('\\n')"
   ]
  },
  {
   "cell_type": "code",
   "execution_count": 10,
   "id": "c7f52250",
   "metadata": {},
   "outputs": [],
   "source": [
    "cv = CountVectorizer(max_features=10000)\n",
    "svd = TruncatedSVD(200)\n",
    "\n",
    "X = cv.fit_transform(wiki)\n",
    "X_svd = svd.fit_transform(X)\n",
    "\n",
    "embeddings = svd.components_.T"
   ]
  },
  {
   "cell_type": "code",
   "execution_count": 11,
   "id": "2b8fc32e",
   "metadata": {},
   "outputs": [],
   "source": [
    "id2word = cv.get_feature_names_out()\n",
    "word2id = {word:i for i,word in enumerate(id2word)}"
   ]
  },
  {
   "cell_type": "code",
   "execution_count": 4,
   "id": "e2332325",
   "metadata": {},
   "outputs": [],
   "source": [
    "import re\n",
    "def preprocess(text):\n",
    "    tokens = re.sub('#+', ' ', text.lower()).split()\n",
    "    tokens = [token.strip(punctuation) for token in tokens]\n",
    "    tokens = [morph.parse(token)[0] for token in tokens]\n",
    "    tokens = [token.normal_form for token in tokens]\n",
    "    return tokens"
   ]
  },
  {
   "cell_type": "code",
   "execution_count": 5,
   "id": "67edfb2f",
   "metadata": {},
   "outputs": [],
   "source": [
    "from tqdm import tqdm"
   ]
  },
  {
   "cell_type": "code",
   "execution_count": 13,
   "id": "4c7f635f",
   "metadata": {},
   "outputs": [
    {
     "name": "stderr",
     "output_type": "stream",
     "text": [
      "100%|██████████| 20003/20003 [05:40<00:00, 58.80it/s] \n"
     ]
    }
   ],
   "source": [
    "vocab = Counter()\n",
    "\n",
    "for text in tqdm(wiki):\n",
    "    vocab.update(preprocess(text))"
   ]
  },
  {
   "cell_type": "code",
   "execution_count": 14,
   "id": "7e0b99e8",
   "metadata": {},
   "outputs": [],
   "source": [
    "filtered_vocab = set()\n",
    "\n",
    "for word in vocab:\n",
    "    if vocab[word] > 30:\n",
    "        filtered_vocab.add(word)"
   ]
  },
  {
   "cell_type": "code",
   "execution_count": 15,
   "id": "dffc910b",
   "metadata": {},
   "outputs": [],
   "source": [
    "word2id = {'PAD':0}\n",
    "\n",
    "for word in filtered_vocab:\n",
    "    word2id[word] = len(word2id)\n",
    "\n",
    "id2word = {i:word for word, i in word2id.items()}"
   ]
  },
  {
   "cell_type": "code",
   "execution_count": 16,
   "id": "c4e7f982",
   "metadata": {},
   "outputs": [],
   "source": [
    "sentences = []\n",
    "\n",
    "for text in wiki:\n",
    "    tokens = preprocess(text)\n",
    "    if not tokens:\n",
    "        continue\n",
    "    ids = [word2id[token] for token in tokens if token in word2id]\n",
    "    sentences.append(ids)"
   ]
  },
  {
   "cell_type": "code",
   "execution_count": 17,
   "id": "8c8bab93",
   "metadata": {},
   "outputs": [],
   "source": [
    "vocab_size = len(id2word)"
   ]
  },
  {
   "cell_type": "code",
   "execution_count": 18,
   "id": "39d146cc",
   "metadata": {},
   "outputs": [],
   "source": [
    "# skip gram\n",
    "def gen_batches_sg(sentences, window = 3, batch_size=1000):\n",
    "    \n",
    "    # параметр window задает его целиком\n",
    "    # нам нужно поделить его пополам на левую и правую часть\n",
    "    # когда делится неровно, то левая часть больше на 1\n",
    "    left_context_length = (window/2).__ceil__() # округлить в большую сторону\n",
    "    right_context_length = window // 2 # округлить в меньшую сторону\n",
    "    \n",
    "    while True:\n",
    "        X_target = []\n",
    "        X_context = []\n",
    "        y = []\n",
    "\n",
    "        for sent in sentences:\n",
    "            for i in range(len(sent)-1):\n",
    "                word = sent[i]\n",
    "                context = sent[max(0, i-left_context_length):i] + sent[i+1:i+right_context_length]\n",
    "                for context_word in context:\n",
    "                    X_target.append(word)\n",
    "                    X_context.append(context_word)\n",
    "                    y.append(1)\n",
    "                    \n",
    "                    X_target.append(word)\n",
    "                    X_context.append(np.random.randint(vocab_size))\n",
    "                    y.append(0)\n",
    "                    \n",
    "                    if len(X_target) >= batch_size:\n",
    "                        X_target = np.array(X_target)\n",
    "                        X_context = np.array(X_context)\n",
    "                        y = np.array(y)\n",
    "                        yield ((X_target, X_context), y)\n",
    "                        X_target = []\n",
    "                        X_context = []\n",
    "                        y = []\n",
    "\n",
    "# # cbow \n",
    "def gen_batches_cbow(sentences, window = 3, batch_size=1000):\n",
    "    \n",
    "    # параметр window задает его целиком\n",
    "    # нам нужно поделить его пополам на левую и правую часть\n",
    "    # когда делится неровно, то левая часть больше на 1\n",
    "    left_context_length = (window/2).__ceil__() # округлить в большую сторону\n",
    "    right_context_length = window // 2 # округлить в меньшую сторону\n",
    "    \n",
    "    while True:\n",
    "        X_target = []\n",
    "        X_context = []\n",
    "        y = []\n",
    "\n",
    "        for sent in sentences:\n",
    "            for i in range(len(sent)-1):\n",
    "                word = sent[i]\n",
    "                context = sent[max(0, i-left_context_length):i] + sent[i+1:i+right_context_length]\n",
    "\n",
    "                X_target.append(word)\n",
    "                X_context.append(context)\n",
    "                y.append(1)\n",
    "                \n",
    "                X_target.append(np.random.randint(vocab_size))\n",
    "                X_context.append(context)\n",
    "                y.append(0)\n",
    "\n",
    "                if len(X_target) == batch_size:\n",
    "                    X_target = np.array(X_target)\n",
    "                    X_context = keras.preprocessing.sequence.pad_sequences(X_context, maxlen=window)\n",
    "                    y = np.array(y)\n",
    "                    yield ((X_target, X_context), y)\n",
    "                    X_target = []\n",
    "                    X_context = []\n",
    "                    y = []"
   ]
  },
  {
   "cell_type": "code",
   "execution_count": 18,
   "id": "48e30f02",
   "metadata": {},
   "outputs": [],
   "source": [
    "inputs_target = keras.layers.Input(shape=(1,))\n",
    "inputs_context = keras.layers.Input(shape=(1,))\n",
    "\n",
    "\n",
    "embeddings_target = keras.layers.Embedding(input_dim=len(word2id), output_dim=300)(inputs_target, )\n",
    "embeddings_context = keras.layers.Embedding(input_dim=len(word2id), output_dim=300)(inputs_context, )\n",
    "\n",
    "target = keras.layers.Flatten()(embeddings_target)\n",
    "context = keras.layers.Flatten()(embeddings_context)\n",
    "\n",
    "dot = keras.layers.Dot(1)([target, context])\n",
    "outputs = keras.layers.Activation(activation='sigmoid')(dot)\n",
    "\n",
    "model = keras.Model(inputs=[inputs_target, inputs_context], \n",
    "                       outputs=outputs)\n",
    "optimizer = keras.optimizers.Adam(learning_rate=0.001)\n",
    "model.compile(optimizer=optimizer,\n",
    "              loss='binary_crossentropy',\n",
    "              metrics=['accuracy'])"
   ]
  },
  {
   "cell_type": "code",
   "execution_count": 19,
   "id": "2c7c318d",
   "metadata": {},
   "outputs": [
    {
     "name": "stdout",
     "output_type": "stream",
     "text": [
      "Epoch 1/20\n",
      "\u001b[1m10000/10000\u001b[0m \u001b[32m━━━━━━━━━━━━━━━━━━━━\u001b[0m\u001b[37m\u001b[0m \u001b[1m318s\u001b[0m 32ms/step - accuracy: 0.7921 - loss: 0.4546 - val_accuracy: 0.8361 - val_loss: 0.3890\n",
      "Epoch 2/20\n",
      "\u001b[1m10000/10000\u001b[0m \u001b[32m━━━━━━━━━━━━━━━━━━━━\u001b[0m\u001b[37m\u001b[0m \u001b[1m253s\u001b[0m 25ms/step - accuracy: 0.8420 - loss: 0.3689 - val_accuracy: 0.8491 - val_loss: 0.3549\n",
      "Epoch 3/20\n",
      "\u001b[1m10000/10000\u001b[0m \u001b[32m━━━━━━━━━━━━━━━━━━━━\u001b[0m\u001b[37m\u001b[0m \u001b[1m282s\u001b[0m 28ms/step - accuracy: 0.8544 - loss: 0.3386 - val_accuracy: 0.8559 - val_loss: 0.3380\n",
      "Epoch 4/20\n",
      "\u001b[1m10000/10000\u001b[0m \u001b[32m━━━━━━━━━━━━━━━━━━━━\u001b[0m\u001b[37m\u001b[0m \u001b[1m377s\u001b[0m 38ms/step - accuracy: 0.8601 - loss: 0.3251 - val_accuracy: 0.8502 - val_loss: 0.3551\n",
      "Epoch 5/20\n",
      "\u001b[1m10000/10000\u001b[0m \u001b[32m━━━━━━━━━━━━━━━━━━━━\u001b[0m\u001b[37m\u001b[0m \u001b[1m339s\u001b[0m 34ms/step - accuracy: 0.8635 - loss: 0.3148 - val_accuracy: 0.8577 - val_loss: 0.3395\n",
      "Epoch 6/20\n",
      "\u001b[1m10000/10000\u001b[0m \u001b[32m━━━━━━━━━━━━━━━━━━━━\u001b[0m\u001b[37m\u001b[0m \u001b[1m223s\u001b[0m 22ms/step - accuracy: 0.8709 - loss: 0.2980 - val_accuracy: 0.8402 - val_loss: 0.3820\n",
      "Epoch 7/20\n",
      "\u001b[1m10000/10000\u001b[0m \u001b[32m━━━━━━━━━━━━━━━━━━━━\u001b[0m\u001b[37m\u001b[0m \u001b[1m199s\u001b[0m 20ms/step - accuracy: 0.8739 - loss: 0.2912 - val_accuracy: 0.8390 - val_loss: 0.3867\n",
      "Epoch 8/20\n",
      "\u001b[1m10000/10000\u001b[0m \u001b[32m━━━━━━━━━━━━━━━━━━━━\u001b[0m\u001b[37m\u001b[0m \u001b[1m305s\u001b[0m 31ms/step - accuracy: 0.8778 - loss: 0.2812 - val_accuracy: 0.8600 - val_loss: 0.3441\n",
      "Epoch 9/20\n",
      "\u001b[1m10000/10000\u001b[0m \u001b[32m━━━━━━━━━━━━━━━━━━━━\u001b[0m\u001b[37m\u001b[0m \u001b[1m297s\u001b[0m 30ms/step - accuracy: 0.8811 - loss: 0.2747 - val_accuracy: 0.8450 - val_loss: 0.3985\n",
      "Epoch 10/20\n",
      "\u001b[1m10000/10000\u001b[0m \u001b[32m━━━━━━━━━━━━━━━━━━━━\u001b[0m\u001b[37m\u001b[0m \u001b[1m288s\u001b[0m 29ms/step - accuracy: 0.8824 - loss: 0.2720 - val_accuracy: 0.8395 - val_loss: 0.4119\n",
      "Epoch 11/20\n",
      "\u001b[1m10000/10000\u001b[0m \u001b[32m━━━━━━━━━━━━━━━━━━━━\u001b[0m\u001b[37m\u001b[0m \u001b[1m192s\u001b[0m 19ms/step - accuracy: 0.8862 - loss: 0.2635 - val_accuracy: 0.8323 - val_loss: 0.4622\n",
      "Epoch 12/20\n",
      "\u001b[1m10000/10000\u001b[0m \u001b[32m━━━━━━━━━━━━━━━━━━━━\u001b[0m\u001b[37m\u001b[0m \u001b[1m224s\u001b[0m 22ms/step - accuracy: 0.8875 - loss: 0.2606 - val_accuracy: 0.8216 - val_loss: 0.4711\n",
      "Epoch 13/20\n",
      "\u001b[1m10000/10000\u001b[0m \u001b[32m━━━━━━━━━━━━━━━━━━━━\u001b[0m\u001b[37m\u001b[0m \u001b[1m376s\u001b[0m 38ms/step - accuracy: 0.8906 - loss: 0.2539 - val_accuracy: 0.8499 - val_loss: 0.4138\n",
      "Epoch 14/20\n",
      "\u001b[1m10000/10000\u001b[0m \u001b[32m━━━━━━━━━━━━━━━━━━━━\u001b[0m\u001b[37m\u001b[0m \u001b[1m363s\u001b[0m 36ms/step - accuracy: 0.8908 - loss: 0.2537 - val_accuracy: 0.8292 - val_loss: 0.4740\n",
      "Epoch 15/20\n",
      "\u001b[1m10000/10000\u001b[0m \u001b[32m━━━━━━━━━━━━━━━━━━━━\u001b[0m\u001b[37m\u001b[0m \u001b[1m303s\u001b[0m 30ms/step - accuracy: 0.8916 - loss: 0.2525 - val_accuracy: 0.8288 - val_loss: 0.5008\n",
      "Epoch 16/20\n",
      "\u001b[1m10000/10000\u001b[0m \u001b[32m━━━━━━━━━━━━━━━━━━━━\u001b[0m\u001b[37m\u001b[0m \u001b[1m199s\u001b[0m 20ms/step - accuracy: 0.8941 - loss: 0.2467 - val_accuracy: 0.8442 - val_loss: 0.4434\n",
      "Epoch 17/20\n",
      "\u001b[1m10000/10000\u001b[0m \u001b[32m━━━━━━━━━━━━━━━━━━━━\u001b[0m\u001b[37m\u001b[0m \u001b[1m244s\u001b[0m 24ms/step - accuracy: 0.8939 - loss: 0.2471 - val_accuracy: 0.8404 - val_loss: 0.4690\n",
      "Epoch 18/20\n",
      "\u001b[1m10000/10000\u001b[0m \u001b[32m━━━━━━━━━━━━━━━━━━━━\u001b[0m\u001b[37m\u001b[0m \u001b[1m353s\u001b[0m 35ms/step - accuracy: 0.8993 - loss: 0.2358 - val_accuracy: 0.8419 - val_loss: 0.4739\n",
      "Epoch 19/20\n",
      "\u001b[1m10000/10000\u001b[0m \u001b[32m━━━━━━━━━━━━━━━━━━━━\u001b[0m\u001b[37m\u001b[0m \u001b[1m306s\u001b[0m 31ms/step - accuracy: 0.8968 - loss: 0.2413 - val_accuracy: 0.8200 - val_loss: 0.5787\n",
      "Epoch 20/20\n",
      "\u001b[1m10000/10000\u001b[0m \u001b[32m━━━━━━━━━━━━━━━━━━━━\u001b[0m\u001b[37m\u001b[0m \u001b[1m203s\u001b[0m 20ms/step - accuracy: 0.8960 - loss: 0.2432 - val_accuracy: 0.8372 - val_loss: 0.5058\n"
     ]
    },
    {
     "data": {
      "text/plain": [
       "<keras.src.callbacks.history.History at 0x289f40bb890>"
      ]
     },
     "execution_count": 19,
     "metadata": {},
     "output_type": "execute_result"
    }
   ],
   "source": [
    "model.fit(gen_batches_sg(sentences[:19000]),\n",
    "          validation_data=gen_batches_sg(sentences[19000:]),\n",
    "          batch_size=1000,\n",
    "          steps_per_epoch=10000,\n",
    "          validation_steps=30,\n",
    "          epochs=20)"
   ]
  },
  {
   "cell_type": "code",
   "execution_count": 14,
   "id": "f9b8a9c2",
   "metadata": {},
   "outputs": [],
   "source": [
    "def most_similar(word, embeddings):\n",
    "    similar = [id2word[i] for i in \n",
    "               cosine_distances(embeddings[word2id[word]].reshape(1, -1), embeddings).argsort()[0][:5]]\n",
    "    return similar\n",
    "#сделала топ 5 вместо топ 10 для удобства"
   ]
  },
  {
   "cell_type": "code",
   "execution_count": 21,
   "id": "4fc2345e",
   "metadata": {},
   "outputs": [],
   "source": [
    "embeddings = model.layers[2].get_weights()[0]"
   ]
  },
  {
   "cell_type": "code",
   "execution_count": 22,
   "id": "c1f493ef",
   "metadata": {},
   "outputs": [
    {
     "name": "stdout",
     "output_type": "stream",
     "text": [
      "['жизнь', 'благосостояние', 'страдание', 'процветание', 'покойный'] ['боль', 'мышечный', 'зуд', 'синдром', 'аллергический']\n"
     ]
    }
   ],
   "source": [
    "print (most_similar('жизнь', embeddings), most_similar('боль', embeddings))"
   ]
  },
  {
   "cell_type": "code",
   "execution_count": 15,
   "id": "8ce66132",
   "metadata": {},
   "outputs": [],
   "source": [
    "#cbow negative sampling\n",
    "inputs_target = keras.layers.Input(shape=(1,))\n",
    "inputs_context = keras.layers.Input(shape=(20,))\n",
    "\n",
    "\n",
    "embeddings_target = keras.layers.Embedding(input_dim=len(word2id), output_dim=300)(inputs_target, )\n",
    "embeddings_context = keras.layers.Embedding(input_dim=len(word2id), output_dim=300)(inputs_context, )\n",
    "\n",
    "target = keras.layers.Flatten()(embeddings_target)\n",
    "context = keras.layers.Lambda(lambda x: x.sum(axis=1))(embeddings_context)\n",
    "dot = keras.layers.Dot(1)([target, context])\n",
    "\n",
    "# полученную близость нужно преобразовать в вероятность\n",
    "# когда она одна используется не софтмакс и сигмоида\n",
    "outputs = keras.layers.Activation(activation='sigmoid')(dot)\n",
    "\n",
    "model = keras.Model(inputs=[inputs_target, inputs_context], \n",
    "                       outputs=outputs)\n",
    "\n",
    "\n",
    "optimizer = keras.optimizers.Adam(learning_rate=0.001)\n",
    "model.compile(optimizer=optimizer,\n",
    "              loss='binary_crossentropy',\n",
    "              metrics=['accuracy'])"
   ]
  },
  {
   "cell_type": "code",
   "execution_count": 16,
   "id": "62eedefd",
   "metadata": {},
   "outputs": [
    {
     "name": "stdout",
     "output_type": "stream",
     "text": [
      "Epoch 1/20\n",
      "\u001b[1m5000/5000\u001b[0m \u001b[32m━━━━━━━━━━━━━━━━━━━━\u001b[0m\u001b[37m\u001b[0m \u001b[1m115s\u001b[0m 23ms/step - accuracy: 0.8233 - loss: 0.3965 - val_accuracy: 0.8813 - val_loss: 0.2930\n",
      "Epoch 2/20\n",
      "\u001b[1m5000/5000\u001b[0m \u001b[32m━━━━━━━━━━━━━━━━━━━━\u001b[0m\u001b[37m\u001b[0m \u001b[1m117s\u001b[0m 23ms/step - accuracy: 0.8852 - loss: 0.2822 - val_accuracy: 0.8981 - val_loss: 0.2555\n",
      "Epoch 3/20\n",
      "\u001b[1m5000/5000\u001b[0m \u001b[32m━━━━━━━━━━━━━━━━━━━━\u001b[0m\u001b[37m\u001b[0m \u001b[1m117s\u001b[0m 23ms/step - accuracy: 0.9104 - loss: 0.2224 - val_accuracy: 0.8936 - val_loss: 0.2665\n",
      "Epoch 4/20\n",
      "\u001b[1m5000/5000\u001b[0m \u001b[32m━━━━━━━━━━━━━━━━━━━━\u001b[0m\u001b[37m\u001b[0m \u001b[1m116s\u001b[0m 23ms/step - accuracy: 0.9194 - loss: 0.2030 - val_accuracy: 0.8975 - val_loss: 0.2664\n",
      "Epoch 5/20\n",
      "\u001b[1m5000/5000\u001b[0m \u001b[32m━━━━━━━━━━━━━━━━━━━━\u001b[0m\u001b[37m\u001b[0m \u001b[1m116s\u001b[0m 23ms/step - accuracy: 0.9311 - loss: 0.1778 - val_accuracy: 0.8986 - val_loss: 0.2777\n",
      "Epoch 6/20\n",
      "\u001b[1m5000/5000\u001b[0m \u001b[32m━━━━━━━━━━━━━━━━━━━━\u001b[0m\u001b[37m\u001b[0m \u001b[1m115s\u001b[0m 23ms/step - accuracy: 0.9415 - loss: 0.1550 - val_accuracy: 0.8760 - val_loss: 0.3807\n",
      "Epoch 7/20\n",
      "\u001b[1m5000/5000\u001b[0m \u001b[32m━━━━━━━━━━━━━━━━━━━━\u001b[0m\u001b[37m\u001b[0m \u001b[1m115s\u001b[0m 23ms/step - accuracy: 0.9453 - loss: 0.1482 - val_accuracy: 0.8864 - val_loss: 0.3548\n",
      "Epoch 8/20\n",
      "\u001b[1m5000/5000\u001b[0m \u001b[32m━━━━━━━━━━━━━━━━━━━━\u001b[0m\u001b[37m\u001b[0m \u001b[1m115s\u001b[0m 23ms/step - accuracy: 0.9526 - loss: 0.1334 - val_accuracy: 0.8822 - val_loss: 0.3934\n",
      "Epoch 9/20\n",
      "\u001b[1m5000/5000\u001b[0m \u001b[32m━━━━━━━━━━━━━━━━━━━━\u001b[0m\u001b[37m\u001b[0m \u001b[1m118s\u001b[0m 24ms/step - accuracy: 0.9546 - loss: 0.1303 - val_accuracy: 0.8841 - val_loss: 0.4091\n",
      "Epoch 10/20\n",
      "\u001b[1m5000/5000\u001b[0m \u001b[32m━━━━━━━━━━━━━━━━━━━━\u001b[0m\u001b[37m\u001b[0m \u001b[1m119s\u001b[0m 24ms/step - accuracy: 0.9567 - loss: 0.1266 - val_accuracy: 0.8774 - val_loss: 0.4873\n",
      "Epoch 11/20\n",
      "\u001b[1m5000/5000\u001b[0m \u001b[32m━━━━━━━━━━━━━━━━━━━━\u001b[0m\u001b[37m\u001b[0m \u001b[1m118s\u001b[0m 24ms/step - accuracy: 0.9614 - loss: 0.1160 - val_accuracy: 0.8858 - val_loss: 0.4478\n",
      "Epoch 12/20\n",
      "\u001b[1m5000/5000\u001b[0m \u001b[32m━━━━━━━━━━━━━━━━━━━━\u001b[0m\u001b[37m\u001b[0m \u001b[1m118s\u001b[0m 24ms/step - accuracy: 0.9621 - loss: 0.1149 - val_accuracy: 0.8873 - val_loss: 0.4388\n",
      "Epoch 13/20\n",
      "\u001b[1m5000/5000\u001b[0m \u001b[32m━━━━━━━━━━━━━━━━━━━━\u001b[0m\u001b[37m\u001b[0m \u001b[1m116s\u001b[0m 23ms/step - accuracy: 0.9641 - loss: 0.1113 - val_accuracy: 0.8801 - val_loss: 0.5054\n",
      "Epoch 14/20\n",
      "\u001b[1m5000/5000\u001b[0m \u001b[32m━━━━━━━━━━━━━━━━━━━━\u001b[0m\u001b[37m\u001b[0m \u001b[1m117s\u001b[0m 23ms/step - accuracy: 0.9652 - loss: 0.1086 - val_accuracy: 0.8694 - val_loss: 0.6116\n",
      "Epoch 15/20\n",
      "\u001b[1m5000/5000\u001b[0m \u001b[32m━━━━━━━━━━━━━━━━━━━━\u001b[0m\u001b[37m\u001b[0m \u001b[1m115s\u001b[0m 23ms/step - accuracy: 0.9654 - loss: 0.1092 - val_accuracy: 0.8415 - val_loss: 0.7538\n",
      "Epoch 16/20\n",
      "\u001b[1m5000/5000\u001b[0m \u001b[32m━━━━━━━━━━━━━━━━━━━━\u001b[0m\u001b[37m\u001b[0m \u001b[1m115s\u001b[0m 23ms/step - accuracy: 0.9673 - loss: 0.1048 - val_accuracy: 0.8820 - val_loss: 0.5568\n",
      "Epoch 17/20\n",
      "\u001b[1m5000/5000\u001b[0m \u001b[32m━━━━━━━━━━━━━━━━━━━━\u001b[0m\u001b[37m\u001b[0m \u001b[1m114s\u001b[0m 23ms/step - accuracy: 0.9675 - loss: 0.1052 - val_accuracy: 0.8811 - val_loss: 0.5613\n",
      "Epoch 18/20\n",
      "\u001b[1m5000/5000\u001b[0m \u001b[32m━━━━━━━━━━━━━━━━━━━━\u001b[0m\u001b[37m\u001b[0m \u001b[1m115s\u001b[0m 23ms/step - accuracy: 0.9692 - loss: 0.1007 - val_accuracy: 0.8469 - val_loss: 0.7592\n",
      "Epoch 19/20\n",
      "\u001b[1m5000/5000\u001b[0m \u001b[32m━━━━━━━━━━━━━━━━━━━━\u001b[0m\u001b[37m\u001b[0m \u001b[1m116s\u001b[0m 23ms/step - accuracy: 0.9692 - loss: 0.1013 - val_accuracy: 0.8860 - val_loss: 0.5651\n",
      "Epoch 20/20\n",
      "\u001b[1m5000/5000\u001b[0m \u001b[32m━━━━━━━━━━━━━━━━━━━━\u001b[0m\u001b[37m\u001b[0m \u001b[1m116s\u001b[0m 23ms/step - accuracy: 0.9692 - loss: 0.1020 - val_accuracy: 0.8739 - val_loss: 0.6677\n"
     ]
    },
    {
     "data": {
      "text/plain": [
       "<keras.src.callbacks.history.History at 0x239d02b7050>"
      ]
     },
     "execution_count": 16,
     "metadata": {},
     "output_type": "execute_result"
    }
   ],
   "source": [
    "model.build([(None, 1), (None, 20)])\n",
    "model.fit(gen_batches_cbow(sentences[:19000], window=20),\n",
    "          validation_data=gen_batches_cbow(sentences[19000:],  window=20),\n",
    "          batch_size=1000,\n",
    "          steps_per_epoch=5000,\n",
    "          validation_steps=30,\n",
    "          epochs=20)"
   ]
  },
  {
   "cell_type": "code",
   "execution_count": 17,
   "id": "6a679ea2",
   "metadata": {},
   "outputs": [],
   "source": [
    "embeddings = model.layers[2].get_weights()[0]"
   ]
  },
  {
   "cell_type": "code",
   "execution_count": 24,
   "id": "f1ff2cfc",
   "metadata": {},
   "outputs": [
    {
     "name": "stdout",
     "output_type": "stream",
     "text": [
      "['мир', 'европа', 'история', 'чемпионат', 'турнир']\n",
      "['жизнь', 'смерть', 'забота', 'общество', 'не']\n"
     ]
    }
   ],
   "source": [
    "print(most_similar('мир', embeddings), most_similar('жизнь', embeddings), sep='\\n')"
   ]
  },
  {
   "cell_type": "markdown",
   "id": "c3b61b7c",
   "metadata": {},
   "source": [
    "# Задание 2 (2 балла)"
   ]
  },
  {
   "cell_type": "markdown",
   "id": "66eff080",
   "metadata": {},
   "source": [
    "Обучите 1 word2vec и 1 fastext модель в gensim. В каждой из модели нужно задать все параметры, которые мы разбирали на семинаре. Заданные значения должны отличаться от дефолтных и от тех, что мы использовали на семинаре."
   ]
  },
  {
   "cell_type": "code",
   "execution_count": 27,
   "id": "b96ab3d3",
   "metadata": {},
   "outputs": [
    {
     "name": "stdout",
     "output_type": "stream",
     "text": [
      "Requirement already satisfied: gensim in c:\\users\\alex\\scoop\\apps\\python\\current\\lib\\site-packages (4.3.3)\n",
      "Requirement already satisfied: numpy<2.0,>=1.18.5 in c:\\users\\alex\\scoop\\apps\\python\\current\\lib\\site-packages (from gensim) (1.26.4)\n",
      "Requirement already satisfied: scipy<1.14.0,>=1.7.0 in c:\\users\\alex\\scoop\\apps\\python\\current\\lib\\site-packages (from gensim) (1.13.1)\n",
      "Requirement already satisfied: smart-open>=1.8.1 in c:\\users\\alex\\scoop\\apps\\python\\current\\lib\\site-packages (from gensim) (7.0.4)\n",
      "Requirement already satisfied: wrapt in c:\\users\\alex\\scoop\\apps\\python\\current\\lib\\site-packages (from smart-open>=1.8.1->gensim) (1.16.0)\n"
     ]
    },
    {
     "name": "stderr",
     "output_type": "stream",
     "text": [
      "WARNING: Ignoring invalid distribution ~umpy (C:\\Users\\Alex\\scoop\\apps\\python\\current\\Lib\\site-packages)\n",
      "WARNING: Ignoring invalid distribution ~umpy (C:\\Users\\Alex\\scoop\\apps\\python\\current\\Lib\\site-packages)\n",
      "WARNING: Ignoring invalid distribution ~umpy (C:\\Users\\Alex\\scoop\\apps\\python\\current\\Lib\\site-packages)\n"
     ]
    }
   ],
   "source": [
    "!pip install gensim"
   ]
  },
  {
   "cell_type": "code",
   "execution_count": 28,
   "id": "59a951bf",
   "metadata": {},
   "outputs": [],
   "source": [
    "import gensim"
   ]
  },
  {
   "cell_type": "code",
   "execution_count": 32,
   "id": "11f75419",
   "metadata": {},
   "outputs": [],
   "source": [
    "texts = [preprocess(text) for text in wiki]"
   ]
  },
  {
   "cell_type": "code",
   "execution_count": 33,
   "id": "e5035bdc",
   "metadata": {},
   "outputs": [
    {
     "name": "stdout",
     "output_type": "stream",
     "text": [
      "CPU times: total: 5.72 s\n",
      "Wall time: 8.27 s\n"
     ]
    }
   ],
   "source": [
    "%%time\n",
    "w2v = gensim.models.Word2Vec(texts, )"
   ]
  },
  {
   "cell_type": "code",
   "execution_count": 34,
   "id": "91b89b98",
   "metadata": {},
   "outputs": [
    {
     "name": "stdout",
     "output_type": "stream",
     "text": [
      "CPU times: total: 14.2 s\n",
      "Wall time: 27.9 s\n"
     ]
    }
   ],
   "source": [
    "%%time\n",
    "w2v = gensim.models.Word2Vec(texts, \n",
    "                             vector_size=220, \n",
    "                             min_count=42, \n",
    "                             max_vocab_size=9000,\n",
    "                             window=7,\n",
    "                             epochs=6,\n",
    "                             sample=1e-4,\n",
    "                             hs=0,\n",
    "                             negative=7,\n",
    "                             sg=1,\n",
    "                             ns_exponent=0.7)"
   ]
  },
  {
   "cell_type": "code",
   "execution_count": 39,
   "id": "06b908fc",
   "metadata": {},
   "outputs": [
    {
     "data": {
      "text/plain": [
       "[('любовь', 0.5137007832527161),\n",
       " ('мысль', 0.48829516768455505),\n",
       " ('писать', 0.48748597502708435),\n",
       " ('судьба', 0.46646174788475037),\n",
       " ('смерть', 0.46003371477127075),\n",
       " ('творчество', 0.43642449378967285),\n",
       " ('образ', 0.4345947206020355),\n",
       " ('весь', 0.434222012758255),\n",
       " ('сам', 0.43247854709625244),\n",
       " ('тема', 0.4323006570339203)]"
      ]
     },
     "execution_count": 39,
     "metadata": {},
     "output_type": "execute_result"
    }
   ],
   "source": [
    "w2v.wv.most_similar('жизнь')"
   ]
  },
  {
   "cell_type": "code",
   "execution_count": 40,
   "id": "dd1cb343",
   "metadata": {},
   "outputs": [
    {
     "name": "stdout",
     "output_type": "stream",
     "text": [
      "CPU times: total: 30.2 s\n",
      "Wall time: 38.1 s\n"
     ]
    }
   ],
   "source": [
    "%%time\n",
    "ft = gensim.models.FastText(texts)"
   ]
  },
  {
   "cell_type": "code",
   "execution_count": 41,
   "id": "79f97148",
   "metadata": {},
   "outputs": [
    {
     "name": "stdout",
     "output_type": "stream",
     "text": [
      "CPU times: total: 31.9 s\n",
      "Wall time: 32.9 s\n"
     ]
    }
   ],
   "source": [
    "%%time\n",
    "ft = gensim.models.FastText(texts, min_n=5, max_n=10)"
   ]
  },
  {
   "cell_type": "code",
   "execution_count": 42,
   "id": "5f56b055",
   "metadata": {},
   "outputs": [
    {
     "data": {
      "text/plain": [
       "[('жизнью»', 0.9892975091934204),\n",
       " ('alkan', 0.9850301742553711),\n",
       " ('жизнь»', 0.9648974537849426),\n",
       " ('«жизнь', 0.9555759429931641),\n",
       " ('жизни»', 0.8117483854293823),\n",
       " ('жизненно', 0.7297841906547546),\n",
       " ('«судьба', 0.6842685341835022),\n",
       " ('детство', 0.6823813319206238),\n",
       " ('«детство', 0.6570226550102234),\n",
       " ('сознание', 0.656275749206543)]"
      ]
     },
     "execution_count": 42,
     "metadata": {},
     "output_type": "execute_result"
    }
   ],
   "source": [
    "ft.wv.most_similar('жизнь')"
   ]
  },
  {
   "cell_type": "markdown",
   "id": "e4bb928c",
   "metadata": {},
   "source": [
    "# Задание 3 (3 балла)"
   ]
  },
  {
   "cell_type": "markdown",
   "id": "3019b0d1",
   "metadata": {},
   "source": [
    "Используя датасет для классификации (labeled.csv), обучите классификатор на базе эмбеддингов. Оцените качество на отложенной выборке.   \n",
    "В качестве эмбеддинг модели вы можете использовать одну из моделей обученных в предыдущем задании или использовать одну из предобученных моделей с rusvectores (удостоверьтесь что правильно воспроизводите предобработку в этом случае!)  \n",
    "Для того, чтобы построить эмбединг целого текста, усредните вектора отдельных слов в один общий вектор. \n",
    "В качестве алгоритма классификации используйте LogisicticRegression (можете попробовать SGDClassifier, чтобы было побыстрее)  \n",
    "F1 мера должна быть выше 20%. "
   ]
  },
  {
   "cell_type": "code",
   "execution_count": 74,
   "id": "878b482e",
   "metadata": {},
   "outputs": [],
   "source": [
    "from sklearn.metrics import classification_report, accuracy_score\n",
    "from sklearn.linear_model import LogisticRegression as logreg"
   ]
  },
  {
   "cell_type": "code",
   "execution_count": 6,
   "id": "ed908832",
   "metadata": {},
   "outputs": [],
   "source": [
    "data = pd.read_csv('labeled.csv')\n",
    "data['norm_text'] = data.comment.apply(preprocess)"
   ]
  },
  {
   "cell_type": "code",
   "execution_count": 7,
   "id": "eaa05691",
   "metadata": {},
   "outputs": [
    {
     "data": {
      "text/plain": [
       "6308"
      ]
     },
     "execution_count": 7,
     "metadata": {},
     "output_type": "execute_result"
    }
   ],
   "source": [
    "vocab = Counter()\n",
    "\n",
    "for text in data['norm_text']:\n",
    "    vocab.update(text)\n",
    "    \n",
    "filtered_vocab = set()\n",
    "\n",
    "for word in vocab:\n",
    "    if vocab[word] > 5:\n",
    "        filtered_vocab.add(word)\n",
    "\n",
    "len(filtered_vocab)"
   ]
  },
  {
   "cell_type": "code",
   "execution_count": 70,
   "id": "da50591c",
   "metadata": {},
   "outputs": [],
   "source": [
    "def word_toid(tokens):\n",
    "    vec = np.zeros(w2v.vector_size)\n",
    "    for token in tokens:\n",
    "        if token in w2v.wv:\n",
    "            vec+=w2v.wv[token]\n",
    "\n",
    "    return vec"
   ]
  },
  {
   "cell_type": "code",
   "execution_count": 71,
   "id": "a7436c38",
   "metadata": {},
   "outputs": [],
   "source": [
    "X = [word_toid(text) for text in data['norm_text']]"
   ]
  },
  {
   "cell_type": "code",
   "execution_count": 72,
   "id": "70747c22",
   "metadata": {},
   "outputs": [],
   "source": [
    "y = data.toxic.values"
   ]
  },
  {
   "cell_type": "code",
   "execution_count": 73,
   "id": "748e1edc",
   "metadata": {},
   "outputs": [],
   "source": [
    "X_train, X_valid, y_train, y_valid = train_test_split(X, y, test_size=0.05)"
   ]
  },
  {
   "cell_type": "code",
   "execution_count": 75,
   "id": "eb6ff19b",
   "metadata": {},
   "outputs": [
    {
     "name": "stdout",
     "output_type": "stream",
     "text": [
      "              precision    recall  f1-score   support\n",
      "\n",
      "         0.0       0.92      0.70      0.79       493\n",
      "         1.0       0.57      0.86      0.69       228\n",
      "\n",
      "    accuracy                           0.75       721\n",
      "   macro avg       0.74      0.78      0.74       721\n",
      "weighted avg       0.81      0.75      0.76       721\n",
      "\n"
     ]
    }
   ],
   "source": [
    "clf = logreg(penalty='l2', class_weight= 'balanced', max_iter= 10000)\n",
    "clf.fit(X_train, y_train)\n",
    "preds = clf.predict(X_valid)\n",
    "print(classification_report(y_valid, preds, zero_division=0))"
   ]
  },
  {
   "cell_type": "code",
   "execution_count": 76,
   "id": "e2bcb67d",
   "metadata": {},
   "outputs": [],
   "source": [
    "preds_proba = clf.predict_proba(X_valid)"
   ]
  },
  {
   "cell_type": "code",
   "execution_count": 81,
   "id": "a9d0d778",
   "metadata": {},
   "outputs": [
    {
     "data": {
      "text/plain": [
       "[('Ты, как совместившая, делишься опытом? Учту.\\n', 0.9999104553209482),\n",
       " ('Ну хочешь я стану твоим другом? Как тебя зовут? Чем увлекаешься?\\n',\n",
       "  0.9995722744880517),\n",
       " ('Я тоже. Ладно мы, у нас еще сто лет назад власть захватил открыто антирусский режим. Мордор он и есть Мордор. Но у них-то еще совсем недавно все было хорошо и никто бы не мог даже представить такого пиздеца.\\n',\n",
       "  0.9992684276337245),\n",
       " ('Ну давай. Отбери у меня нож, клоун, только я махну рукой и твои яйца разлетятся по всему арбату.\\n',\n",
       "  0.9983425860993097),\n",
       " ('Просто ник автора, наверное\\n', 0.9952993285835451),\n",
       " ('Большинство новых коттеджных поселков имеют статус садоводств, благодаря этому могут еще и сдирать по три шкуры с новых собственников на обслуживании. Причем сейчас с кризисом в загородке очень много стали продавать без подряда. У нас очень неразвита строительная экспертиза и контроль в частном домостроении, поэтому проблемных домов очень много, где люди потом годами пытаются это исправить.\\n',\n",
       "  0.9950051595595896),\n",
       " ('А я готовлю почти также, только сахар не использую вообще, а вместо него добавляю в фарш изюм - получается вкусно. Ну и без яйца в конце (хотя зачетно должно быть, только вряд ли совместимо с изюмом, надо будет попробовать так).\\n',\n",
       "  0.993939843482527),\n",
       " ('Уважаемый, да вы бредите. заварите ка как на картинке на любом заводе, где есть сварка. такая подойдёт?\\n',\n",
       "  0.9926894744759021),\n",
       " ('Для каких стан является эталоном современная система здравоохранения РФ? Для Зимбабве? Ты тупой? хохлы\\n',\n",
       "  0.9854066655857703),\n",
       " ('А почему жена не могла её послать туда же? Сказала: иди ка ты, пожилая неразумная женщина-вагина все туда же. И всё. Развернулась и ушла. А то стоит с маленьким ребенком и слушает. Мелочь тоже слушает и боится. Нет нет. Только на й. И погромче.\\n',\n",
       "  0.9832660775952713)]"
      ]
     },
     "execution_count": 81,
     "metadata": {},
     "output_type": "execute_result"
    }
   ],
   "source": [
    "counter = Counter({comm: prob[1] for comm, prob in zip(data.comment, preds_proba)})\n",
    "counter.most_common(10)"
   ]
  },
  {
   "cell_type": "markdown",
   "id": "60c18c5a",
   "metadata": {},
   "source": [
    "# Задание 4 (2 доп балла)\n",
    "\n",
    "В тетрадку с фастекстом добавьте код для обучения с negative sampling (задача сводится к бинарной классификации) и обучите модель. Проверьте полученную модель на нескольких словах. Похожие слова должны быть похожими по смыслу и по форме."
   ]
  },
  {
   "cell_type": "code",
   "execution_count": 84,
   "id": "4bc990fa",
   "metadata": {},
   "outputs": [],
   "source": [
    "import re\n",
    "from collections import Counter\n",
    "def tokenize(text):\n",
    "    tokens = re.sub('#+', ' ', text.lower()).split()\n",
    "    tokens = [token.strip(punctuation) for token in tokens]\n",
    "    tokens = [token for token in tokens if token]\n",
    "    return tokens"
   ]
  },
  {
   "cell_type": "code",
   "execution_count": 85,
   "id": "d138e572",
   "metadata": {},
   "outputs": [],
   "source": [
    "def ngrammer(raw_string, n=2):\n",
    "    ngrams = []\n",
    "    raw_string = ''.join(['<', raw_string, '>'])\n",
    "    for i in range(0,len(raw_string)-n+1):\n",
    "        ngram = ''.join(raw_string[i:i+n])\n",
    "        if ngram == '<' or ngram == '>': # сами по себе <> как токены не нужны\n",
    "            continue\n",
    "        ngrams.append(ngram)\n",
    "    return ngrams"
   ]
  },
  {
   "cell_type": "code",
   "execution_count": 86,
   "id": "edb588fd",
   "metadata": {},
   "outputs": [],
   "source": [
    "def split_tokens(tokens, min_ngram_size, max_ngram_size):\n",
    "    tokens_with_subwords = []\n",
    "    for token in tokens:\n",
    "        subtokens = []\n",
    "        for i in range(min_ngram_size, max_ngram_size+1):\n",
    "            if len(token) > i:\n",
    "                subtokens.extend(ngrammer(token, i))\n",
    "        tokens_with_subwords.append(subtokens)\n",
    "    return tokens_with_subwords"
   ]
  },
  {
   "cell_type": "code",
   "execution_count": 88,
   "id": "f464e712",
   "metadata": {},
   "outputs": [],
   "source": [
    "class SubwordTokenizer:\n",
    "    def __init__(self, ngram_range=(1,1), min_count=5):\n",
    "        self.min_ngram_size, self.max_ngram_size = ngram_range\n",
    "        self.min_count = min_count\n",
    "        self.subword_vocab = None\n",
    "        self.fullword_vocab = None\n",
    "        self.vocab = None\n",
    "        self.id2word = None\n",
    "        self.word2id = None\n",
    "\n",
    "    def build_vocab(self, texts):\n",
    "        # чтобы построить словарь нужно пройти по всему корпусу и собрать частоты всех уникальных слов и нграммов\n",
    "        unfiltered_subword_vocab = Counter()\n",
    "        unfiltered_fullword_vocab = Counter()\n",
    "        for text in texts:\n",
    "            tokens = tokenize(text)\n",
    "            unfiltered_fullword_vocab.update(tokens)\n",
    "            subwords_per_token = split_tokens(tokens, self.min_ngram_size, self.max_ngram_size)\n",
    "            for subwords in subwords_per_token:\n",
    "                # в одном слове могут быть одинаковые нграммы поэтому возьмем только уникальные\n",
    "                unfiltered_subword_vocab.update(set(subwords))\n",
    "\n",
    "        self.fullword_vocab = set()\n",
    "        self.subword_vocab = set()\n",
    "\n",
    "        # теперь отфильтруем по частоте\n",
    "        for word, count in unfiltered_fullword_vocab.items():\n",
    "            if count >= self.min_count:\n",
    "                self.fullword_vocab.add(word)\n",
    "        # для нграммов сделаем порог побольше чтобы не создавать слишком много нграммов\n",
    "        # и учитывать только действительно частотные\n",
    "        for word, count in unfiltered_subword_vocab.items():\n",
    "            if count >= (self.min_count * 100):\n",
    "                self.subword_vocab.add(word)\n",
    "\n",
    "        # общий словарь\n",
    "        self.vocab = self.fullword_vocab | self.subword_vocab\n",
    "        self.id2word = {i:word for i,word in enumerate(self.vocab)}\n",
    "        self.word2id = {word:i for i,word in self.id2word.items()}\n",
    "\n",
    "    def subword_tokenize(self, text):\n",
    "        if self.vocab is None:\n",
    "            raise AttributeError('Vocabulary is not built!')\n",
    "        # разбиваем на токены\n",
    "        tokens = tokenize(text) \n",
    "        # каждый токен разбиваем на символьные нграммы\n",
    "        tokens_with_subwords = split_tokens(tokens, self.min_ngram_size, self.max_ngram_size)\n",
    "        # оставляет только токены и нграммы которые есть в словаре\n",
    "        only_vocab_tokens_with_subwords = []\n",
    "        for full_token, sub_tokens in zip(tokens, tokens_with_subwords):\n",
    "            filtered = []\n",
    "            if full_token in self.vocab:\n",
    "                # само слово и нграммы хранятся в одном списке \n",
    "                # но слово будет всегда первым в списке\n",
    "                filtered.append(full_token)\n",
    "            filtered.extend([subtoken for subtoken in set(sub_tokens) if subtoken in self.vocab])\n",
    "            only_vocab_tokens_with_subwords.append(filtered)\n",
    "\n",
    "        return only_vocab_tokens_with_subwords\n",
    "\n",
    "    def encode(self, subword_tokenized_text):\n",
    "        # маппим токены и нграммы в их индексы в словаре\n",
    "        encoded_text = []\n",
    "        for token in subword_tokenized_text:\n",
    "            if not token:\n",
    "                continue\n",
    "            encoded_text.append([self.word2id[token[0]]] + [self.word2id[t] for t in set(token[1:]) if t in self.word2id and t != token[0]])\n",
    "        return encoded_text\n",
    "\n",
    "    def __call__(self, text):\n",
    "        return self.encode(self.subword_tokenize(text))\n"
   ]
  },
  {
   "cell_type": "code",
   "execution_count": 89,
   "id": "b673c495",
   "metadata": {},
   "outputs": [],
   "source": [
    "tokenizer = SubwordTokenizer(ngram_range=(2,4), min_count=10)"
   ]
  },
  {
   "cell_type": "code",
   "execution_count": 90,
   "id": "b678290a",
   "metadata": {},
   "outputs": [],
   "source": [
    "tokenizer.build_vocab(wiki)"
   ]
  },
  {
   "cell_type": "code",
   "execution_count": 99,
   "id": "d437a8c0",
   "metadata": {},
   "outputs": [],
   "source": [
    "def neg_gen_batches_ft(sentences, tokenizer, window = 5, batch_size=1000, maxlen=20):\n",
    "    \n",
    "    vocab_size= len(tokenizer.vocab)\n",
    "    left_context_length = (window/2).__ceil__() \n",
    "    right_context_length = window // 2 \n",
    "    \n",
    "    while True:\n",
    "        X_target = []\n",
    "        X_context = []\n",
    "        y = []\n",
    "\n",
    "        for sent in sentences:\n",
    "            sent = tokenizer(sent)\n",
    "            for i in range(len(sent)-1):\n",
    "                word_with_subtokens = sent[i]\n",
    "                context = sent[max(0, i-left_context_length):i] + sent[i+1:i+right_context_length]\n",
    "                for context_word_with_subtokens in context:\n",
    "                    # целевой токен всегда только целый\n",
    "                    # мы берем первый токен из списка который вернул токенайзер\n",
    "                    # там у нас будет лежать целое слово\n",
    "                    only_full_word_context_token = context_word_with_subtokens[0]\n",
    "                    X_target.append(word_with_subtokens)\n",
    "                    X_context.append(only_full_word_context_token )\n",
    "                    y.append(1)\n",
    "                    \n",
    "                    X_target.append(word_with_subtokens)\n",
    "                    X_context.append(np.random.randint(vocab_size))\n",
    "                    y.append(0)\n",
    "                    \n",
    "                    if len(X_target) >= batch_size:\n",
    "                        # тут нам понадобится паддинг так как количество сивольных нграммов будет зависеть от длины токенов\n",
    "                        X_target = np.array(keras.preprocessing.sequence.pad_sequences(X_target, maxlen=maxlen))\n",
    "                        X_context = np.array(X_context)\n",
    "                        y = np.array(y)\n",
    "                        yield ((X_target, X_context), y)\n",
    "                        X_target = []\n",
    "                        X_context = []\n",
    "                        y = []"
   ]
  },
  {
   "cell_type": "code",
   "execution_count": 133,
   "id": "630203d5",
   "metadata": {},
   "outputs": [],
   "source": [
    "gen = neg_gen_batches_ft(wiki, tokenizer, batch_size=5)"
   ]
  },
  {
   "cell_type": "code",
   "execution_count": 135,
   "id": "945a58c8",
   "metadata": {},
   "outputs": [],
   "source": [
    "inputs_target = keras.layers.Input(shape=(20,))\n",
    "inputs_context = keras.layers.Input(shape=(1,))\n",
    "\n",
    "\n",
    "embeddings_target = keras.layers.Embedding(input_dim=len(tokenizer.vocab), output_dim=100)(inputs_target, )\n",
    "embeddings_context = keras.layers.Embedding(input_dim=len(tokenizer.vocab), output_dim=100)(inputs_context, )\n",
    "\n",
    "target = keras.layers.Lambda(lambda x: x.sum(axis=1))(embeddings_target)\n",
    "context = keras.layers.Lambda(lambda x: x.sum(axis=1))(embeddings_context)\n",
    "dot = keras.layers.Dot(1)([target, context])\n",
    "\n",
    "# полученную близость нужно преобразовать в вероятность\n",
    "# когда она одна используется не софтмакс и сигмоида\n",
    "outputs = keras.layers.Activation(activation='sigmoid')(dot)\n",
    "\n",
    "model = keras.Model(inputs=[inputs_target, inputs_context], \n",
    "                       outputs=outputs)\n",
    "\n",
    "\n",
    "optimizer = keras.optimizers.Adam(learning_rate=0.001)\n",
    "model.compile(optimizer=optimizer,\n",
    "              loss='binary_crossentropy',\n",
    "              metrics=['accuracy'])"
   ]
  },
  {
   "cell_type": "code",
   "execution_count": 136,
   "id": "a626e6c4",
   "metadata": {},
   "outputs": [],
   "source": [
    "model.build((None, 10))"
   ]
  },
  {
   "cell_type": "code",
   "execution_count": 137,
   "id": "3b689627",
   "metadata": {},
   "outputs": [
    {
     "data": {
      "text/html": [
       "<pre style=\"white-space:pre;overflow-x:auto;line-height:normal;font-family:Menlo,'DejaVu Sans Mono',consolas,'Courier New',monospace\"><span style=\"font-weight: bold\">Model: \"functional_13\"</span>\n",
       "</pre>\n"
      ],
      "text/plain": [
       "\u001b[1mModel: \"functional_13\"\u001b[0m\n"
      ]
     },
     "metadata": {},
     "output_type": "display_data"
    },
    {
     "data": {
      "text/html": [
       "<pre style=\"white-space:pre;overflow-x:auto;line-height:normal;font-family:Menlo,'DejaVu Sans Mono',consolas,'Courier New',monospace\">┏━━━━━━━━━━━━━━━━━━━━━┳━━━━━━━━━━━━━━━━━━━┳━━━━━━━━━━━━┳━━━━━━━━━━━━━━━━━━━┓\n",
       "┃<span style=\"font-weight: bold\"> Layer (type)        </span>┃<span style=\"font-weight: bold\"> Output Shape      </span>┃<span style=\"font-weight: bold\">    Param # </span>┃<span style=\"font-weight: bold\"> Connected to      </span>┃\n",
       "┡━━━━━━━━━━━━━━━━━━━━━╇━━━━━━━━━━━━━━━━━━━╇━━━━━━━━━━━━╇━━━━━━━━━━━━━━━━━━━┩\n",
       "│ input_layer_42      │ (<span style=\"color: #00d7ff; text-decoration-color: #00d7ff\">None</span>, <span style=\"color: #00af00; text-decoration-color: #00af00\">20</span>)        │          <span style=\"color: #00af00; text-decoration-color: #00af00\">0</span> │ -                 │\n",
       "│ (<span style=\"color: #0087ff; text-decoration-color: #0087ff\">InputLayer</span>)        │                   │            │                   │\n",
       "├─────────────────────┼───────────────────┼────────────┼───────────────────┤\n",
       "│ input_layer_43      │ (<span style=\"color: #00d7ff; text-decoration-color: #00d7ff\">None</span>, <span style=\"color: #00af00; text-decoration-color: #00af00\">1</span>)         │          <span style=\"color: #00af00; text-decoration-color: #00af00\">0</span> │ -                 │\n",
       "│ (<span style=\"color: #0087ff; text-decoration-color: #0087ff\">InputLayer</span>)        │                   │            │                   │\n",
       "├─────────────────────┼───────────────────┼────────────┼───────────────────┤\n",
       "│ embedding_42        │ (<span style=\"color: #00d7ff; text-decoration-color: #00d7ff\">None</span>, <span style=\"color: #00af00; text-decoration-color: #00af00\">20</span>, <span style=\"color: #00af00; text-decoration-color: #00af00\">100</span>)   │  <span style=\"color: #00af00; text-decoration-color: #00af00\">5,486,000</span> │ input_layer_42[<span style=\"color: #00af00; text-decoration-color: #00af00\">0</span>… │\n",
       "│ (<span style=\"color: #0087ff; text-decoration-color: #0087ff\">Embedding</span>)         │                   │            │                   │\n",
       "├─────────────────────┼───────────────────┼────────────┼───────────────────┤\n",
       "│ embedding_43        │ (<span style=\"color: #00d7ff; text-decoration-color: #00d7ff\">None</span>, <span style=\"color: #00af00; text-decoration-color: #00af00\">1</span>, <span style=\"color: #00af00; text-decoration-color: #00af00\">100</span>)    │  <span style=\"color: #00af00; text-decoration-color: #00af00\">5,486,000</span> │ input_layer_43[<span style=\"color: #00af00; text-decoration-color: #00af00\">0</span>… │\n",
       "│ (<span style=\"color: #0087ff; text-decoration-color: #0087ff\">Embedding</span>)         │                   │            │                   │\n",
       "├─────────────────────┼───────────────────┼────────────┼───────────────────┤\n",
       "│ lambda_26 (<span style=\"color: #0087ff; text-decoration-color: #0087ff\">Lambda</span>)  │ (<span style=\"color: #00d7ff; text-decoration-color: #00d7ff\">None</span>, <span style=\"color: #00af00; text-decoration-color: #00af00\">100</span>)       │          <span style=\"color: #00af00; text-decoration-color: #00af00\">0</span> │ embedding_42[<span style=\"color: #00af00; text-decoration-color: #00af00\">0</span>][<span style=\"color: #00af00; text-decoration-color: #00af00\">…</span> │\n",
       "├─────────────────────┼───────────────────┼────────────┼───────────────────┤\n",
       "│ lambda_27 (<span style=\"color: #0087ff; text-decoration-color: #0087ff\">Lambda</span>)  │ (<span style=\"color: #00d7ff; text-decoration-color: #00d7ff\">None</span>, <span style=\"color: #00af00; text-decoration-color: #00af00\">100</span>)       │          <span style=\"color: #00af00; text-decoration-color: #00af00\">0</span> │ embedding_43[<span style=\"color: #00af00; text-decoration-color: #00af00\">0</span>][<span style=\"color: #00af00; text-decoration-color: #00af00\">…</span> │\n",
       "├─────────────────────┼───────────────────┼────────────┼───────────────────┤\n",
       "│ dot_21 (<span style=\"color: #0087ff; text-decoration-color: #0087ff\">Dot</span>)        │ (<span style=\"color: #00d7ff; text-decoration-color: #00d7ff\">None</span>, <span style=\"color: #00af00; text-decoration-color: #00af00\">1</span>)         │          <span style=\"color: #00af00; text-decoration-color: #00af00\">0</span> │ lambda_26[<span style=\"color: #00af00; text-decoration-color: #00af00\">0</span>][<span style=\"color: #00af00; text-decoration-color: #00af00\">0</span>],  │\n",
       "│                     │                   │            │ lambda_27[<span style=\"color: #00af00; text-decoration-color: #00af00\">0</span>][<span style=\"color: #00af00; text-decoration-color: #00af00\">0</span>]   │\n",
       "├─────────────────────┼───────────────────┼────────────┼───────────────────┤\n",
       "│ activation_13       │ (<span style=\"color: #00d7ff; text-decoration-color: #00d7ff\">None</span>, <span style=\"color: #00af00; text-decoration-color: #00af00\">1</span>)         │          <span style=\"color: #00af00; text-decoration-color: #00af00\">0</span> │ dot_21[<span style=\"color: #00af00; text-decoration-color: #00af00\">0</span>][<span style=\"color: #00af00; text-decoration-color: #00af00\">0</span>]      │\n",
       "│ (<span style=\"color: #0087ff; text-decoration-color: #0087ff\">Activation</span>)        │                   │            │                   │\n",
       "└─────────────────────┴───────────────────┴────────────┴───────────────────┘\n",
       "</pre>\n"
      ],
      "text/plain": [
       "┏━━━━━━━━━━━━━━━━━━━━━┳━━━━━━━━━━━━━━━━━━━┳━━━━━━━━━━━━┳━━━━━━━━━━━━━━━━━━━┓\n",
       "┃\u001b[1m \u001b[0m\u001b[1mLayer (type)       \u001b[0m\u001b[1m \u001b[0m┃\u001b[1m \u001b[0m\u001b[1mOutput Shape     \u001b[0m\u001b[1m \u001b[0m┃\u001b[1m \u001b[0m\u001b[1m   Param #\u001b[0m\u001b[1m \u001b[0m┃\u001b[1m \u001b[0m\u001b[1mConnected to     \u001b[0m\u001b[1m \u001b[0m┃\n",
       "┡━━━━━━━━━━━━━━━━━━━━━╇━━━━━━━━━━━━━━━━━━━╇━━━━━━━━━━━━╇━━━━━━━━━━━━━━━━━━━┩\n",
       "│ input_layer_42      │ (\u001b[38;5;45mNone\u001b[0m, \u001b[38;5;34m20\u001b[0m)        │          \u001b[38;5;34m0\u001b[0m │ -                 │\n",
       "│ (\u001b[38;5;33mInputLayer\u001b[0m)        │                   │            │                   │\n",
       "├─────────────────────┼───────────────────┼────────────┼───────────────────┤\n",
       "│ input_layer_43      │ (\u001b[38;5;45mNone\u001b[0m, \u001b[38;5;34m1\u001b[0m)         │          \u001b[38;5;34m0\u001b[0m │ -                 │\n",
       "│ (\u001b[38;5;33mInputLayer\u001b[0m)        │                   │            │                   │\n",
       "├─────────────────────┼───────────────────┼────────────┼───────────────────┤\n",
       "│ embedding_42        │ (\u001b[38;5;45mNone\u001b[0m, \u001b[38;5;34m20\u001b[0m, \u001b[38;5;34m100\u001b[0m)   │  \u001b[38;5;34m5,486,000\u001b[0m │ input_layer_42[\u001b[38;5;34m0\u001b[0m… │\n",
       "│ (\u001b[38;5;33mEmbedding\u001b[0m)         │                   │            │                   │\n",
       "├─────────────────────┼───────────────────┼────────────┼───────────────────┤\n",
       "│ embedding_43        │ (\u001b[38;5;45mNone\u001b[0m, \u001b[38;5;34m1\u001b[0m, \u001b[38;5;34m100\u001b[0m)    │  \u001b[38;5;34m5,486,000\u001b[0m │ input_layer_43[\u001b[38;5;34m0\u001b[0m… │\n",
       "│ (\u001b[38;5;33mEmbedding\u001b[0m)         │                   │            │                   │\n",
       "├─────────────────────┼───────────────────┼────────────┼───────────────────┤\n",
       "│ lambda_26 (\u001b[38;5;33mLambda\u001b[0m)  │ (\u001b[38;5;45mNone\u001b[0m, \u001b[38;5;34m100\u001b[0m)       │          \u001b[38;5;34m0\u001b[0m │ embedding_42[\u001b[38;5;34m0\u001b[0m][\u001b[38;5;34m…\u001b[0m │\n",
       "├─────────────────────┼───────────────────┼────────────┼───────────────────┤\n",
       "│ lambda_27 (\u001b[38;5;33mLambda\u001b[0m)  │ (\u001b[38;5;45mNone\u001b[0m, \u001b[38;5;34m100\u001b[0m)       │          \u001b[38;5;34m0\u001b[0m │ embedding_43[\u001b[38;5;34m0\u001b[0m][\u001b[38;5;34m…\u001b[0m │\n",
       "├─────────────────────┼───────────────────┼────────────┼───────────────────┤\n",
       "│ dot_21 (\u001b[38;5;33mDot\u001b[0m)        │ (\u001b[38;5;45mNone\u001b[0m, \u001b[38;5;34m1\u001b[0m)         │          \u001b[38;5;34m0\u001b[0m │ lambda_26[\u001b[38;5;34m0\u001b[0m][\u001b[38;5;34m0\u001b[0m],  │\n",
       "│                     │                   │            │ lambda_27[\u001b[38;5;34m0\u001b[0m][\u001b[38;5;34m0\u001b[0m]   │\n",
       "├─────────────────────┼───────────────────┼────────────┼───────────────────┤\n",
       "│ activation_13       │ (\u001b[38;5;45mNone\u001b[0m, \u001b[38;5;34m1\u001b[0m)         │          \u001b[38;5;34m0\u001b[0m │ dot_21[\u001b[38;5;34m0\u001b[0m][\u001b[38;5;34m0\u001b[0m]      │\n",
       "│ (\u001b[38;5;33mActivation\u001b[0m)        │                   │            │                   │\n",
       "└─────────────────────┴───────────────────┴────────────┴───────────────────┘\n"
      ]
     },
     "metadata": {},
     "output_type": "display_data"
    },
    {
     "data": {
      "text/html": [
       "<pre style=\"white-space:pre;overflow-x:auto;line-height:normal;font-family:Menlo,'DejaVu Sans Mono',consolas,'Courier New',monospace\"><span style=\"font-weight: bold\"> Total params: </span><span style=\"color: #00af00; text-decoration-color: #00af00\">10,972,000</span> (41.85 MB)\n",
       "</pre>\n"
      ],
      "text/plain": [
       "\u001b[1m Total params: \u001b[0m\u001b[38;5;34m10,972,000\u001b[0m (41.85 MB)\n"
      ]
     },
     "metadata": {},
     "output_type": "display_data"
    },
    {
     "data": {
      "text/html": [
       "<pre style=\"white-space:pre;overflow-x:auto;line-height:normal;font-family:Menlo,'DejaVu Sans Mono',consolas,'Courier New',monospace\"><span style=\"font-weight: bold\"> Trainable params: </span><span style=\"color: #00af00; text-decoration-color: #00af00\">10,972,000</span> (41.85 MB)\n",
       "</pre>\n"
      ],
      "text/plain": [
       "\u001b[1m Trainable params: \u001b[0m\u001b[38;5;34m10,972,000\u001b[0m (41.85 MB)\n"
      ]
     },
     "metadata": {},
     "output_type": "display_data"
    },
    {
     "data": {
      "text/html": [
       "<pre style=\"white-space:pre;overflow-x:auto;line-height:normal;font-family:Menlo,'DejaVu Sans Mono',consolas,'Courier New',monospace\"><span style=\"font-weight: bold\"> Non-trainable params: </span><span style=\"color: #00af00; text-decoration-color: #00af00\">0</span> (0.00 B)\n",
       "</pre>\n"
      ],
      "text/plain": [
       "\u001b[1m Non-trainable params: \u001b[0m\u001b[38;5;34m0\u001b[0m (0.00 B)\n"
      ]
     },
     "metadata": {},
     "output_type": "display_data"
    }
   ],
   "source": [
    "model.summary()"
   ]
  },
  {
   "cell_type": "code",
   "execution_count": 139,
   "id": "5936742d",
   "metadata": {},
   "outputs": [
    {
     "name": "stdout",
     "output_type": "stream",
     "text": [
      "Epoch 1/10\n",
      "\u001b[1m5000/5000\u001b[0m \u001b[32m━━━━━━━━━━━━━━━━━━━━\u001b[0m\u001b[37m\u001b[0m \u001b[1m140s\u001b[0m 28ms/step - accuracy: 0.8797 - loss: 0.3014 - val_accuracy: 0.7573 - val_loss: 0.5463\n",
      "Epoch 2/10\n",
      "\u001b[1m5000/5000\u001b[0m \u001b[32m━━━━━━━━━━━━━━━━━━━━\u001b[0m\u001b[37m\u001b[0m \u001b[1m140s\u001b[0m 28ms/step - accuracy: 0.8270 - loss: 0.4083 - val_accuracy: 0.7617 - val_loss: 0.5236\n",
      "Epoch 3/10\n",
      "\u001b[1m5000/5000\u001b[0m \u001b[32m━━━━━━━━━━━━━━━━━━━━\u001b[0m\u001b[37m\u001b[0m \u001b[1m142s\u001b[0m 28ms/step - accuracy: 0.8052 - loss: 0.4434 - val_accuracy: 0.7604 - val_loss: 0.5061\n",
      "Epoch 4/10\n",
      "\u001b[1m5000/5000\u001b[0m \u001b[32m━━━━━━━━━━━━━━━━━━━━\u001b[0m\u001b[37m\u001b[0m \u001b[1m144s\u001b[0m 29ms/step - accuracy: 0.8074 - loss: 0.4398 - val_accuracy: 0.7811 - val_loss: 0.5195\n",
      "Epoch 5/10\n",
      "\u001b[1m5000/5000\u001b[0m \u001b[32m━━━━━━━━━━━━━━━━━━━━\u001b[0m\u001b[37m\u001b[0m \u001b[1m143s\u001b[0m 29ms/step - accuracy: 0.8143 - loss: 0.4285 - val_accuracy: 0.7821 - val_loss: 0.5141\n",
      "Epoch 6/10\n",
      "\u001b[1m5000/5000\u001b[0m \u001b[32m━━━━━━━━━━━━━━━━━━━━\u001b[0m\u001b[37m\u001b[0m \u001b[1m144s\u001b[0m 29ms/step - accuracy: 0.8073 - loss: 0.4442 - val_accuracy: 0.7762 - val_loss: 0.5035\n",
      "Epoch 7/10\n",
      "\u001b[1m5000/5000\u001b[0m \u001b[32m━━━━━━━━━━━━━━━━━━━━\u001b[0m\u001b[37m\u001b[0m \u001b[1m144s\u001b[0m 29ms/step - accuracy: 0.8035 - loss: 0.4549 - val_accuracy: 0.7403 - val_loss: 0.5777\n",
      "Epoch 8/10\n",
      "\u001b[1m5000/5000\u001b[0m \u001b[32m━━━━━━━━━━━━━━━━━━━━\u001b[0m\u001b[37m\u001b[0m \u001b[1m145s\u001b[0m 29ms/step - accuracy: 0.7977 - loss: 0.4653 - val_accuracy: 0.7629 - val_loss: 0.5665\n",
      "Epoch 9/10\n",
      "\u001b[1m5000/5000\u001b[0m \u001b[32m━━━━━━━━━━━━━━━━━━━━\u001b[0m\u001b[37m\u001b[0m \u001b[1m146s\u001b[0m 29ms/step - accuracy: 0.8112 - loss: 0.4461 - val_accuracy: 0.7627 - val_loss: 0.5355\n",
      "Epoch 10/10\n",
      "\u001b[1m5000/5000\u001b[0m \u001b[32m━━━━━━━━━━━━━━━━━━━━\u001b[0m\u001b[37m\u001b[0m \u001b[1m146s\u001b[0m 29ms/step - accuracy: 0.8035 - loss: 0.4603 - val_accuracy: 0.7869 - val_loss: 0.5088\n"
     ]
    },
    {
     "data": {
      "text/plain": [
       "<keras.src.callbacks.history.History at 0x1e572cdb5f0>"
      ]
     },
     "execution_count": 139,
     "metadata": {},
     "output_type": "execute_result"
    }
   ],
   "source": [
    "model.fit(neg_gen_batches_ft(wiki[:19000],tokenizer, window=10, batch_size=100),\n",
    "          validation_data=neg_gen_batches_ft(wiki[19000:], tokenizer, window=10, batch_size=100),\n",
    "          batch_size=1000,\n",
    "          steps_per_epoch=5000,\n",
    "          validation_steps=100,\n",
    "          epochs=10)"
   ]
  },
  {
   "cell_type": "code",
   "execution_count": 140,
   "id": "296ada83",
   "metadata": {},
   "outputs": [
    {
     "name": "stdout",
     "output_type": "stream",
     "text": [
      "dict_keys(['accuracy', 'loss', 'val_accuracy', 'val_loss'])\n"
     ]
    },
    {
     "data": {
      "image/png": "[encoded data removed]",
      "text/plain": [
       "<Figure size 640x480 with 1 Axes>"
      ]
     },
     "metadata": {},
     "output_type": "display_data"
    }
   ],
   "source": [
    "print(model.history.history.keys())\n",
    "# summarize history for accuracy\n",
    "plt.plot(model.history.history['loss'])\n",
    "plt.plot(model.history.history['val_loss'])\n",
    "plt.title('model loss')\n",
    "plt.ylabel('loss')\n",
    "plt.xlabel('epoch')\n",
    "plt.legend(['train', 'val'], loc='upper left')\n",
    "plt.show()"
   ]
  },
  {
   "cell_type": "code",
   "execution_count": 144,
   "id": "1cedf2a2",
   "metadata": {},
   "outputs": [],
   "source": [
    "embeddings = model.layers[2].get_weights()[0] # матрица со всеми эмбедингами"
   ]
  },
  {
   "cell_type": "code",
   "execution_count": 145,
   "id": "83957e0d",
   "metadata": {},
   "outputs": [],
   "source": [
    "full_word_embeddings = np.zeros((len(tokenizer.fullword_vocab), 100)) # матрица с эмбедингами полных слов + нграммы\n",
    "id2word = list(tokenizer.fullword_vocab)\n",
    "\n",
    "for i, word in enumerate(tokenizer.fullword_vocab):\n",
    "    subwords = tokenizer(word)[0]\n",
    "    full_word_embeddings[i] = embeddings[[i for i in subwords]].mean(axis=0) "
   ]
  },
  {
   "cell_type": "code",
   "execution_count": 146,
   "id": "c1210287",
   "metadata": {},
   "outputs": [],
   "source": [
    "def most_similar_ft(word, embeddings, tokenizer):\n",
    "    subwords = tokenizer(word)[0]\n",
    "    word_embedding = embeddings[[i for i in subwords]].sum(axis=0)\n",
    "    # idxs = [tokenizer.word2id[i] for i in tokenizer.fullword_vocab]\n",
    "    similar = [id2word[i] for i in \n",
    "               cosine_distances(word_embedding.reshape(1, -1), full_word_embeddings).argsort()[0][:20]]\n",
    "    return similar"
   ]
  },
  {
   "cell_type": "code",
   "execution_count": 147,
   "id": "e4cab855",
   "metadata": {},
   "outputs": [
    {
     "data": {
      "text/plain": [
       "['жизнь',\n",
       " '«жизнь',\n",
       " 'жизнь»',\n",
       " 'жизнью',\n",
       " 'жизни»',\n",
       " 'жизни',\n",
       " 'жизненно',\n",
       " 'жизней',\n",
       " 'жизненной',\n",
       " 'жизненного',\n",
       " 'жизненные',\n",
       " 'жизненных',\n",
       " 'жизненный',\n",
       " 'жирным',\n",
       " 'собственниками',\n",
       " 'внутренними',\n",
       " 'предлагается',\n",
       " 'казнь',\n",
       " 'драго',\n",
       " 'предлагает']"
      ]
     },
     "execution_count": 147,
     "metadata": {},
     "output_type": "execute_result"
    }
   ],
   "source": [
    "most_similar_ft('жизнь', embeddings, tokenizer)"
   ]
  }
 ],
 "metadata": {
  "kernelspec": {
   "display_name": "Python 3",
   "language": "python",
   "name": "python3"
  },
  "language_info": {
   "codemirror_mode": {
    "name": "ipython",
    "version": 3
   },
   "file_extension": ".py",
   "mimetype": "text/x-python",
   "name": "python",
   "nbconvert_exporter": "python",
   "pygments_lexer": "ipython3",
   "version": "3.12.6"
  }
 },
 "nbformat": 4,
 "nbformat_minor": 5
}
