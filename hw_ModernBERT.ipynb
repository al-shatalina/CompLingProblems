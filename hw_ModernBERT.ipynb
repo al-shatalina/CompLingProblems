{
  "cells": [
    {
      "cell_type": "markdown",
      "id": "1dba7c0d",
      "metadata": {
        "id": "1dba7c0d"
      },
      "source": [
        "# Домашнее задание № 9"
      ]
    },
    {
      "cell_type": "markdown",
      "id": "c0fb51a4",
      "metadata": {
        "id": "c0fb51a4"
      },
      "source": [
        "### Задание 1 (10 баллов).\n",
        "Это задание основано на этой тетрадке - https://github.com/mannefedov/compling_nlp_hse_course/blob/master/notebooks/transfer_learning_hg/Fine_tunining_pretrained_LMs_torch.ipynb\n",
        "\n",
        "На датасете lenta_sample.ru  дообучите две модели - modernbert-base (из семинара) и rumodernbert-base (https://huggingface.co/deepvk/RuModernBERT-base). Оцените разницу в качестве сравнив поклассовые метрики (classification_report)\n",
        "\n",
        "Для обоих моделей качество должно быть >0.10 по f-мере (прогоните несколько экспериментов если у вас получаются нули, изменяя параметры).\n",
        "Также для обоих моделей попробуйте дообучать модель и целиком и дообучать только последний слой.\n",
        "Для RuModernBERT дополнительно сравните модель, которая использует первый вектор (cls токен, как в семинаре), так и усредненный вектор по всем hidden_state, который выдает bert.\n",
        "\n",
        "\n"
      ]
    },
    {
      "cell_type": "code",
      "execution_count": 1,
      "id": "9deb7969",
      "metadata": {
        "colab": {
          "base_uri": "https://localhost:8080/"
        },
        "id": "9deb7969",
        "outputId": "5bfda8ce-a446-49a5-c53a-3283753d5c2a"
      },
      "outputs": [
        {
          "output_type": "stream",
          "name": "stdout",
          "text": [
            "3.8.0\n"
          ]
        }
      ],
      "source": [
        "import os\n",
        "os.environ[\"KERAS_BACKEND\"] = \"torch\"\n",
        "\n",
        "import keras\n",
        "print(keras.__version__)"
      ]
    },
    {
      "cell_type": "code",
      "execution_count": 2,
      "id": "2444e3fe",
      "metadata": {
        "id": "2444e3fe"
      },
      "outputs": [],
      "source": [
        "import os, re\n",
        "import numpy as np\n",
        "from time import time\n",
        "from sklearn.model_selection import train_test_split\n",
        "import pandas as pd\n",
        "from collections import Counter\n",
        "from string import punctuation\n",
        "import matplotlib.pyplot as plt\n",
        "%matplotlib inline\n",
        "\n",
        "\n",
        "import keras, torch\n",
        "from transformers import AutoModel\n",
        "from transformers import AutoTokenizer\n",
        "from transformers import AutoModelForMaskedLM\n",
        "\n",
        "from tqdm.auto import tqdm\n",
        "import numpy as np\n",
        "from sklearn.neighbors import KNeighborsClassifier\n",
        "from sklearn.linear_model import SGDClassifier\n",
        "from sklearn.feature_extraction.text import TfidfVectorizer\n",
        "from sklearn.metrics import classification_report\n",
        "\n",
        "import torch\n",
        "import torch.nn as nn\n",
        "import torch.nn.functional as F\n",
        "import torch.optim as optim\n",
        "import torch.utils.data"
      ]
    },
    {
      "cell_type": "code",
      "execution_count": 4,
      "id": "89337e4b",
      "metadata": {
        "id": "89337e4b"
      },
      "outputs": [],
      "source": [
        "data = pd.read_csv('lenta_sample.csv')"
      ]
    },
    {
      "cell_type": "code",
      "execution_count": null,
      "id": "b3fc777d",
      "metadata": {
        "colab": {
          "base_uri": "https://localhost:8080/",
          "height": 206
        },
        "id": "b3fc777d",
        "outputId": "6b439e9d-ab8e-4fee-8a06-b544988a321a"
      },
      "outputs": [
        {
          "output_type": "execute_result",
          "data": {
            "text/plain": [
              "                                           url  \\\n",
              "0  https://lenta.ru/news/2010/12/16/passports/   \n",
              "1    https://lenta.ru/news/2014/05/19/student/   \n",
              "2      https://lenta.ru/news/2008/09/27/catch/   \n",
              "3     https://lenta.ru/news/2009/07/23/refuse/   \n",
              "4    https://lenta.ru/news/2012/09/29/factory/   \n",
              "\n",
              "                                               title  \\\n",
              "0     Московская милиция ужесточила паспортный режим   \n",
              "1  Московского студента ограбили на 6 миллионов р...   \n",
              "2          В Ставропольском крае обезврежены боевики   \n",
              "3  Лужков отказался трудоустраивать китайцев с Че...   \n",
              "4     По факту пожара на заводе в Югре заведено дело   \n",
              "\n",
              "                                                text   topic tags        date  \n",
              "0  В Москве после серии массовых беспорядков на н...  Россия  Все  2010/12/16  \n",
              "1  Неизвестные вынесли из квартиры московского ст...  Россия  NaN  2014/05/19  \n",
              "2  В Ставропольском крае задержаны боевики, котор...  Россия  Все  2008/09/27  \n",
              "3  Мэр Москвы Юрий Лужков заявил, что не намерен ...  Россия  Все  2009/07/23  \n",
              "4  Следственный комитет России возбудил уголовное...  Россия  Все  2012/09/29  "
            ],
            "text/html": [
              "\n",
              "  <div id=\"df-a5e7f954-8e4d-4231-baaf-1a112f332071\" class=\"colab-df-container\">\n",
              "    <div>\n",
              "<style scoped>\n",
              "    .dataframe tbody tr th:only-of-type {\n",
              "        vertical-align: middle;\n",
              "    }\n",
              "\n",
              "    .dataframe tbody tr th {\n",
              "        vertical-align: top;\n",
              "    }\n",
              "\n",
              "    .dataframe thead th {\n",
              "        text-align: right;\n",
              "    }\n",
              "</style>\n",
              "<table border=\"1\" class=\"dataframe\">\n",
              "  <thead>\n",
              "    <tr style=\"text-align: right;\">\n",
              "      <th></th>\n",
              "      <th>url</th>\n",
              "      <th>title</th>\n",
              "      <th>text</th>\n",
              "      <th>topic</th>\n",
              "      <th>tags</th>\n",
              "      <th>date</th>\n",
              "    </tr>\n",
              "  </thead>\n",
              "  <tbody>\n",
              "    <tr>\n",
              "      <th>0</th>\n",
              "      <td>https://lenta.ru/news/2010/12/16/passports/</td>\n",
              "      <td>Московская милиция ужесточила паспортный режим</td>\n",
              "      <td>В Москве после серии массовых беспорядков на н...</td>\n",
              "      <td>Россия</td>\n",
              "      <td>Все</td>\n",
              "      <td>2010/12/16</td>\n",
              "    </tr>\n",
              "    <tr>\n",
              "      <th>1</th>\n",
              "      <td>https://lenta.ru/news/2014/05/19/student/</td>\n",
              "      <td>Московского студента ограбили на 6 миллионов р...</td>\n",
              "      <td>Неизвестные вынесли из квартиры московского ст...</td>\n",
              "      <td>Россия</td>\n",
              "      <td>NaN</td>\n",
              "      <td>2014/05/19</td>\n",
              "    </tr>\n",
              "    <tr>\n",
              "      <th>2</th>\n",
              "      <td>https://lenta.ru/news/2008/09/27/catch/</td>\n",
              "      <td>В Ставропольском крае обезврежены боевики</td>\n",
              "      <td>В Ставропольском крае задержаны боевики, котор...</td>\n",
              "      <td>Россия</td>\n",
              "      <td>Все</td>\n",
              "      <td>2008/09/27</td>\n",
              "    </tr>\n",
              "    <tr>\n",
              "      <th>3</th>\n",
              "      <td>https://lenta.ru/news/2009/07/23/refuse/</td>\n",
              "      <td>Лужков отказался трудоустраивать китайцев с Че...</td>\n",
              "      <td>Мэр Москвы Юрий Лужков заявил, что не намерен ...</td>\n",
              "      <td>Россия</td>\n",
              "      <td>Все</td>\n",
              "      <td>2009/07/23</td>\n",
              "    </tr>\n",
              "    <tr>\n",
              "      <th>4</th>\n",
              "      <td>https://lenta.ru/news/2012/09/29/factory/</td>\n",
              "      <td>По факту пожара на заводе в Югре заведено дело</td>\n",
              "      <td>Следственный комитет России возбудил уголовное...</td>\n",
              "      <td>Россия</td>\n",
              "      <td>Все</td>\n",
              "      <td>2012/09/29</td>\n",
              "    </tr>\n",
              "  </tbody>\n",
              "</table>\n",
              "</div>\n",
              "    <div class=\"colab-df-buttons\">\n",
              "\n",
              "  <div class=\"colab-df-container\">\n",
              "    <button class=\"colab-df-convert\" onclick=\"convertToInteractive('df-a5e7f954-8e4d-4231-baaf-1a112f332071')\"\n",
              "            title=\"Convert this dataframe to an interactive table.\"\n",
              "            style=\"display:none;\">\n",
              "\n",
              "  <svg xmlns=\"http://www.w3.org/2000/svg\" height=\"24px\" viewBox=\"0 -960 960 960\">\n",
              "    <path d=\"M120-120v-720h720v720H120Zm60-500h600v-160H180v160Zm220 220h160v-160H400v160Zm0 220h160v-160H400v160ZM180-400h160v-160H180v160Zm440 0h160v-160H620v160ZM180-180h160v-160H180v160Zm440 0h160v-160H620v160Z\"/>\n",
              "  </svg>\n",
              "    </button>\n",
              "\n",
              "  <style>\n",
              "    .colab-df-container {\n",
              "      display:flex;\n",
              "      gap: 12px;\n",
              "    }\n",
              "\n",
              "    .colab-df-convert {\n",
              "      background-color: #E8F0FE;\n",
              "      border: none;\n",
              "      border-radius: 50%;\n",
              "      cursor: pointer;\n",
              "      display: none;\n",
              "      fill: #1967D2;\n",
              "      height: 32px;\n",
              "      padding: 0 0 0 0;\n",
              "      width: 32px;\n",
              "    }\n",
              "\n",
              "    .colab-df-convert:hover {\n",
              "      background-color: #E2EBFA;\n",
              "      box-shadow: 0px 1px 2px rgba(60, 64, 67, 0.3), 0px 1px 3px 1px rgba(60, 64, 67, 0.15);\n",
              "      fill: #174EA6;\n",
              "    }\n",
              "\n",
              "    .colab-df-buttons div {\n",
              "      margin-bottom: 4px;\n",
              "    }\n",
              "\n",
              "    [theme=dark] .colab-df-convert {\n",
              "      background-color: #3B4455;\n",
              "      fill: #D2E3FC;\n",
              "    }\n",
              "\n",
              "    [theme=dark] .colab-df-convert:hover {\n",
              "      background-color: #434B5C;\n",
              "      box-shadow: 0px 1px 3px 1px rgba(0, 0, 0, 0.15);\n",
              "      filter: drop-shadow(0px 1px 2px rgba(0, 0, 0, 0.3));\n",
              "      fill: #FFFFFF;\n",
              "    }\n",
              "  </style>\n",
              "\n",
              "    <script>\n",
              "      const buttonEl =\n",
              "        document.querySelector('#df-a5e7f954-8e4d-4231-baaf-1a112f332071 button.colab-df-convert');\n",
              "      buttonEl.style.display =\n",
              "        google.colab.kernel.accessAllowed ? 'block' : 'none';\n",
              "\n",
              "      async function convertToInteractive(key) {\n",
              "        const element = document.querySelector('#df-a5e7f954-8e4d-4231-baaf-1a112f332071');\n",
              "        const dataTable =\n",
              "          await google.colab.kernel.invokeFunction('convertToInteractive',\n",
              "                                                    [key], {});\n",
              "        if (!dataTable) return;\n",
              "\n",
              "        const docLinkHtml = 'Like what you see? Visit the ' +\n",
              "          '<a target=\"_blank\" href=https://colab.research.google.com/notebooks/data_table.ipynb>data table notebook</a>'\n",
              "          + ' to learn more about interactive tables.';\n",
              "        element.innerHTML = '';\n",
              "        dataTable['output_type'] = 'display_data';\n",
              "        await google.colab.output.renderOutput(dataTable, element);\n",
              "        const docLink = document.createElement('div');\n",
              "        docLink.innerHTML = docLinkHtml;\n",
              "        element.appendChild(docLink);\n",
              "      }\n",
              "    </script>\n",
              "  </div>\n",
              "\n",
              "\n",
              "<div id=\"df-c661b3ee-9a1c-40b0-9858-2a52701024b3\">\n",
              "  <button class=\"colab-df-quickchart\" onclick=\"quickchart('df-c661b3ee-9a1c-40b0-9858-2a52701024b3')\"\n",
              "            title=\"Suggest charts\"\n",
              "            style=\"display:none;\">\n",
              "\n",
              "<svg xmlns=\"http://www.w3.org/2000/svg\" height=\"24px\"viewBox=\"0 0 24 24\"\n",
              "     width=\"24px\">\n",
              "    <g>\n",
              "        <path d=\"M19 3H5c-1.1 0-2 .9-2 2v14c0 1.1.9 2 2 2h14c1.1 0 2-.9 2-2V5c0-1.1-.9-2-2-2zM9 17H7v-7h2v7zm4 0h-2V7h2v10zm4 0h-2v-4h2v4z\"/>\n",
              "    </g>\n",
              "</svg>\n",
              "  </button>\n",
              "\n",
              "<style>\n",
              "  .colab-df-quickchart {\n",
              "      --bg-color: #E8F0FE;\n",
              "      --fill-color: #1967D2;\n",
              "      --hover-bg-color: #E2EBFA;\n",
              "      --hover-fill-color: #174EA6;\n",
              "      --disabled-fill-color: #AAA;\n",
              "      --disabled-bg-color: #DDD;\n",
              "  }\n",
              "\n",
              "  [theme=dark] .colab-df-quickchart {\n",
              "      --bg-color: #3B4455;\n",
              "      --fill-color: #D2E3FC;\n",
              "      --hover-bg-color: #434B5C;\n",
              "      --hover-fill-color: #FFFFFF;\n",
              "      --disabled-bg-color: #3B4455;\n",
              "      --disabled-fill-color: #666;\n",
              "  }\n",
              "\n",
              "  .colab-df-quickchart {\n",
              "    background-color: var(--bg-color);\n",
              "    border: none;\n",
              "    border-radius: 50%;\n",
              "    cursor: pointer;\n",
              "    display: none;\n",
              "    fill: var(--fill-color);\n",
              "    height: 32px;\n",
              "    padding: 0;\n",
              "    width: 32px;\n",
              "  }\n",
              "\n",
              "  .colab-df-quickchart:hover {\n",
              "    background-color: var(--hover-bg-color);\n",
              "    box-shadow: 0 1px 2px rgba(60, 64, 67, 0.3), 0 1px 3px 1px rgba(60, 64, 67, 0.15);\n",
              "    fill: var(--button-hover-fill-color);\n",
              "  }\n",
              "\n",
              "  .colab-df-quickchart-complete:disabled,\n",
              "  .colab-df-quickchart-complete:disabled:hover {\n",
              "    background-color: var(--disabled-bg-color);\n",
              "    fill: var(--disabled-fill-color);\n",
              "    box-shadow: none;\n",
              "  }\n",
              "\n",
              "  .colab-df-spinner {\n",
              "    border: 2px solid var(--fill-color);\n",
              "    border-color: transparent;\n",
              "    border-bottom-color: var(--fill-color);\n",
              "    animation:\n",
              "      spin 1s steps(1) infinite;\n",
              "  }\n",
              "\n",
              "  @keyframes spin {\n",
              "    0% {\n",
              "      border-color: transparent;\n",
              "      border-bottom-color: var(--fill-color);\n",
              "      border-left-color: var(--fill-color);\n",
              "    }\n",
              "    20% {\n",
              "      border-color: transparent;\n",
              "      border-left-color: var(--fill-color);\n",
              "      border-top-color: var(--fill-color);\n",
              "    }\n",
              "    30% {\n",
              "      border-color: transparent;\n",
              "      border-left-color: var(--fill-color);\n",
              "      border-top-color: var(--fill-color);\n",
              "      border-right-color: var(--fill-color);\n",
              "    }\n",
              "    40% {\n",
              "      border-color: transparent;\n",
              "      border-right-color: var(--fill-color);\n",
              "      border-top-color: var(--fill-color);\n",
              "    }\n",
              "    60% {\n",
              "      border-color: transparent;\n",
              "      border-right-color: var(--fill-color);\n",
              "    }\n",
              "    80% {\n",
              "      border-color: transparent;\n",
              "      border-right-color: var(--fill-color);\n",
              "      border-bottom-color: var(--fill-color);\n",
              "    }\n",
              "    90% {\n",
              "      border-color: transparent;\n",
              "      border-bottom-color: var(--fill-color);\n",
              "    }\n",
              "  }\n",
              "</style>\n",
              "\n",
              "  <script>\n",
              "    async function quickchart(key) {\n",
              "      const quickchartButtonEl =\n",
              "        document.querySelector('#' + key + ' button');\n",
              "      quickchartButtonEl.disabled = true;  // To prevent multiple clicks.\n",
              "      quickchartButtonEl.classList.add('colab-df-spinner');\n",
              "      try {\n",
              "        const charts = await google.colab.kernel.invokeFunction(\n",
              "            'suggestCharts', [key], {});\n",
              "      } catch (error) {\n",
              "        console.error('Error during call to suggestCharts:', error);\n",
              "      }\n",
              "      quickchartButtonEl.classList.remove('colab-df-spinner');\n",
              "      quickchartButtonEl.classList.add('colab-df-quickchart-complete');\n",
              "    }\n",
              "    (() => {\n",
              "      let quickchartButtonEl =\n",
              "        document.querySelector('#df-c661b3ee-9a1c-40b0-9858-2a52701024b3 button');\n",
              "      quickchartButtonEl.style.display =\n",
              "        google.colab.kernel.accessAllowed ? 'block' : 'none';\n",
              "    })();\n",
              "  </script>\n",
              "</div>\n",
              "    </div>\n",
              "  </div>\n"
            ],
            "application/vnd.google.colaboratory.intrinsic+json": {
              "type": "dataframe",
              "variable_name": "data",
              "summary": "{\n  \"name\": \"data\",\n  \"rows\": 607,\n  \"fields\": [\n    {\n      \"column\": \"url\",\n      \"properties\": {\n        \"dtype\": \"string\",\n        \"num_unique_values\": 607,\n        \"samples\": [\n          \"https://lenta.ru/news/2015/11/03/meat/\",\n          \"https://lenta.ru/news/2010/01/25/machete/\",\n          \"https://lenta.ru/news/2016/03/10/salarytax/\"\n        ],\n        \"semantic_type\": \"\",\n        \"description\": \"\"\n      }\n    },\n    {\n      \"column\": \"title\",\n      \"properties\": {\n        \"dtype\": \"string\",\n        \"num_unique_values\": 607,\n        \"samples\": [\n          \"\\u0420\\u043e\\u0441\\u0441\\u0438\\u0439\\u0441\\u043a\\u0438\\u0435 \\u043f\\u0440\\u043e\\u0438\\u0437\\u0432\\u043e\\u0434\\u0438\\u0442\\u0435\\u043b\\u0438 \\u043e\\u043f\\u0440\\u043e\\u0432\\u0435\\u0440\\u0433\\u043b\\u0438 \\u0433\\u0440\\u044f\\u0434\\u0443\\u0449\\u0438\\u0439 \\u0434\\u0435\\u0444\\u0438\\u0446\\u0438\\u0442 \\u043c\\u044f\\u0441\\u0430\",\n          \"\\u0421\\u0442\\u0443\\u0434\\u0438\\u044f 20th Century Fox \\u0432\\u044b\\u0438\\u0433\\u0440\\u0430\\u043b\\u0430 \\u0441\\u0445\\u0432\\u0430\\u0442\\u043a\\u0443 \\u0437\\u0430 \\\"\\u041c\\u0430\\u0447\\u0435\\u0442\\u0435\\\"\",\n          \"\\u0417\\u0430\\u0440\\u043f\\u043b\\u0430\\u0442\\u044b \\u0440\\u043e\\u0441\\u0441\\u0438\\u044f\\u043d \\u043f\\u0440\\u0435\\u0434\\u043b\\u043e\\u0436\\u0438\\u043b\\u0438 \\u043e\\u0431\\u043b\\u043e\\u0436\\u0438\\u0442\\u044c \\u043d\\u043e\\u0432\\u044b\\u043c \\u0441\\u0431\\u043e\\u0440\\u043e\\u043c \"\n        ],\n        \"semantic_type\": \"\",\n        \"description\": \"\"\n      }\n    },\n    {\n      \"column\": \"text\",\n      \"properties\": {\n        \"dtype\": \"string\",\n        \"num_unique_values\": 607,\n        \"samples\": [\n          \"\\u0412 \\u041d\\u0430\\u0446\\u0438\\u043e\\u043d\\u0430\\u043b\\u044c\\u043d\\u043e\\u0439 \\u043c\\u044f\\u0441\\u043d\\u043e\\u0439 \\u0430\\u0441\\u0441\\u043e\\u0446\\u0438\\u0430\\u0446\\u0438\\u0438 (\\u041d\\u041c\\u0410) \\u0437\\u0430\\u0432\\u0435\\u0440\\u0438\\u043b\\u0438, \\u0447\\u0442\\u043e \\u0440\\u043e\\u0441\\u0441\\u0438\\u044f\\u043d\\u0430\\u043c \\u043d\\u0435 \\u043d\\u0443\\u0436\\u043d\\u043e \\u043e\\u043f\\u0430\\u0441\\u0430\\u0442\\u044c\\u0441\\u044f \\u0434\\u0435\\u0444\\u0438\\u0446\\u0438\\u0442\\u0430 \\u043c\\u044f\\u0441\\u0430 \\u0432 2016 \\u0433\\u043e\\u0434\\u0443. \\u041e\\u0431 \\u044d\\u0442\\u043e\\u043c \\u00ab\\u0420\\u0443\\u0441\\u0441\\u043a\\u043e\\u0439 \\u0441\\u043b\\u0443\\u0436\\u0431\\u0435 \\u043d\\u043e\\u0432\\u043e\\u0441\\u0442\\u0435\\u0439\\u00bb \\u0437\\u0430\\u044f\\u0432\\u0438\\u043b \\u0437\\u0430\\u043c\\u0435\\u0441\\u0442\\u0438\\u0442\\u0435\\u043b\\u044c \\u0440\\u0443\\u043a\\u043e\\u0432\\u043e\\u0434\\u0438\\u0442\\u0435\\u043b\\u044f \\u0438\\u0441\\u043f\\u043e\\u043b\\u043d\\u0438\\u0442\\u0435\\u043b\\u044c\\u043d\\u043e\\u0433\\u043e \\u043a\\u043e\\u043c\\u0438\\u0442\\u0435\\u0442\\u0430 \\u041d\\u041c\\u0410 \\u041c\\u0430\\u043a\\u0441\\u0438\\u043c \\u0421\\u0438\\u043d\\u0435\\u043b\\u044c\\u043d\\u0438\\u043a\\u043e\\u0432. \\u00ab\\u0421\\u0442\\u0440\\u0430\\u043d\\u043d\\u043e, \\u0447\\u0442\\u043e \\u0421\\u0447\\u0435\\u0442\\u043d\\u0430\\u044f \\u043f\\u0430\\u043b\\u0430\\u0442\\u0430 \\u043d\\u0435 \\u043e\\u0431\\u0440\\u0430\\u0442\\u0438\\u043b\\u0430\\u0441\\u044c \\u043a \\u0441\\u0442\\u0430\\u0442\\u0438\\u0441\\u0442\\u0438\\u0447\\u0435\\u0441\\u043a\\u0438\\u043c \\u0434\\u0430\\u043d\\u043d\\u044b\\u043c, \\u043a\\u043e\\u0442\\u043e\\u0440\\u044b\\u0435 \\u043f\\u043e\\u043a\\u0430\\u0437\\u0430\\u043b\\u0438 \\u0431\\u044b, \\u0447\\u0442\\u043e \\u0443 \\u043d\\u0430\\u0441 \\u0437\\u0430\\u0432\\u0438\\u0441\\u0438\\u043c\\u043e\\u0441\\u0442\\u044c \\u043e\\u0442 \\u0438\\u043c\\u043f\\u043e\\u0440\\u0442\\u0430 \\u0441\\u0443\\u0449\\u0435\\u0441\\u0442\\u0432\\u0435\\u043d\\u043d\\u043e \\u0441\\u043d\\u0438\\u0437\\u0438\\u043b\\u0430\\u0441\\u044c \\u043f\\u043e \\u0441\\u0440\\u0430\\u0432\\u043d\\u0435\\u043d\\u0438\\u044e \\u0441 2014 \\u0433\\u043e\\u0434\\u043e\\u043c\\u00bb, \\u2014 \\u043e\\u0442\\u043c\\u0435\\u0442\\u0438\\u043b \\u043e\\u043d, \\u0434\\u043e\\u0431\\u0430\\u0432\\u0438\\u0432, \\u0447\\u0442\\u043e \\u043f\\u043e \\u043f\\u0440\\u043e\\u0433\\u043d\\u043e\\u0437\\u0430\\u043c \\u0430\\u0441\\u0441\\u043e\\u0446\\u0438\\u0430\\u0446\\u0438\\u0438 \\u0432 \\u043a\\u043e\\u043d\\u0446\\u0435 \\u0433\\u043e\\u0434\\u0430 \\u043f\\u043e\\u043a\\u0430\\u0437\\u0430\\u0442\\u0435\\u043b\\u044c \\u0437\\u0430\\u0432\\u0438\\u0441\\u0438\\u043c\\u043e\\u0441\\u0442\\u0438 \\u043e\\u0442 \\u0438\\u043c\\u043f\\u043e\\u0440\\u0442\\u0430 \\u0441\\u043e\\u0441\\u0442\\u0430\\u0432\\u0438\\u0442 \\u0448\\u0435\\u0441\\u0442\\u044c \\u043f\\u0440\\u043e\\u0446\\u0435\\u043d\\u0442\\u043e\\u0432. \\u041a\\u0440\\u043e\\u043c\\u0435 \\u044d\\u0442\\u043e\\u0433\\u043e, \\u043f\\u043e \\u0441\\u043b\\u043e\\u0432\\u0430\\u043c \\u0421\\u0438\\u043d\\u0435\\u043b\\u044c\\u043d\\u0438\\u043a\\u043e\\u0432\\u0430, \\u0440\\u043e\\u0441\\u0441\\u0438\\u0439\\u0441\\u043a\\u0438\\u0435 \\u043f\\u0440\\u0435\\u0434\\u043f\\u0440\\u0438\\u044f\\u0442\\u0438\\u044f \\u043f\\u043b\\u0430\\u043d\\u0438\\u0440\\u0443\\u044e\\u0442 \\u043d\\u0430\\u0440\\u0430\\u0441\\u0442\\u0438\\u0442\\u044c \\u043e\\u0431\\u044a\\u0435\\u043c\\u044b \\u043f\\u0440\\u043e\\u0438\\u0437\\u0432\\u043e\\u0434\\u0441\\u0442\\u0432\\u0430: \\u0437\\u0430\\u043a\\u043b\\u0430\\u0434\\u044b\\u0432\\u0430\\u0435\\u0442\\u0441\\u044f \\u00ab\\u0443\\u0432\\u0435\\u043b\\u0438\\u0447\\u0435\\u043d\\u0438\\u0435, \\u043c\\u0435\\u0441\\u0442\\u0430\\u043c\\u0438 \\u0434\\u0430\\u0436\\u0435 \\u0443\\u0434\\u0432\\u043e\\u0435\\u043d\\u0438\\u0435 \\u043f\\u0440\\u043e\\u0435\\u043a\\u0442\\u043d\\u044b\\u0445 \\u043c\\u043e\\u0449\\u043d\\u043e\\u0441\\u0442\\u0435\\u0439\\u00bb. \\u041f\\u0440\\u0435\\u0434\\u0441\\u0442\\u0430\\u0432\\u0438\\u0442\\u0435\\u043b\\u044c \\u041d\\u041c\\u0410 \\u043f\\u043e\\u0434\\u0447\\u0435\\u0440\\u043a\\u043d\\u0443\\u043b, \\u0447\\u0442\\u043e \\u0432 \\u043d\\u0430\\u0441\\u0442\\u043e\\u044f\\u0449\\u0435\\u0435 \\u0432\\u0440\\u0435\\u043c\\u044f \\u0440\\u0430\\u0441\\u0442\\u0435\\u0442 \\u0432\\u044b\\u043f\\u0443\\u0441\\u043a \\u043e\\u0431\\u044a\\u0435\\u043c\\u043e\\u0432 \\u043c\\u044f\\u0441\\u0430 \\u043f\\u0442\\u0438\\u0446\\u044b, \\u043f\\u0440\\u043e\\u0438\\u0437\\u0432\\u043e\\u0434\\u0441\\u0442\\u0432\\u043e \\u0441\\u0432\\u0438\\u043d\\u0438\\u043d\\u044b. \\u00ab\\u0421 \\u0433\\u043e\\u0432\\u044f\\u0434\\u0438\\u043d\\u043e\\u0439 \\u0441\\u043b\\u043e\\u0436\\u043d\\u0435\\u0435, \\u043d\\u043e \\u043e\\u0431\\u044a\\u0435\\u043c\\u044b \\u0441\\u043a\\u043e\\u0442\\u0430 \\u043f\\u043e\\u0442\\u0438\\u0445\\u043e\\u043d\\u044c\\u043a\\u0443 \\u043d\\u0430\\u0440\\u0430\\u0449\\u0438\\u0432\\u0430\\u044e\\u0442\\u0441\\u044f\\u00bb, \\u2014 \\u0434\\u043e\\u0431\\u0430\\u0432\\u0438\\u043b \\u0421\\u0438\\u043d\\u0435\\u043b\\u044c\\u043d\\u0438\\u043a\\u043e\\u0432. \\u041f\\u0440\\u0438 \\u044d\\u0442\\u043e\\u043c \\u0434\\u0430\\u043d\\u043d\\u044b\\u0435 \\u041d\\u041c\\u0410 \\u0441\\u0432\\u0438\\u0434\\u0435\\u0442\\u0435\\u043b\\u044c\\u0441\\u0442\\u0432\\u0443\\u044e\\u0442 \\u043e \\u0441\\u043e\\u043a\\u0440\\u0430\\u0449\\u0435\\u043d\\u0438\\u0438 \\u043f\\u043e\\u0442\\u0440\\u0435\\u0431\\u043b\\u0435\\u043d\\u0438\\u044f \\u043c\\u044f\\u0441\\u0430 \\u0432 \\u0420\\u043e\\u0441\\u0441\\u0438\\u0438: \\u0432 2015-\\u043c \\u043d\\u0430 \\u0434\\u0443\\u0448\\u0443 \\u043d\\u0430\\u0441\\u0435\\u043b\\u0435\\u043d\\u0438\\u044f \\u043f\\u0440\\u0438\\u0445\\u043e\\u0434\\u0438\\u0442\\u0441\\u044f 67 \\u043a\\u0438\\u043b\\u043e\\u0433\\u0440\\u0430\\u043c\\u043c\\u043e\\u0432, \\u043f\\u0440\\u043e\\u0442\\u0438\\u0432 72 \\u0432 \\u043f\\u0440\\u043e\\u0448\\u043b\\u043e\\u043c \\u0433\\u043e\\u0434\\u0443. 3 \\u043d\\u043e\\u044f\\u0431\\u0440\\u044f \\u0432 \\u0421\\u0447\\u0435\\u0442\\u043d\\u043e\\u0439 \\u043f\\u0430\\u043b\\u0430\\u0442\\u0435 \\u0437\\u0430\\u044f\\u0432\\u0438\\u043b\\u0438, \\u0447\\u0442\\u043e \\u0420\\u043e\\u0441\\u0441\\u0438\\u044f \\u0432 2016 \\u0433\\u043e\\u0434\\u0443 \\u043c\\u043e\\u0436\\u0435\\u0442 \\u043d\\u0435\\u0434\\u043e\\u043f\\u043e\\u043b\\u0443\\u0447\\u0438\\u0442\\u044c \\u043e\\u0431\\u044a\\u0435\\u043c\\u044b \\u043c\\u044f\\u0441\\u043d\\u043e\\u0439, \\u043c\\u043e\\u043b\\u043e\\u0447\\u043d\\u043e\\u0439 \\u043f\\u0440\\u043e\\u0434\\u0443\\u043a\\u0446\\u0438\\u0438 \\u0438 \\u0441\\u044b\\u0440\\u043e\\u0432. \\u00ab\\u0421\\u0443\\u0449\\u0435\\u0441\\u0442\\u0432\\u0443\\u044e\\u0442 \\u0440\\u0438\\u0441\\u043a\\u0438 \\u043d\\u0435\\u043f\\u043e\\u043b\\u043d\\u043e\\u0439 \\u043a\\u043e\\u043c\\u043f\\u0435\\u043d\\u0441\\u0430\\u0446\\u0438\\u0438 \\u0432\\u044b\\u043f\\u0430\\u0434\\u0430\\u044e\\u0449\\u0438\\u0445 \\u043e\\u0431\\u044a\\u0435\\u043c\\u043e\\u0432 \\u0438\\u043c\\u043f\\u043e\\u0440\\u0442\\u0430 \\u043f\\u0440\\u043e\\u0434\\u043e\\u0432\\u043e\\u043b\\u044c\\u0441\\u0442\\u0432\\u0435\\u043d\\u043d\\u044b\\u0445 \\u0442\\u043e\\u0432\\u0430\\u0440\\u043e\\u0432, \\u0437\\u0430\\u043f\\u0440\\u0435\\u0449\\u0435\\u043d\\u043d\\u044b\\u0445 \\u043a \\u0432\\u0432\\u043e\\u0437\\u0443 \\u0438\\u0437 \\u0440\\u044f\\u0434\\u0430 \\u0441\\u0442\\u0440\\u0430\\u043d\\u00bb, \\u2014 \\u043e\\u0442\\u043c\\u0435\\u0442\\u0438\\u043b\\u0438 \\u0432 \\u0421\\u0447\\u0435\\u0442\\u043d\\u043e\\u0439 \\u043f\\u0430\\u043b\\u0430\\u0442\\u0435. \\u0412 \\u0432\\u0435\\u0434\\u043e\\u043c\\u0441\\u0442\\u0432\\u0435 \\u0442\\u0430\\u043a\\u0436\\u0435 \\u0441\\u043e\\u043e\\u0431\\u0449\\u0438\\u043b\\u0438, \\u0447\\u0442\\u043e \\u043e\\u043f\\u0430\\u0441\\u0430\\u044e\\u0442\\u0441\\u044f \\u0432 \\u0441\\u0440\\u0435\\u0434\\u043d\\u0435\\u0441\\u0440\\u043e\\u0447\\u043d\\u043e\\u043c \\u043f\\u0435\\u0440\\u0438\\u043e\\u0434\\u0435 \\u043f\\u0440\\u043e\\u0431\\u043b\\u0435\\u043c \\u0441 \\u043f\\u043e\\u0442\\u0440\\u0435\\u0431\\u0438\\u0442\\u0435\\u043b\\u044c\\u0441\\u043a\\u0438\\u043c \\u0441\\u043f\\u0440\\u043e\\u0441\\u043e\\u043c. \\u0412 \\u0430\\u0432\\u0433\\u0443\\u0441\\u0442\\u0435 2014 \\u0433\\u043e\\u0434\\u0430 \\u0420\\u043e\\u0441\\u0441\\u0438\\u044f \\u0432\\u0432\\u0435\\u043b\\u0430 \\u043f\\u0440\\u043e\\u0434\\u043e\\u0432\\u043e\\u043b\\u044c\\u0441\\u0442\\u0432\\u0435\\u043d\\u043d\\u043e\\u0435 \\u044d\\u043c\\u0431\\u0430\\u0440\\u0433\\u043e \\u0432 \\u043e\\u0442\\u043d\\u043e\\u0448\\u0435\\u043d\\u0438\\u0438 \\u0441\\u0442\\u0440\\u0430\\u043d-\\u0447\\u043b\\u0435\\u043d\\u043e\\u0432 \\u0415\\u0421, \\u0430 \\u0442\\u0430\\u043a\\u0436\\u0435 \\u0421\\u0428\\u0410, \\u0410\\u0432\\u0441\\u0442\\u0440\\u0430\\u043b\\u0438\\u0438, \\u041a\\u0430\\u043d\\u0430\\u0434\\u044b \\u0438 \\u041d\\u043e\\u0440\\u0432\\u0435\\u0433\\u0438\\u0438. \\u0412 \\u043a\\u043e\\u043d\\u0446\\u0435 \\u0438\\u044e\\u043d\\u044f 2015 \\u0433\\u043e\\u0434\\u0430 \\u041c\\u043e\\u0441\\u043a\\u0432\\u0430 \\u043f\\u0440\\u043e\\u0434\\u043b\\u0438\\u043b\\u0430 \\u044d\\u043c\\u0431\\u0430\\u0440\\u0433\\u043e \\u043d\\u0430 \\u0433\\u043e\\u0434. \\u041f\\u043e\\u0437\\u0436\\u0435 \\u043f\\u0440\\u0435\\u043c\\u044c\\u0435\\u0440-\\u043c\\u0438\\u043d\\u0438\\u0441\\u0442\\u0440 \\u0420\\u043e\\u0441\\u0441\\u0438\\u0438 \\u0414\\u043c\\u0438\\u0442\\u0440\\u0438\\u0439 \\u041c\\u0435\\u0434\\u0432\\u0435\\u0434\\u0435\\u0432 \\u043f\\u043e\\u0434\\u043f\\u0438\\u0441\\u0430\\u043b \\u043f\\u043e\\u0441\\u0442\\u0430\\u043d\\u043e\\u0432\\u043b\\u0435\\u043d\\u0438\\u0435 \\u043e \\u0440\\u0430\\u0441\\u0448\\u0438\\u0440\\u0435\\u043d\\u0438\\u0438 \\u043f\\u0440\\u043e\\u0434\\u0443\\u043a\\u0442\\u043e\\u0432\\u043e\\u0433\\u043e \\u044d\\u043c\\u0431\\u0430\\u0440\\u0433\\u043e \\u043d\\u0430 \\u0410\\u043b\\u0431\\u0430\\u043d\\u0438\\u044e, \\u0427\\u0435\\u0440\\u043d\\u043e\\u0433\\u043e\\u0440\\u0438\\u044e, \\u0418\\u0441\\u043b\\u0430\\u043d\\u0434\\u0438\\u044e, \\u041b\\u0438\\u0445\\u0442\\u0435\\u043d\\u0448\\u0442\\u0435\\u0439\\u043d \\u0438 \\u0423\\u043a\\u0440\\u0430\\u0438\\u043d\\u0443 (\\u0432 \\u043e\\u0442\\u043d\\u043e\\u0448\\u0435\\u043d\\u0438\\u0438 \\u043f\\u043e\\u0441\\u043b\\u0435\\u0434\\u043d\\u0435\\u0439 \\u043e\\u0433\\u0440\\u0430\\u043d\\u0438\\u0447\\u0435\\u043d\\u0438\\u044f \\u0432\\u0441\\u0442\\u0443\\u043f\\u044f\\u0442 \\u0432 \\u0441\\u0438\\u043b\\u0443 \\u043f\\u043e\\u0441\\u043b\\u0435 \\u0438\\u0441\\u043f\\u043e\\u043b\\u043d\\u0435\\u043d\\u0438\\u044f \\u041a\\u0438\\u0435\\u0432\\u043e\\u043c \\u044d\\u043a\\u043e\\u043d\\u043e\\u043c\\u0438\\u0447\\u0435\\u0441\\u043a\\u043e\\u0439 \\u0447\\u0430\\u0441\\u0442\\u0438 \\u0441\\u043e\\u0433\\u043b\\u0430\\u0448\\u0435\\u043d\\u0438\\u044f \\u043e\\u0431 \\u0430\\u0441\\u0441\\u043e\\u0446\\u0438\\u0430\\u0446\\u0438\\u0438 \\u0441 \\u0415\\u0421). \\u0412 \\u0441\\u043f\\u0438\\u0441\\u043e\\u043a \\u0437\\u0430\\u043f\\u0440\\u0435\\u0449\\u0435\\u043d\\u043d\\u044b\\u0445 \\u043a \\u0432\\u0432\\u043e\\u0437\\u0443 \\u043f\\u0440\\u043e\\u0434\\u0443\\u043a\\u0442\\u043e\\u0432, \\u0432 \\u0447\\u0430\\u0441\\u0442\\u043d\\u043e\\u0441\\u0442\\u0438, \\u0432\\u0445\\u043e\\u0434\\u044f\\u0442 \\u043c\\u044f\\u0441\\u043e \\u043a\\u0440\\u0443\\u043f\\u043d\\u043e\\u0433\\u043e \\u0440\\u043e\\u0433\\u0430\\u0442\\u043e\\u0433\\u043e \\u0441\\u043a\\u043e\\u0442\\u0430, \\u0441\\u0432\\u0438\\u043d\\u0438\\u043d\\u0430, \\u0440\\u044b\\u0431\\u0430 \\u0438 \\u043c\\u043e\\u043b\\u043e\\u043a\\u043e. \\u042d\\u0442\\u0438 \\u0442\\u043e\\u0432\\u0430\\u0440\\u044b, \\u0432\\u0432\\u0435\\u0437\\u0435\\u043d\\u043d\\u044b\\u0435 \\u043d\\u0430 \\u0442\\u0435\\u0440\\u0440\\u0438\\u0442\\u043e\\u0440\\u0438\\u044e \\u0420\\u043e\\u0441\\u0441\\u0438\\u0438, \\u043f\\u043e\\u0434\\u043b\\u0435\\u0436\\u0430\\u0442 \\u0443\\u043d\\u0438\\u0447\\u0442\\u043e\\u0436\\u0435\\u043d\\u0438\\u044e.\",\n          \"\\u041a\\u0438\\u043d\\u043e\\u043a\\u043e\\u043c\\u043f\\u0430\\u043d\\u0438\\u044f 20th Century Fox \\u0432 \\u0443\\u043f\\u043e\\u0440\\u043d\\u043e\\u0439 \\u043a\\u043e\\u043d\\u043a\\u0443\\u0440\\u0435\\u043d\\u0442\\u043d\\u043e\\u0439 \\u0431\\u043e\\u0440\\u044c\\u0431\\u0435 \\u0437\\u0430\\u0432\\u043e\\u0435\\u0432\\u0430\\u043b\\u0430 \\u043f\\u0440\\u0430\\u0432\\u043e \\u043d\\u0430 \\u0441\\u0435\\u0432\\u0435\\u0440\\u043e\\u0430\\u043c\\u0435\\u0440\\u0438\\u043a\\u0430\\u043d\\u0441\\u043a\\u0438\\u0439 \\u043f\\u0440\\u043e\\u043a\\u0430\\u0442 \\u043d\\u043e\\u0432\\u043e\\u0433\\u043e \\u0444\\u0438\\u043b\\u044c\\u043c\\u0430 \\u0420\\u043e\\u0431\\u0435\\u0440\\u0442\\u0430 \\u0420\\u043e\\u0434\\u0440\\u0438\\u0433\\u0435\\u0441\\u0430 \\\"\\u041c\\u0430\\u0447\\u0435\\u0442\\u0435\\\". \\u041e\\u0431 \\u044d\\u0442\\u043e\\u043c \\u0441\\u043e\\u043e\\u0431\\u0449\\u0430\\u0435\\u0442 \\u0438\\u0437\\u0434\\u0430\\u043d\\u0438\\u0435 Variety. \\u041e\\u0441\\u043d\\u043e\\u0432\\u043d\\u044b\\u043c\\u0438 \\u043f\\u0440\\u0435\\u0442\\u0435\\u043d\\u0434\\u0435\\u043d\\u0442\\u0430\\u043c\\u0438, \\u043f\\u043e\\u043c\\u0438\\u043c\\u043e 20th Century Fox, \\u0441\\u0447\\u0438\\u0442\\u0430\\u043b\\u0438\\u0441\\u044c \\u0441\\u0442\\u0443\\u0434\\u0438\\u0438 Paramount \\u0438 Lionsgate. \\u0417\\u0430 \\u043c\\u0435\\u0436\\u0434\\u0443\\u043d\\u0430\\u0440\\u043e\\u0434\\u043d\\u044b\\u0439 \\u043f\\u0440\\u043e\\u043a\\u0430\\u0442 \\u043a\\u0430\\u0440\\u0442\\u0438\\u043d\\u044b \\u0431\\u0443\\u0434\\u0435\\u0442 \\u043e\\u0442\\u0432\\u0435\\u0447\\u0430\\u0442\\u044c \\u043a\\u043e\\u043c\\u043f\\u0430\\u043d\\u0438\\u044f Sony. \\\"\\u041c\\u0430\\u0447\\u0435\\u0442\\u0435\\\" \\u0441\\u0442\\u0430\\u043d\\u0435\\u0442 \\u0432\\u0442\\u043e\\u0440\\u044b\\u043c \\u0441\\u043e\\u0432\\u043c\\u0435\\u0441\\u0442\\u043d\\u044b\\u043c \\u043f\\u0440\\u043e\\u0435\\u043a\\u0442\\u043e\\u043c \\u043a\\u0438\\u043d\\u043e\\u0441\\u0442\\u0443\\u0434\\u0438\\u0438 \\u0438 \\u0440\\u0435\\u0436\\u0438\\u0441\\u0441\\u0435\\u0440\\u0430. \\u041d\\u0430\\u043f\\u043e\\u043c\\u043d\\u0438\\u043c, \\u0447\\u0442\\u043e \\u0420\\u043e\\u0434\\u0440\\u0438\\u0433\\u0435\\u0441 \\u044f\\u0432\\u043b\\u044f\\u0435\\u0442\\u0441\\u044f \\u043f\\u0440\\u043e\\u0434\\u044e\\u0441\\u0435\\u0440\\u043e\\u043c \\u0444\\u0438\\u043b\\u044c\\u043c\\u0430 \\\"\\u0425\\u0438\\u0449\\u043d\\u0438\\u043a\\u0438\\\", \\u043a\\u043e\\u0442\\u043e\\u0440\\u044b\\u0439 \\u0441\\u043d\\u0438\\u043c\\u0430\\u0435\\u0442\\u0441\\u044f \\u043f\\u043e\\u0434 \\u043b\\u0435\\u0439\\u0431\\u043b\\u043e\\u043c 20th Century Fox. \\u0412 \\u043e\\u0441\\u043d\\u043e\\u0432\\u0435 \\u043a\\u0430\\u0440\\u0442\\u0438\\u043d\\u044b \\\"\\u041c\\u0430\\u0447\\u0435\\u0442\\u0435\\\" \\\"\\u0432\\u0438\\u0440\\u0443\\u0441\\u043d\\u044b\\u0439\\\" \\u0440\\u043e\\u043b\\u0438\\u043a, \\u0441\\u043d\\u044f\\u0442\\u044b\\u0439 \\u0440\\u0430\\u043d\\u0435\\u0435 \\u043a \\u0444\\u0438\\u043b\\u044c\\u043c\\u0443 \\\"\\u0413\\u0440\\u0430\\u0439\\u043d\\u0434\\u0445\\u0430\\u0443\\u0441\\\" \\u0438 \\u043f\\u0440\\u0435\\u0434\\u0441\\u0442\\u0430\\u0432\\u043b\\u0435\\u043d\\u043d\\u044b\\u0439 \\u043d\\u0430 YouTube. \\u0412 \\u043d\\u0435\\u043c \\u0448\\u043b\\u0430 \\u0440\\u0435\\u0447\\u044c \\u043e \\u043c\\u0435\\u043a\\u0441\\u0438\\u043a\\u0430\\u043d\\u0441\\u043a\\u043e\\u043c \\u043d\\u0430\\u0435\\u043c\\u043d\\u043e\\u043c \\u0443\\u0431\\u0438\\u0439\\u0446\\u0435 \\u0410\\u0439\\u0441\\u0435\\u0434\\u043e\\u0440\\u0435 \\u041a\\u043e\\u0440\\u0442\\u0435\\u0441\\u0435 \\u043f\\u043e \\u043f\\u0440\\u043e\\u0437\\u0432\\u0438\\u0449\\u0443 \\u041c\\u0430\\u0447\\u0435\\u0442\\u0435, \\u0440\\u0430\\u0431\\u043e\\u0442\\u0430\\u0432\\u0448\\u0435\\u043c \\u043d\\u0430 \\u043f\\u0440\\u0430\\u0432\\u0438\\u0442\\u0435\\u043b\\u044c\\u0441\\u0442\\u0432\\u0435\\u043d\\u043d\\u044b\\u0435 \\u0441\\u0442\\u0440\\u0443\\u043a\\u0442\\u0443\\u0440\\u044b. \\u041f\\u043e\\u0441\\u043b\\u0435 \\u0442\\u043e\\u0433\\u043e \\u043a\\u0430\\u043a \\u0440\\u0430\\u0431\\u043e\\u0442\\u043e\\u0434\\u0430\\u0442\\u0435\\u043b\\u0438 \\u043f\\u0440\\u0435\\u0434\\u0430\\u043b\\u0438 \\u0435\\u0433\\u043e, \\u041c\\u0430\\u0447\\u0435\\u0442\\u0435 \\u0432\\u044b\\u0445\\u043e\\u0434\\u0438\\u0442 \\u043d\\u0430 \\u0442\\u0440\\u043e\\u043f\\u0443 \\u043c\\u0435\\u0441\\u0442\\u0438. \\u0413\\u043b\\u0430\\u0432\\u043d\\u0443\\u044e \\u0440\\u043e\\u043b\\u044c \\u0432 \\u0442\\u0440\\u0435\\u0439\\u043b\\u0435\\u0440\\u0435 \\u0441\\u044b\\u0433\\u0440\\u0430\\u043b \\u0430\\u043a\\u0442\\u0435\\u0440 \\u0414\\u044d\\u043d\\u043d\\u0438 \\u0422\\u0440\\u0435\\u0445\\u043e. \\u041e\\u043d \\u0436\\u0435 \\u0438\\u0433\\u0440\\u0430\\u0435\\u0442 \\u041c\\u0430\\u0447\\u0435\\u0442\\u0435 \\u0438 \\u0432 \\u043f\\u043e\\u043b\\u043d\\u043e\\u043c\\u0435\\u0442\\u0440\\u0430\\u0436\\u043d\\u043e\\u0439 \\u0432\\u0435\\u0440\\u0441\\u0438\\u0438. \\u041a\\u0440\\u043e\\u043c\\u0435 \\u043d\\u0435\\u0433\\u043e \\u0432 \\u043a\\u0430\\u0440\\u0442\\u0438\\u043d\\u0435 \\u0441\\u043d\\u0438\\u043c\\u0430\\u044e\\u0442\\u0441\\u044f \\u0420\\u043e\\u0431\\u0435\\u0440\\u0442 \\u0434\\u0435 \\u041d\\u0438\\u0440\\u043e, \\u0414\\u0436\\u0435\\u0441\\u0441\\u0438\\u043a\\u0430 \\u0410\\u043b\\u044c\\u0431\\u0430, \\u041b\\u0438\\u043d\\u0434\\u0441\\u0438 \\u041b\\u043e\\u0445\\u0430\\u043d, \\u041c\\u0438\\u0448\\u0435\\u043b\\u044c \\u0420\\u043e\\u0434\\u0440\\u0438\\u0433\\u0435\\u0441 \\u0438 \\u0434\\u0440\\u0443\\u0433\\u0438\\u0435 \\u0430\\u043a\\u0442\\u0435\\u0440\\u044b.\",\n          \"\\u0413\\u043b\\u0430\\u0432\\u0430 \\u043a\\u043e\\u043d\\u0441\\u0442\\u0438\\u0442\\u0443\\u0446\\u0438\\u043e\\u043d\\u043d\\u043e\\u0433\\u043e \\u043a\\u043e\\u043c\\u0438\\u0442\\u0435\\u0442\\u0430 \\u0421\\u043e\\u0432\\u0435\\u0442\\u0430 \\u0424\\u0435\\u0434\\u0435\\u0440\\u0430\\u0446\\u0438\\u0438 \\u0410\\u043d\\u0434\\u0440\\u0435\\u0439 \\u041a\\u043b\\u0438\\u0448\\u0430\\u0441 \\u0432\\u043d\\u0435\\u0441 \\u0432 \\u0413\\u043e\\u0441\\u0434\\u0443\\u043c\\u0443 \\u0437\\u0430\\u043a\\u043e\\u043d\\u043e\\u043f\\u0440\\u043e\\u0435\\u043a\\u0442 \\u043e \\u0432\\u0432\\u0435\\u0434\\u0435\\u043d\\u0438\\u0438 \\u0432 \\u0420\\u043e\\u0441\\u0441\\u0438\\u0438 \\u043d\\u043e\\u0432\\u043e\\u0433\\u043e \\u0432\\u0438\\u0434\\u0430 \\u043e\\u0431\\u044f\\u0437\\u0430\\u0442\\u0435\\u043b\\u044c\\u043d\\u043e\\u0433\\u043e \\u0441\\u043e\\u0446\\u0438\\u0430\\u043b\\u044c\\u043d\\u043e\\u0433\\u043e \\u0441\\u0442\\u0440\\u0430\\u0445\\u043e\\u0432\\u0430\\u043d\\u0438\\u044f, \\u043f\\u0440\\u0438\\u0437\\u0432\\u0430\\u043d\\u043d\\u043e\\u0433\\u043e \\u0437\\u0430\\u0449\\u0438\\u0442\\u0438\\u0442\\u044c \\u0440\\u0430\\u0431\\u043e\\u0442\\u043d\\u0438\\u043a\\u0430 \\u043e\\u0442 \\u0431\\u0430\\u043d\\u043a\\u0440\\u043e\\u0442\\u0441\\u0442\\u0432\\u0430 \\u0440\\u0430\\u0431\\u043e\\u0442\\u043e\\u0434\\u0430\\u0442\\u0435\\u043b\\u044f. \\u0421\\u0442\\u0430\\u0432\\u043a\\u0430 \\u0441\\u0431\\u043e\\u0440\\u0430 \\u0441\\u043e\\u0441\\u0442\\u0430\\u0432\\u0438\\u0442 0,2 \\u043f\\u0440\\u043e\\u0446\\u0435\\u043d\\u0442\\u0430 \\u043e\\u0442 \\u0444\\u043e\\u043d\\u0434\\u0430 \\u043e\\u043f\\u043b\\u0430\\u0442\\u044b \\u0442\\u0440\\u0443\\u0434\\u0430. \\u041e\\u0431 \\u044d\\u0442\\u043e\\u043c \\u0432 \\u0447\\u0435\\u0442\\u0432\\u0435\\u0440\\u0433, 10 \\u043c\\u0430\\u0440\\u0442\\u0430, \\u043f\\u0438\\u0448\\u0435\\u0442 \\u00ab\\u041a\\u043e\\u043c\\u043c\\u0435\\u0440\\u0441\\u0430\\u043d\\u0442\\u044a\\u00bb. \\u0418\\u0437 \\u043f\\u043e\\u044f\\u0441\\u043d\\u0438\\u0442\\u0435\\u043b\\u044c\\u043d\\u043e\\u0439 \\u0437\\u0430\\u043f\\u0438\\u0441\\u043a\\u0438 \\u043a \\u0437\\u0430\\u043a\\u043e\\u043d\\u043e\\u043f\\u0440\\u043e\\u0435\\u043a\\u0442\\u0443 \\u0441\\u043b\\u0435\\u0434\\u0443\\u0435\\u0442, \\u0447\\u0442\\u043e \\u043e\\u043d \\u043d\\u0430\\u043f\\u0440\\u0430\\u0432\\u043b\\u0435\\u043d \\u043d\\u0430 \\u00ab\\u0432\\u0432\\u0435\\u0434\\u0435\\u043d\\u0438\\u0435 \\u0434\\u043e\\u043f\\u043e\\u043b\\u043d\\u0438\\u0442\\u0435\\u043b\\u044c\\u043d\\u044b\\u0445 \\u0433\\u0430\\u0440\\u0430\\u043d\\u0442\\u0438\\u0439 \\u0434\\u043b\\u044f \\u0440\\u0430\\u0431\\u043e\\u0442\\u043d\\u0438\\u043a\\u043e\\u0432 \\u0432 \\u0447\\u0430\\u0441\\u0442\\u0438 \\u043f\\u043e\\u043b\\u0443\\u0447\\u0435\\u043d\\u0438\\u044f \\u0437\\u0430\\u0434\\u043e\\u043b\\u0436\\u0435\\u043d\\u043d\\u043e\\u0441\\u0442\\u0438 \\u043f\\u043e \\u0437\\u0430\\u0440\\u0430\\u0431\\u043e\\u0442\\u043d\\u043e\\u0439 \\u043f\\u043b\\u0430\\u0442\\u0435 \\u0432 \\u0441\\u043b\\u0443\\u0447\\u0430\\u0435 \\u0431\\u0430\\u043d\\u043a\\u0440\\u043e\\u0442\\u0441\\u0442\\u0432\\u0430 \\u0440\\u0430\\u0431\\u043e\\u0442\\u043e\\u0434\\u0430\\u0442\\u0435\\u043b\\u044f\\u00bb. \\u041f\\u043e \\u043c\\u043d\\u0435\\u043d\\u0438\\u044e \\u0430\\u0432\\u0442\\u043e\\u0440\\u0430, \\u0432 \\u0431\\u043b\\u0438\\u0436\\u0430\\u0439\\u0448\\u0435\\u0435 \\u0432\\u0440\\u0435\\u043c\\u044f \\u0431\\u0430\\u043d\\u043a\\u0440\\u043e\\u0442\\u0441\\u0442\\u0432\\u0430 \\u0432 \\u0420\\u043e\\u0441\\u0441\\u0438\\u0438 \\u043f\\u0440\\u0438\\u043e\\u0431\\u0440\\u0435\\u0442\\u0443\\u0442 \\u043c\\u0430\\u0441\\u0441\\u043e\\u0432\\u044b\\u0439 \\u0445\\u0430\\u0440\\u0430\\u043a\\u0442\\u0435\\u0440. \\u00ab\\u041a\\u0440\\u043e\\u043c\\u0435 \\u0442\\u043e\\u0433\\u043e, \\u0437\\u0430\\u0447\\u0430\\u0441\\u0442\\u0443\\u044e \\u0443 \\u0431\\u0430\\u043d\\u043a\\u0440\\u043e\\u0442\\u044f\\u0449\\u0438\\u0445\\u0441\\u044f \\u0440\\u0430\\u0431\\u043e\\u0442\\u043e\\u0434\\u0430\\u0442\\u0435\\u043b\\u0435\\u0439 \\u043e\\u0442\\u0441\\u0443\\u0442\\u0441\\u0442\\u0432\\u0443\\u0435\\u0442 \\u043b\\u0438\\u043a\\u0432\\u0438\\u0434\\u043d\\u043e\\u0435 \\u0438\\u043c\\u0443\\u0449\\u0435\\u0441\\u0442\\u0432\\u043e, \\u0430 \\u043b\\u044e\\u0434\\u0438 \\u043f\\u0440\\u043e\\u0434\\u043e\\u043b\\u0436\\u0430\\u044e\\u0442 \\u0440\\u0430\\u0431\\u043e\\u0442\\u0430\\u0442\\u044c \\u043f\\u043e \\u043d\\u0435\\u0441\\u043a\\u043e\\u043b\\u044c\\u043a\\u043e \\u043c\\u0435\\u0441\\u044f\\u0446\\u0435\\u0432 \\u0432 \\u043e\\u0442\\u0441\\u0443\\u0442\\u0441\\u0442\\u0432\\u0438\\u0435 \\u0432\\u044b\\u043f\\u043b\\u0430\\u0442\\u044b \\u0437\\u0430\\u0440\\u0430\\u0431\\u043e\\u0442\\u043d\\u043e\\u0439 \\u043f\\u043b\\u0430\\u0442\\u044b \\u0441\\u043e \\u0441\\u0442\\u043e\\u0440\\u043e\\u043d\\u044b \\u0440\\u0430\\u0431\\u043e\\u0442\\u043e\\u0434\\u0430\\u0442\\u0435\\u043b\\u0435\\u0439\\u00bb, \\u2014 \\u0433\\u043e\\u0432\\u043e\\u0440\\u0438\\u0442\\u0441\\u044f \\u0432 \\u0434\\u043e\\u043a\\u0443\\u043c\\u0435\\u043d\\u0442\\u0435. \\u041d\\u043e\\u0432\\u044b\\u0439 \\u0432\\u0438\\u0434 \\u043e\\u0431\\u044f\\u0437\\u0430\\u0442\\u0435\\u043b\\u044c\\u043d\\u043e\\u0433\\u043e \\u0441\\u043e\\u0446\\u0438\\u0430\\u043b\\u044c\\u043d\\u043e\\u0433\\u043e \\u0441\\u0442\\u0440\\u0430\\u0445\\u043e\\u0432\\u0430\\u043d\\u0438\\u044f \\u043f\\u0440\\u0435\\u0434\\u043f\\u043e\\u043b\\u0430\\u0433\\u0430\\u0435\\u0442\\u0441\\u044f \\u043d\\u0430\\u0437\\u0432\\u0430\\u0442\\u044c \\u00ab\\u043d\\u0430 \\u0441\\u043b\\u0443\\u0447\\u0430\\u0439 \\u0443\\u0442\\u0440\\u0430\\u0442\\u044b \\u043f\\u0440\\u0438\\u0447\\u0438\\u0442\\u0430\\u044e\\u0449\\u0435\\u0439\\u0441\\u044f \\u0440\\u0430\\u0431\\u043e\\u0442\\u043d\\u0438\\u043a\\u0443 \\u0437\\u0430\\u0440\\u0430\\u0431\\u043e\\u0442\\u043d\\u043e\\u0439 \\u043f\\u043b\\u0430\\u0442\\u044b \\u0432\\u0441\\u043b\\u0435\\u0434\\u0441\\u0442\\u0432\\u0438\\u0435 \\u043d\\u0435\\u0441\\u043e\\u0441\\u0442\\u043e\\u044f\\u0442\\u0435\\u043b\\u044c\\u043d\\u043e\\u0441\\u0442\\u0438 (\\u0431\\u0430\\u043d\\u043a\\u0440\\u043e\\u0442\\u0441\\u0442\\u0432\\u0430) \\u0440\\u0430\\u0431\\u043e\\u0442\\u043e\\u0434\\u0430\\u0442\\u0435\\u043b\\u044f\\u00bb. \\u0424\\u0443\\u043d\\u043a\\u0446\\u0438\\u0438 \\u0441\\u0442\\u0440\\u0430\\u0445\\u043e\\u0432\\u0449\\u0438\\u043a\\u0430 \\u043f\\u0440\\u0435\\u0434\\u043b\\u0430\\u0433\\u0430\\u0435\\u0442\\u0441\\u044f \\u0432\\u043e\\u0437\\u043b\\u043e\\u0436\\u0438\\u0442\\u044c \\u043d\\u0430 \\u0424\\u043e\\u043d\\u0434 \\u0441\\u043e\\u0446\\u0438\\u0430\\u043b\\u044c\\u043d\\u043e\\u0433\\u043e \\u0441\\u0442\\u0440\\u0430\\u0445\\u043e\\u0432\\u0430\\u043d\\u0438\\u044f. \\u0412 \\u0441\\u043b\\u0443\\u0447\\u0430\\u0435 \\u0431\\u0430\\u043d\\u043a\\u0440\\u043e\\u0442\\u0441\\u0442\\u0432\\u0430 \\u043f\\u0440\\u0435\\u0434\\u043f\\u0440\\u0438\\u044f\\u0442\\u0438\\u044f \\u0435\\u0433\\u043e \\u0440\\u0430\\u0431\\u043e\\u0442\\u043d\\u0438\\u043a\\u0438 \\u0441\\u043c\\u043e\\u0433\\u0443\\u0442 \\u043f\\u043e\\u043b\\u0443\\u0447\\u0438\\u0442\\u044c \\u0438\\u0437 \\u0431\\u044e\\u0434\\u0436\\u0435\\u0442\\u0430 \\u0444\\u043e\\u043d\\u0434\\u0430 \\u0435\\u0434\\u0438\\u043d\\u043e\\u0432\\u0440\\u0435\\u043c\\u0435\\u043d\\u043d\\u0443\\u044e \\u043a\\u043e\\u043c\\u043f\\u0435\\u043d\\u0441\\u0430\\u0446\\u0438\\u044e \\u0437\\u0430\\u0434\\u043e\\u043b\\u0436\\u0435\\u043d\\u043d\\u043e\\u0441\\u0442\\u0438 \\u043f\\u043e \\u0437\\u0430\\u0440\\u043f\\u043b\\u0430\\u0442\\u0435 \\u0437\\u0430 \\u0442\\u0440\\u0438 \\u043c\\u0435\\u0441\\u044f\\u0446\\u0430, \\u043f\\u0440\\u0435\\u0434\\u0448\\u0435\\u0441\\u0442\\u0432\\u0443\\u044e\\u0449\\u0438\\u0445 \\u0434\\u0430\\u0442\\u0435 \\u0432\\u043e\\u0437\\u0431\\u0443\\u0436\\u0434\\u0435\\u043d\\u0438\\u044f \\u0434\\u0435\\u043b\\u0430 \\u043e \\u0431\\u0430\\u043d\\u043a\\u0440\\u043e\\u0442\\u0441\\u0442\\u0432\\u0435. \\u0412 2013 \\u0433\\u043e\\u0434\\u0443 \\u0430\\u043d\\u0430\\u043b\\u043e\\u0433\\u0438\\u0447\\u043d\\u044b\\u0439 \\u0437\\u0430\\u043a\\u043e\\u043d\\u043e\\u043f\\u0440\\u043e\\u0435\\u043a\\u0442 \\u0434\\u043b\\u044f \\u043f\\u0443\\u0431\\u043b\\u0438\\u0447\\u043d\\u043e\\u0433\\u043e \\u043e\\u0431\\u0441\\u0443\\u0436\\u0434\\u0435\\u043d\\u0438\\u044f \\u043f\\u0440\\u0435\\u0434\\u0441\\u0442\\u0430\\u0432\\u043b\\u044f\\u043b \\u041c\\u0438\\u043d\\u0442\\u0440\\u0443\\u0434. \\u041d\\u043e \\u0438\\u043d\\u0438\\u0446\\u0438\\u0430\\u0442\\u0438\\u0432\\u0430 \\u0432\\u0435\\u0434\\u043e\\u043c\\u0441\\u0442\\u0432\\u0430 \\u0434\\u0430\\u043b\\u044c\\u0448\\u0435 \\u043d\\u0435 \\u043f\\u0440\\u043e\\u0434\\u0432\\u0438\\u043d\\u0443\\u043b\\u0430\\u0441\\u044c. \\u041d\\u043e\\u0432\\u044b\\u0439 \\u0434\\u043e\\u043a\\u0443\\u043c\\u0435\\u043d\\u0442, \\u043a\\u0430\\u043a \\u0441\\u043e\\u043e\\u0431\\u0449\\u0438\\u043b\\u0438 \\u0432 \\u0430\\u043f\\u043f\\u0430\\u0440\\u0430\\u0442\\u0435 \\u041a\\u043b\\u0438\\u0448\\u0430\\u0441\\u0430, \\u0443\\u0436\\u0435 \\u043f\\u043e\\u043b\\u0443\\u0447\\u0438\\u043b \\u043e\\u0434\\u043e\\u0431\\u0440\\u0435\\u043d\\u0438\\u0435 \\u0433\\u043b\\u0430\\u0432\\u043d\\u043e\\u0433\\u043e \\u043f\\u0440\\u0430\\u0432\\u043e\\u0432\\u043e\\u0433\\u043e \\u0443\\u043f\\u0440\\u0430\\u0432\\u043b\\u0435\\u043d\\u0438\\u044f \\u043f\\u0440\\u0435\\u0437\\u0438\\u0434\\u0435\\u043d\\u0442\\u0430, \\u0435\\u0433\\u043e \\u043f\\u043e\\u043c\\u043e\\u0449\\u043d\\u0438\\u043a\\u0430 \\u0410\\u043d\\u0434\\u0440\\u0435\\u044f \\u0411\\u0435\\u043b\\u043e\\u0443\\u0441\\u043e\\u0432\\u0430 \\u0438 \\u0430\\u0434\\u043c\\u0438\\u043d\\u0438\\u0441\\u0442\\u0440\\u0430\\u0446\\u0438\\u0435\\u0439 \\u043f\\u0440\\u0435\\u0437\\u0438\\u0434\\u0435\\u043d\\u0442\\u0430 \\u0432 \\u0446\\u0435\\u043b\\u043e\\u043c. \\u0421\\u043e\\u0433\\u043b\\u0430\\u0441\\u043d\\u043e \\u0442\\u0435\\u043a\\u0443\\u0449\\u0435\\u043c\\u0443 \\u0437\\u0430\\u043a\\u043e\\u043d\\u043e\\u0434\\u0430\\u0442\\u0435\\u043b\\u044c\\u0441\\u0442\\u0432\\u0443 \\u043f\\u0440\\u0438 \\u0431\\u0430\\u043d\\u043a\\u0440\\u043e\\u0442\\u0441\\u0442\\u0432\\u0435 \\u043e\\u0440\\u0433\\u0430\\u043d\\u0438\\u0437\\u0430\\u0446\\u0438\\u0438 \\u0435\\u0435 \\u0440\\u0430\\u0431\\u043e\\u0442\\u043d\\u0438\\u043a\\u0438 \\u0438\\u043c\\u0435\\u044e\\u0442 \\u043f\\u0440\\u0430\\u0432\\u043e \\u043d\\u0430 \\u0443\\u0434\\u043e\\u0432\\u043b\\u0435\\u0442\\u0432\\u043e\\u0440\\u0435\\u043d\\u0438\\u0435 \\u0442\\u0440\\u0435\\u0431\\u043e\\u0432\\u0430\\u043d\\u0438\\u0439 \\u043f\\u043e \\u0437\\u0430\\u0440\\u043f\\u043b\\u0430\\u0442\\u0430\\u043c \\u0432\\u043e \\u0432\\u0442\\u043e\\u0440\\u0443\\u044e \\u043e\\u0447\\u0435\\u0440\\u0435\\u0434\\u044c. \\u0415\\u0441\\u043b\\u0438 \\u0443 \\u0440\\u0430\\u0437\\u043e\\u0440\\u0435\\u043d\\u043d\\u043e\\u0433\\u043e \\u043f\\u0440\\u0435\\u0434\\u043f\\u0440\\u0438\\u044f\\u0442\\u0438\\u044f \\u043d\\u0435\\u0442 \\u0438\\u043c\\u0443\\u0449\\u0435\\u0441\\u0442\\u0432\\u0430, \\u0437\\u0430 \\u0441\\u0447\\u0435\\u0442 \\u043a\\u043e\\u0442\\u043e\\u0440\\u043e\\u0433\\u043e \\u0440\\u0430\\u0431\\u043e\\u0442\\u043d\\u0438\\u043a\\u0438 \\u043c\\u043e\\u0433\\u043b\\u0438 \\u0431\\u044b \\u043f\\u043e\\u043b\\u0443\\u0447\\u0438\\u0442\\u044c \\u043a\\u043e\\u043c\\u043f\\u0435\\u043d\\u0441\\u0430\\u0446\\u0438\\u044e, \\u0438\\u0445 \\u0442\\u0440\\u0435\\u0431\\u043e\\u0432\\u0430\\u043d\\u0438\\u044f \\u0441\\u0447\\u0438\\u0442\\u0430\\u044e\\u0442\\u0441\\u044f \\u043f\\u043e\\u0433\\u0430\\u0448\\u0435\\u043d\\u043d\\u044b\\u043c\\u0438. \\u041f\\u043e \\u0434\\u0430\\u043d\\u043d\\u044b\\u043c \\u0435\\u0434\\u0438\\u043d\\u043e\\u0433\\u043e \\u0444\\u0435\\u0434\\u0435\\u0440\\u0430\\u043b\\u044c\\u043d\\u043e\\u0433\\u043e \\u0440\\u0435\\u0435\\u0441\\u0442\\u0440\\u0430 \\u0441\\u0432\\u0435\\u0434\\u0435\\u043d\\u0438\\u0439 \\u043e \\u0431\\u0430\\u043d\\u043a\\u0440\\u043e\\u0442\\u0441\\u0442\\u0432\\u0435, \\u0437\\u0430 \\u044f\\u043d\\u0432\\u0430\\u0440\\u044c-\\u0438\\u044e\\u043d\\u044c 2015 \\u0433\\u043e\\u0434\\u0430 \\u043e\\u043f\\u0443\\u0431\\u043b\\u0438\\u043a\\u043e\\u0432\\u0430\\u043d\\u043e 7 658 \\u0441\\u043e\\u043e\\u0431\\u0449\\u0435\\u043d\\u0438\\u0439 \\u043e \\u043f\\u0440\\u0438\\u0437\\u043d\\u0430\\u043d\\u0438\\u0438 \\u043e\\u0440\\u0433\\u0430\\u043d\\u0438\\u0437\\u0430\\u0446\\u0438\\u0439 \\u0431\\u0430\\u043d\\u043a\\u0440\\u043e\\u0442\\u0430\\u043c\\u0438.\"\n        ],\n        \"semantic_type\": \"\",\n        \"description\": \"\"\n      }\n    },\n    {\n      \"column\": \"topic\",\n      \"properties\": {\n        \"dtype\": \"category\",\n        \"num_unique_values\": 17,\n        \"samples\": [\n          \"\\u0420\\u043e\\u0441\\u0441\\u0438\\u044f\",\n          \"\\u041c\\u0438\\u0440\",\n          \"\\u0411\\u044b\\u0432\\u0448\\u0438\\u0439 \\u0421\\u0421\\u0421\\u0420\"\n        ],\n        \"semantic_type\": \"\",\n        \"description\": \"\"\n      }\n    },\n    {\n      \"column\": \"tags\",\n      \"properties\": {\n        \"dtype\": \"category\",\n        \"num_unique_values\": 57,\n        \"samples\": [\n          \"\\u0412\\u0441\\u0435\",\n          \"\\u041a\\u043e\\u043d\\u0444\\u043b\\u0438\\u043a\\u0442\\u044b\",\n          \"\\u0420\\u0435\\u043a\\u043b\\u0430\\u043c\\u0430\"\n        ],\n        \"semantic_type\": \"\",\n        \"description\": \"\"\n      }\n    },\n    {\n      \"column\": \"date\",\n      \"properties\": {\n        \"dtype\": \"object\",\n        \"num_unique_values\": 563,\n        \"samples\": [\n          \"2002/12/24\",\n          \"2016/08/01\",\n          \"2008/02/07\"\n        ],\n        \"semantic_type\": \"\",\n        \"description\": \"\"\n      }\n    }\n  ]\n}"
            }
          },
          "metadata": {},
          "execution_count": 78
        }
      ],
      "source": [
        "data.head()"
      ]
    },
    {
      "cell_type": "code",
      "execution_count": 5,
      "id": "10e410cd",
      "metadata": {
        "id": "10e410cd"
      },
      "outputs": [],
      "source": [
        "from sklearn.metrics import f1_score\n",
        "\n",
        "def train(model, iterator, optimizer, criterion, print_every=1000):\n",
        "\n",
        "    epoch_loss = []\n",
        "    epoch_f1 = []\n",
        "\n",
        "    model.train()\n",
        "\n",
        "    for i, (texts, ys) in enumerate(iterator):\n",
        "\n",
        "        optimizer.zero_grad()\n",
        "        predictions = model(texts.to(device)).squeeze()\n",
        "        loss = criterion(predictions, ys.to(device))\n",
        "\n",
        "\n",
        "\n",
        "        loss.backward()\n",
        "        optimizer.step()\n",
        "        preds = predictions.detach().to('cpu').numpy().argmax(1).tolist()\n",
        "        y_true = ys.tolist()\n",
        "\n",
        "        epoch_loss.append(loss.item())\n",
        "        epoch_f1.append(f1_score(y_true, preds, average=\"micro\"))\n",
        "\n",
        "        if not (i+1) % print_every:\n",
        "            print(f'Loss: {np.mean(epoch_loss)}; F1 measure: {np.mean(epoch_f1)}')\n",
        "\n",
        "    return np.mean(epoch_f1)\n",
        "\n",
        "\n",
        "def evaluate(model, iterator, criterion):\n",
        "\n",
        "    epoch_loss = []\n",
        "    epoch_f1 = []\n",
        "\n",
        "    model.eval()\n",
        "    with torch.no_grad():\n",
        "        for texts, ys in iterator:\n",
        "\n",
        "            predictions = model(texts.to(device)).squeeze()\n",
        "            loss = criterion(predictions, ys.to(device))\n",
        "            preds = predictions.detach().to('cpu').numpy().argmax(1).tolist()\n",
        "            y_true = ys.tolist()\n",
        "\n",
        "\n",
        "            epoch_loss.append(loss.item())\n",
        "            epoch_f1.append(f1_score(y_true, preds, average=\"micro\"))\n",
        "\n",
        "    return np.mean(epoch_f1)# / len(iterator)"
      ]
    },
    {
      "cell_type": "code",
      "execution_count": 6,
      "id": "42bae1dd",
      "metadata": {
        "id": "42bae1dd"
      },
      "outputs": [],
      "source": [
        "def predict(model, iterator):\n",
        "\n",
        "    preds = []\n",
        "\n",
        "    model.eval()\n",
        "    with torch.no_grad():\n",
        "        for texts, ys in iterator:\n",
        "            predictions = model(texts.to(device)).squeeze()\n",
        "            ys = predictions.detach().to('cpu').numpy().argmax(1).tolist()\n",
        "            preds.extend(ys)\n",
        "\n",
        "    return preds"
      ]
    },
    {
      "cell_type": "code",
      "execution_count": 7,
      "id": "23684b9f",
      "metadata": {
        "id": "23684b9f"
      },
      "outputs": [],
      "source": [
        "class Dataset(torch.utils.data.Dataset):\n",
        "\n",
        "    def __init__(self, tokenizer, MAX_LEN, texts, targets):\n",
        "\n",
        "        self.tokenizer = tokenizer\n",
        "        self.texts = [torch.LongTensor(tokenizer.encode(t)[:MAX_LEN]) for t in texts]\n",
        "        self.texts = torch.nn.utils.rnn.pad_sequence(self.texts, batch_first=True,\n",
        "                                                     padding_value=self.tokenizer.pad_token_id)\n",
        "\n",
        "        self.MAX_LEN = MAX_LEN\n",
        "        self.length = len(texts)\n",
        "\n",
        "        self.target = torch.LongTensor(targets)\n",
        "\n",
        "    def __len__(self):\n",
        "        return self.length\n",
        "\n",
        "    def __getitem__(self, index):\n",
        "        ids = self.texts[index]\n",
        "        y = self.target[index]\n",
        "\n",
        "        return ids, y\n",
        "\n",
        "    def preprocess(self, text):\n",
        "        tokens = text.lower().split()\n",
        "        tokens = [token.strip(punctuation) for token in tokens]\n",
        "        tokens = [token for token in tokens if token]\n",
        "        return tokens"
      ]
    },
    {
      "cell_type": "code",
      "execution_count": 8,
      "id": "88f5d33e",
      "metadata": {
        "id": "88f5d33e"
      },
      "outputs": [],
      "source": [
        "import torch.nn as nn\n",
        "\n",
        "class CLF(nn.Module):\n",
        "\n",
        "    def __init__(self, pretrained_model, num_classes):\n",
        "        super().__init__()\n",
        "        self.tokenizer = tokenizer # токенизатор\n",
        "        self.pretrained_model = pretrained_model # предобученная модель\n",
        "        #\n",
        "        self.drop = nn.Dropout(0.3) # добавим дропаут чтобы не переобучалось\n",
        "        self.fc = nn.Linear(768, num_classes)\n",
        "        self.act = nn.LogSoftmax(1)\n",
        "\n",
        "    def forward(self, texts):\n",
        "\n",
        "        mask = (texts != tokenizer.pad_token_id).long()\n",
        "\n",
        "        # прогоняем через BERT\n",
        "        hidden = self.pretrained_model(texts, attention_mask=mask)[0]\n",
        "\n",
        "        # берем самое первое состояние и применяем к нему линейный слой и активацию\n",
        "        dense_outputs=self.fc(self.drop(hidden[:,0] ))\n",
        "        outputs=self.act(dense_outputs)\n",
        "\n",
        "        return outputs"
      ]
    },
    {
      "cell_type": "code",
      "execution_count": 9,
      "id": "88bfa8a7",
      "metadata": {
        "id": "88bfa8a7"
      },
      "outputs": [],
      "source": [
        "MAX_LEN = 512\n",
        "texts = data.text.values\n",
        "id2label = {i:l for i,l in enumerate(set(data.topic))}\n",
        "label2id = {l:i for i,l in id2label.items()}\n",
        "targets = [label2id[l] for l in data.topic]"
      ]
    },
    {
      "cell_type": "code",
      "execution_count": 10,
      "id": "9c33baaf",
      "metadata": {
        "id": "9c33baaf"
      },
      "outputs": [],
      "source": [
        "train_texts, valid_texts, train_targets, valid_targets = train_test_split(texts, targets, test_size=0.05)"
      ]
    },
    {
      "cell_type": "markdown",
      "source": [
        "**ModernBERT**"
      ],
      "metadata": {
        "id": "6_WudWn5MwVG"
      },
      "id": "6_WudWn5MwVG"
    },
    {
      "cell_type": "code",
      "execution_count": null,
      "id": "6d5b4606",
      "metadata": {
        "id": "6d5b4606"
      },
      "outputs": [],
      "source": [
        "model_id = \"answerdotai/ModernBERT-base\"\n",
        "tokenizer = AutoTokenizer.from_pretrained(model_id)\n",
        "model = AutoModel.from_pretrained(model_id)"
      ]
    },
    {
      "cell_type": "code",
      "source": [
        "for param in model.parameters():\n",
        "    param.requires_grad = False"
      ],
      "metadata": {
        "id": "3qUgSxsjJCha"
      },
      "id": "3qUgSxsjJCha",
      "execution_count": null,
      "outputs": []
    },
    {
      "cell_type": "code",
      "execution_count": null,
      "id": "5d8c4be0",
      "metadata": {
        "id": "5d8c4be0"
      },
      "outputs": [],
      "source": [
        "training_set = Dataset(tokenizer, MAX_LEN, train_texts, train_targets)\n",
        "training_generator = torch.utils.data.DataLoader(training_set, batch_size=16, shuffle=True, )\n",
        "valid_set = Dataset(tokenizer, MAX_LEN, valid_texts, valid_targets)\n",
        "valid_generator = torch.utils.data.DataLoader(valid_set, batch_size=16, shuffle=True)"
      ]
    },
    {
      "cell_type": "code",
      "execution_count": null,
      "id": "60541b7d",
      "metadata": {
        "id": "60541b7d"
      },
      "outputs": [],
      "source": [
        "device = torch.device('cuda' if torch.cuda.is_available() else 'cpu')\n",
        "model = CLF(model, len(label2id))\n",
        "optimizer = optim.Adam(model.parameters(), lr=2e-4)\n",
        "criterion = nn.NLLLoss()\n",
        "model = model.to(device)\n",
        "criterion = criterion.to(device)"
      ]
    },
    {
      "cell_type": "code",
      "execution_count": null,
      "id": "dca11f24",
      "metadata": {
        "colab": {
          "base_uri": "https://localhost:8080/"
        },
        "id": "dca11f24",
        "outputId": "15e4a185-bb57-4bf8-dffe-1200fd74593d"
      },
      "outputs": [
        {
          "output_type": "stream",
          "name": "stdout",
          "text": [
            "Percentage of trainable params:\n",
            "0.0000877222\n"
          ]
        }
      ],
      "source": [
        "print(\"Percentage of trainable params:\")\n",
        "print('{0:.10f}'.format(sum(p.numel() for p in model.parameters() if p.requires_grad)/sum(p.numel() for p in model.parameters())))\n"
      ]
    },
    {
      "cell_type": "code",
      "execution_count": null,
      "id": "285075f9",
      "metadata": {
        "colab": {
          "base_uri": "https://localhost:8080/"
        },
        "id": "285075f9",
        "outputId": "8485b8a4-1b4b-45e7-d077-0182ad01c888"
      },
      "outputs": [
        {
          "output_type": "stream",
          "name": "stdout",
          "text": [
            "0\n",
            "Eval -  0.225\n",
            "1\n",
            "Eval -  0.26041666666666663\n",
            "2\n",
            "Eval -  0.225\n",
            "3\n",
            "Eval -  0.25625\n",
            "4\n",
            "Eval -  0.2583333333333333\n",
            "5\n",
            "Eval -  0.26041666666666663\n",
            "6\n",
            "Eval -  0.19791666666666666\n",
            "7\n",
            "Eval -  0.22291666666666665\n",
            "8\n",
            "Eval -  0.22916666666666666\n",
            "9\n",
            "Eval -  0.22291666666666665\n",
            "10\n",
            "Eval -  0.225\n",
            "11\n",
            "Eval -  0.19791666666666666\n",
            "12\n",
            "Eval -  0.19166666666666665\n",
            "13\n",
            "Eval -  0.22916666666666666\n",
            "14\n",
            "Eval -  0.19583333333333333\n",
            "15\n",
            "Eval -  0.19583333333333333\n",
            "16\n",
            "Eval -  0.19583333333333333\n",
            "17\n",
            "Eval -  0.19166666666666665\n",
            "18\n",
            "Eval -  0.19166666666666665\n",
            "19\n",
            "Eval -  0.19375\n",
            "20\n",
            "Eval -  0.19791666666666666\n"
          ]
        }
      ],
      "source": [
        "f1s = []\n",
        "f1s_eval = []\n",
        "\n",
        "for i in range(21):\n",
        "    print(i)\n",
        "    f1s.append(train(model, training_generator, optimizer, criterion, 2000))\n",
        "    evl = evaluate(model, valid_generator, criterion)\n",
        "    print('Eval - ', evl)\n",
        "    f1s_eval.append(evl)"
      ]
    },
    {
      "cell_type": "code",
      "execution_count": null,
      "id": "ada47099",
      "metadata": {
        "colab": {
          "base_uri": "https://localhost:8080/"
        },
        "id": "ada47099",
        "outputId": "bb447fa2-9cb7-4bde-e891-a6696494d786"
      },
      "outputs": [
        {
          "output_type": "stream",
          "name": "stdout",
          "text": [
            "              precision    recall  f1-score   support\n",
            "\n",
            "           0       0.00      0.00      0.00         2\n",
            "           3       0.20      1.00      0.33         1\n",
            "           4       0.00      0.00      0.00         2\n",
            "           5       0.33      1.00      0.50         1\n",
            "           6       0.00      0.00      0.00         1\n",
            "           7       0.00      0.00      0.00         8\n",
            "           8       0.00      0.00      0.00         2\n",
            "          10       0.50      0.25      0.33         4\n",
            "          11       0.17      0.33      0.22         3\n",
            "          12       0.00      0.00      0.00         1\n",
            "          13       0.29      0.50      0.36         4\n",
            "          16       0.00      0.00      0.00         2\n",
            "\n",
            "    accuracy                           0.19        31\n",
            "   macro avg       0.12      0.26      0.15        31\n",
            "weighted avg       0.13      0.19      0.14        31\n",
            "\n"
          ]
        },
        {
          "output_type": "stream",
          "name": "stderr",
          "text": [
            "/usr/local/lib/python3.11/dist-packages/sklearn/metrics/_classification.py:1565: UndefinedMetricWarning: Precision is ill-defined and being set to 0.0 in labels with no predicted samples. Use `zero_division` parameter to control this behavior.\n",
            "  _warn_prf(average, modifier, f\"{metric.capitalize()} is\", len(result))\n",
            "/usr/local/lib/python3.11/dist-packages/sklearn/metrics/_classification.py:1565: UndefinedMetricWarning: Precision is ill-defined and being set to 0.0 in labels with no predicted samples. Use `zero_division` parameter to control this behavior.\n",
            "  _warn_prf(average, modifier, f\"{metric.capitalize()} is\", len(result))\n",
            "/usr/local/lib/python3.11/dist-packages/sklearn/metrics/_classification.py:1565: UndefinedMetricWarning: Precision is ill-defined and being set to 0.0 in labels with no predicted samples. Use `zero_division` parameter to control this behavior.\n",
            "  _warn_prf(average, modifier, f\"{metric.capitalize()} is\", len(result))\n"
          ]
        }
      ],
      "source": [
        "valid_generator = torch.utils.data.DataLoader(valid_set, batch_size=32, shuffle=False)\n",
        "preds = predict(model, valid_generator)\n",
        "\n",
        "print(classification_report(valid_targets, preds))"
      ]
    },
    {
      "cell_type": "code",
      "source": [
        "model_id = \"answerdotai/ModernBERT-base\"\n",
        "tokenizer = AutoTokenizer.from_pretrained(model_id)\n",
        "model = AutoModel.from_pretrained(model_id)"
      ],
      "metadata": {
        "id": "sGh7vxA6MMgS"
      },
      "id": "sGh7vxA6MMgS",
      "execution_count": null,
      "outputs": []
    },
    {
      "cell_type": "code",
      "source": [
        "training_set = Dataset(tokenizer, MAX_LEN, train_texts, train_targets)\n",
        "training_generator = torch.utils.data.DataLoader(training_set, batch_size=8, shuffle=True, )\n",
        "valid_set = Dataset(tokenizer, MAX_LEN, valid_texts, valid_targets)\n",
        "valid_generator = torch.utils.data.DataLoader(valid_set, batch_size=8, shuffle=True)"
      ],
      "metadata": {
        "id": "8G1jJvlSMYe6"
      },
      "id": "8G1jJvlSMYe6",
      "execution_count": null,
      "outputs": []
    },
    {
      "cell_type": "code",
      "source": [
        "device = torch.device('cuda' if torch.cuda.is_available() else 'cpu')\n",
        "model = CLF(model, len(label2id))\n",
        "optimizer = optim.Adam(model.parameters(), lr=2e-4)\n",
        "criterion = nn.NLLLoss()\n",
        "model = model.to(device)\n",
        "criterion = criterion.to(device)"
      ],
      "metadata": {
        "id": "ObrMVwHwMaxi"
      },
      "id": "ObrMVwHwMaxi",
      "execution_count": null,
      "outputs": []
    },
    {
      "cell_type": "code",
      "source": [
        "print(\"Percentage of trainable params:\")\n",
        "print('{0:.10f}'.format(sum(p.numel() for p in model.parameters() if p.requires_grad)/sum(p.numel() for p in model.parameters())))"
      ],
      "metadata": {
        "id": "xPZwxBD2Mcqy",
        "colab": {
          "base_uri": "https://localhost:8080/"
        },
        "outputId": "1415f402-8293-4827-cf35-5f9380dcd9c0"
      },
      "id": "xPZwxBD2Mcqy",
      "execution_count": null,
      "outputs": [
        {
          "output_type": "stream",
          "name": "stdout",
          "text": [
            "Percentage of trainable params:\n",
            "1.0000000000\n"
          ]
        }
      ]
    },
    {
      "cell_type": "code",
      "source": [
        "f1s = []\n",
        "f1s_eval = []\n",
        "\n",
        "for i in range(11):\n",
        "    print(i)\n",
        "    f1s.append(train(model, training_generator, optimizer, criterion, 2000))\n",
        "    evl = evaluate(model, valid_generator, criterion)\n",
        "    print('Eval - ', evl)\n",
        "    f1s_eval.append(evl)"
      ],
      "metadata": {
        "colab": {
          "base_uri": "https://localhost:8080/"
        },
        "id": "MRmBdVBeMgU7",
        "outputId": "72a01788-947e-441c-b48a-34c9ca18e20d"
      },
      "id": "MRmBdVBeMgU7",
      "execution_count": null,
      "outputs": [
        {
          "output_type": "stream",
          "name": "stdout",
          "text": [
            "0\n",
            "Eval -  0.09821428571428571\n",
            "1\n",
            "Eval -  0.09375\n",
            "2\n",
            "Eval -  0.03571428571428571\n",
            "3\n",
            "Eval -  0.09375\n",
            "4\n",
            "Eval -  0.19642857142857142\n",
            "5\n",
            "Eval -  0.16517857142857142\n",
            "6\n",
            "Eval -  0.15625\n",
            "7\n",
            "Eval -  0.2544642857142857\n",
            "8\n",
            "Eval -  0.2857142857142857\n",
            "9\n",
            "Eval -  0.22767857142857142\n",
            "10\n",
            "Eval -  0.2544642857142857\n"
          ]
        }
      ]
    },
    {
      "cell_type": "code",
      "source": [
        "valid_generator = torch.utils.data.DataLoader(valid_set, batch_size=32, shuffle=False)\n",
        "preds = predict(model, valid_generator)\n",
        "\n",
        "print(classification_report(valid_targets, preds))"
      ],
      "metadata": {
        "id": "HNeDRDsLMjvK",
        "colab": {
          "base_uri": "https://localhost:8080/"
        },
        "outputId": "000ad087-d671-4e39-c768-3029706498df"
      },
      "id": "HNeDRDsLMjvK",
      "execution_count": null,
      "outputs": [
        {
          "output_type": "stream",
          "name": "stdout",
          "text": [
            "              precision    recall  f1-score   support\n",
            "\n",
            "           0       0.80      0.80      0.80         5\n",
            "           1       0.00      0.00      0.00         1\n",
            "           3       0.00      0.00      0.00         1\n",
            "           4       0.25      0.50      0.33         2\n",
            "           5       0.00      0.00      0.00         0\n",
            "           6       0.00      0.00      0.00         1\n",
            "           7       0.00      0.00      0.00         0\n",
            "           8       0.00      0.00      0.00         0\n",
            "           9       0.00      0.00      0.00         1\n",
            "          10       0.00      0.00      0.00         1\n",
            "          11       0.00      0.00      0.00         1\n",
            "          12       0.00      0.00      0.00         4\n",
            "          13       0.50      0.50      0.50         4\n",
            "          14       0.00      0.00      0.00         3\n",
            "          15       1.00      0.33      0.50         3\n",
            "          16       0.00      0.00      0.00         4\n",
            "\n",
            "    accuracy                           0.26        31\n",
            "   macro avg       0.16      0.13      0.13        31\n",
            "weighted avg       0.31      0.26      0.26        31\n",
            "\n"
          ]
        },
        {
          "output_type": "stream",
          "name": "stderr",
          "text": [
            "/usr/local/lib/python3.11/dist-packages/sklearn/metrics/_classification.py:1565: UndefinedMetricWarning: Precision is ill-defined and being set to 0.0 in labels with no predicted samples. Use `zero_division` parameter to control this behavior.\n",
            "  _warn_prf(average, modifier, f\"{metric.capitalize()} is\", len(result))\n",
            "/usr/local/lib/python3.11/dist-packages/sklearn/metrics/_classification.py:1565: UndefinedMetricWarning: Recall is ill-defined and being set to 0.0 in labels with no true samples. Use `zero_division` parameter to control this behavior.\n",
            "  _warn_prf(average, modifier, f\"{metric.capitalize()} is\", len(result))\n",
            "/usr/local/lib/python3.11/dist-packages/sklearn/metrics/_classification.py:1565: UndefinedMetricWarning: Precision is ill-defined and being set to 0.0 in labels with no predicted samples. Use `zero_division` parameter to control this behavior.\n",
            "  _warn_prf(average, modifier, f\"{metric.capitalize()} is\", len(result))\n",
            "/usr/local/lib/python3.11/dist-packages/sklearn/metrics/_classification.py:1565: UndefinedMetricWarning: Recall is ill-defined and being set to 0.0 in labels with no true samples. Use `zero_division` parameter to control this behavior.\n",
            "  _warn_prf(average, modifier, f\"{metric.capitalize()} is\", len(result))\n",
            "/usr/local/lib/python3.11/dist-packages/sklearn/metrics/_classification.py:1565: UndefinedMetricWarning: Precision is ill-defined and being set to 0.0 in labels with no predicted samples. Use `zero_division` parameter to control this behavior.\n",
            "  _warn_prf(average, modifier, f\"{metric.capitalize()} is\", len(result))\n",
            "/usr/local/lib/python3.11/dist-packages/sklearn/metrics/_classification.py:1565: UndefinedMetricWarning: Recall is ill-defined and being set to 0.0 in labels with no true samples. Use `zero_division` parameter to control this behavior.\n",
            "  _warn_prf(average, modifier, f\"{metric.capitalize()} is\", len(result))\n"
          ]
        }
      ]
    },
    {
      "cell_type": "markdown",
      "source": [
        "**RuModernBERT**"
      ],
      "metadata": {
        "id": "9cW5lw9fMkpj"
      },
      "id": "9cW5lw9fMkpj"
    },
    {
      "cell_type": "code",
      "execution_count": null,
      "id": "ff844f94",
      "metadata": {
        "id": "ff844f94"
      },
      "outputs": [],
      "source": [
        "model_id = \"deepvk/RuModernBERT-base\"\n",
        "tokenizer = AutoTokenizer.from_pretrained(model_id)\n",
        "model = AutoModel.from_pretrained(model_id)"
      ]
    },
    {
      "cell_type": "code",
      "source": [
        "for param in model.parameters():\n",
        "    param.requires_grad = False"
      ],
      "metadata": {
        "id": "qujVf6c8Y6cj"
      },
      "id": "qujVf6c8Y6cj",
      "execution_count": null,
      "outputs": []
    },
    {
      "cell_type": "code",
      "source": [
        "training_set = Dataset(tokenizer, MAX_LEN, train_texts, train_targets)\n",
        "training_generator = torch.utils.data.DataLoader(training_set, batch_size=16, shuffle=True, )\n",
        "valid_set = Dataset(tokenizer, MAX_LEN, valid_texts, valid_targets)\n",
        "valid_generator = torch.utils.data.DataLoader(valid_set, batch_size=16, shuffle=True)"
      ],
      "metadata": {
        "id": "GALreTrPZSdj"
      },
      "id": "GALreTrPZSdj",
      "execution_count": null,
      "outputs": []
    },
    {
      "cell_type": "code",
      "execution_count": null,
      "id": "0402a2d3",
      "metadata": {
        "id": "0402a2d3"
      },
      "outputs": [],
      "source": [
        "device = torch.device('cuda' if torch.cuda.is_available() else 'cpu')\n",
        "model = CLF(model, len(label2id))\n",
        "optimizer = optim.Adam(model.parameters(), lr=2e-4)\n",
        "criterion = nn.NLLLoss()\n",
        "model = model.to(device)\n",
        "criterion = criterion.to(device)"
      ]
    },
    {
      "cell_type": "code",
      "execution_count": null,
      "id": "101c10d8",
      "metadata": {
        "id": "101c10d8",
        "colab": {
          "base_uri": "https://localhost:8080/"
        },
        "outputId": "7cdf49a6-6ade-41d6-9791-e95d5c69fd8b"
      },
      "outputs": [
        {
          "output_type": "stream",
          "name": "stdout",
          "text": [
            "Percentage of trainable params:\n",
            "0.0000877222\n"
          ]
        }
      ],
      "source": [
        "print(\"Percentage of trainable params:\")\n",
        "print('{0:.10f}'.format(sum(p.numel() for p in model.parameters() if p.requires_grad)/sum(p.numel() for p in model.parameters())))"
      ]
    },
    {
      "cell_type": "code",
      "execution_count": null,
      "id": "6c9a8337",
      "metadata": {
        "id": "6c9a8337",
        "colab": {
          "base_uri": "https://localhost:8080/"
        },
        "outputId": "d3b24f93-d20d-4338-d751-59704c644758"
      },
      "outputs": [
        {
          "output_type": "stream",
          "name": "stdout",
          "text": [
            "0\n",
            "Eval -  0.15833333333333333\n",
            "1\n",
            "Eval -  0.03333333333333333\n",
            "2\n",
            "Eval -  0.03333333333333333\n",
            "3\n",
            "Eval -  0.03125\n",
            "4\n",
            "Eval -  0.03333333333333333\n",
            "5\n",
            "Eval -  0.03333333333333333\n",
            "6\n",
            "Eval -  0.0625\n",
            "7\n",
            "Eval -  0.03125\n",
            "8\n",
            "Eval -  0.03333333333333333\n",
            "9\n",
            "Eval -  0.06666666666666667\n",
            "10\n",
            "Eval -  0.09583333333333333\n",
            "11\n",
            "Eval -  0.03333333333333333\n",
            "12\n",
            "Eval -  0.0625\n",
            "13\n",
            "Eval -  0.09375\n",
            "14\n",
            "Eval -  0.06458333333333333\n",
            "15\n",
            "Eval -  0.06666666666666667\n",
            "16\n",
            "Eval -  0.09583333333333333\n",
            "17\n",
            "Eval -  0.12708333333333333\n",
            "18\n",
            "Eval -  0.0625\n",
            "19\n",
            "Eval -  0.12708333333333333\n",
            "20\n",
            "Eval -  0.09583333333333333\n"
          ]
        }
      ],
      "source": [
        "f1s = []\n",
        "f1s_eval = []\n",
        "\n",
        "for i in range(21):\n",
        "    print(i)\n",
        "    f1s.append(train(model, training_generator, optimizer, criterion, 2000))\n",
        "    evl = evaluate(model, valid_generator, criterion)\n",
        "    print('Eval - ', evl)\n",
        "    f1s_eval.append(evl)"
      ]
    },
    {
      "cell_type": "code",
      "execution_count": null,
      "id": "78b1fda2",
      "metadata": {
        "id": "78b1fda2"
      },
      "outputs": [],
      "source": [
        "valid_generator = torch.utils.data.DataLoader(valid_set, batch_size=32, shuffle=False)\n",
        "preds = predict(model, valid_generator)"
      ]
    },
    {
      "cell_type": "code",
      "execution_count": null,
      "id": "0cf715ea",
      "metadata": {
        "id": "0cf715ea",
        "colab": {
          "base_uri": "https://localhost:8080/"
        },
        "outputId": "d144beed-1b47-49da-eecd-7b8120d6fcb0"
      },
      "outputs": [
        {
          "output_type": "stream",
          "name": "stdout",
          "text": [
            "              precision    recall  f1-score   support\n",
            "\n",
            "           0       0.00      0.00      0.00         1\n",
            "           1       0.00      0.00      0.00         3\n",
            "           2       0.00      0.00      0.00         1\n",
            "           4       0.00      0.00      0.00         4\n",
            "           6       1.00      0.33      0.50         3\n",
            "           7       0.00      0.00      0.00         5\n",
            "           8       0.05      1.00      0.10         1\n",
            "           9       0.09      0.33      0.14         3\n",
            "          11       0.00      0.00      0.00         1\n",
            "          12       0.00      0.00      0.00         2\n",
            "          15       0.00      0.00      0.00         5\n",
            "          16       0.00      0.00      0.00         2\n",
            "\n",
            "    accuracy                           0.10        31\n",
            "   macro avg       0.10      0.14      0.06        31\n",
            "weighted avg       0.11      0.10      0.07        31\n",
            "\n"
          ]
        },
        {
          "output_type": "stream",
          "name": "stderr",
          "text": [
            "/usr/local/lib/python3.11/dist-packages/sklearn/metrics/_classification.py:1565: UndefinedMetricWarning: Precision is ill-defined and being set to 0.0 in labels with no predicted samples. Use `zero_division` parameter to control this behavior.\n",
            "  _warn_prf(average, modifier, f\"{metric.capitalize()} is\", len(result))\n",
            "/usr/local/lib/python3.11/dist-packages/sklearn/metrics/_classification.py:1565: UndefinedMetricWarning: Precision is ill-defined and being set to 0.0 in labels with no predicted samples. Use `zero_division` parameter to control this behavior.\n",
            "  _warn_prf(average, modifier, f\"{metric.capitalize()} is\", len(result))\n",
            "/usr/local/lib/python3.11/dist-packages/sklearn/metrics/_classification.py:1565: UndefinedMetricWarning: Precision is ill-defined and being set to 0.0 in labels with no predicted samples. Use `zero_division` parameter to control this behavior.\n",
            "  _warn_prf(average, modifier, f\"{metric.capitalize()} is\", len(result))\n"
          ]
        }
      ],
      "source": [
        "print(classification_report(valid_targets, preds))"
      ]
    },
    {
      "cell_type": "code",
      "source": [
        "model_id = \"deepvk/RuModernBERT-base\"\n",
        "tokenizer = AutoTokenizer.from_pretrained(model_id)\n",
        "model = AutoModel.from_pretrained(model_id)"
      ],
      "metadata": {
        "id": "QU8QRaBlenRV"
      },
      "id": "QU8QRaBlenRV",
      "execution_count": null,
      "outputs": []
    },
    {
      "cell_type": "code",
      "source": [
        "training_set = Dataset(tokenizer, MAX_LEN, train_texts, train_targets)\n",
        "training_generator = torch.utils.data.DataLoader(training_set, batch_size=8, shuffle=True, )\n",
        "valid_set = Dataset(tokenizer, MAX_LEN, valid_texts, valid_targets)\n",
        "valid_generator = torch.utils.data.DataLoader(valid_set, batch_size=8, shuffle=True)"
      ],
      "metadata": {
        "id": "kIw4jY9jepTD"
      },
      "id": "kIw4jY9jepTD",
      "execution_count": null,
      "outputs": []
    },
    {
      "cell_type": "code",
      "source": [
        "device = torch.device('cuda' if torch.cuda.is_available() else 'cpu')\n",
        "model = CLF(model, len(label2id))\n",
        "optimizer = optim.Adam(model.parameters(), lr=2e-4)\n",
        "criterion = nn.NLLLoss()\n",
        "model = model.to(device)\n",
        "criterion = criterion.to(device)"
      ],
      "metadata": {
        "id": "OQ1c5gFHepVq"
      },
      "id": "OQ1c5gFHepVq",
      "execution_count": null,
      "outputs": []
    },
    {
      "cell_type": "code",
      "source": [
        "print(\"Percentage of trainable params:\")\n",
        "print('{0:.10f}'.format(sum(p.numel() for p in model.parameters() if p.requires_grad)/sum(p.numel() for p in model.parameters())))"
      ],
      "metadata": {
        "colab": {
          "base_uri": "https://localhost:8080/"
        },
        "id": "qfMX0owKepYb",
        "outputId": "08ce1a03-4230-4057-d60f-a8cc8dd0370f"
      },
      "id": "qfMX0owKepYb",
      "execution_count": null,
      "outputs": [
        {
          "output_type": "stream",
          "name": "stdout",
          "text": [
            "Percentage of trainable params:\n",
            "1.0000000000\n"
          ]
        }
      ]
    },
    {
      "cell_type": "code",
      "source": [
        "f1s = []\n",
        "f1s_eval = []\n",
        "\n",
        "for i in range(11):\n",
        "    print(i)\n",
        "    f1s.append(train(model, training_generator, optimizer, criterion, 1000))\n",
        "    evl = evaluate(model, valid_generator, criterion)\n",
        "    print('Eval - ', evl)\n",
        "    f1s_eval.append(evl)"
      ],
      "metadata": {
        "colab": {
          "base_uri": "https://localhost:8080/"
        },
        "id": "Jm9SNy31epay",
        "outputId": "a90c2499-2873-4d67-951e-33a50d2f5595"
      },
      "id": "Jm9SNy31epay",
      "execution_count": null,
      "outputs": [
        {
          "output_type": "stream",
          "name": "stdout",
          "text": [
            "0\n",
            "Eval -  0.3794642857142857\n",
            "1\n",
            "Eval -  0.4151785714285714\n",
            "2\n",
            "Eval -  0.4107142857142857\n",
            "3\n",
            "Eval -  0.3973214285714286\n",
            "4\n",
            "Eval -  0.36160714285714285\n",
            "5\n",
            "Eval -  0.4419642857142857\n",
            "6\n",
            "Eval -  0.5535714285714286\n",
            "7\n",
            "Eval -  0.5535714285714286\n",
            "8\n",
            "Eval -  0.5580357142857143\n",
            "9\n",
            "Eval -  0.48214285714285715\n",
            "10\n",
            "Eval -  0.5446428571428571\n"
          ]
        }
      ]
    },
    {
      "cell_type": "code",
      "source": [
        "valid_generator = torch.utils.data.DataLoader(valid_set, batch_size=32, shuffle=False)\n",
        "preds = predict(model, valid_generator)"
      ],
      "metadata": {
        "id": "ZefgkojKiI2c"
      },
      "id": "ZefgkojKiI2c",
      "execution_count": null,
      "outputs": []
    },
    {
      "cell_type": "code",
      "source": [
        "print(classification_report(valid_targets, preds))"
      ],
      "metadata": {
        "colab": {
          "base_uri": "https://localhost:8080/"
        },
        "id": "gnW7YqogiI48",
        "outputId": "2e2f051e-64b7-4c38-a91c-4cd864c96242"
      },
      "id": "gnW7YqogiI48",
      "execution_count": null,
      "outputs": [
        {
          "output_type": "stream",
          "name": "stdout",
          "text": [
            "              precision    recall  f1-score   support\n",
            "\n",
            "           0       1.00      1.00      1.00         1\n",
            "           1       0.33      0.33      0.33         3\n",
            "           2       0.25      1.00      0.40         1\n",
            "           3       0.00      0.00      0.00         0\n",
            "           4       0.00      0.00      0.00         4\n",
            "           6       1.00      0.33      0.50         3\n",
            "           7       0.67      0.80      0.73         5\n",
            "           8       0.00      0.00      0.00         1\n",
            "           9       0.67      0.67      0.67         3\n",
            "          11       1.00      1.00      1.00         1\n",
            "          12       1.00      1.00      1.00         2\n",
            "          15       0.60      0.60      0.60         5\n",
            "          16       1.00      0.50      0.67         2\n",
            "\n",
            "    accuracy                           0.55        31\n",
            "   macro avg       0.58      0.56      0.53        31\n",
            "weighted avg       0.60      0.55      0.54        31\n",
            "\n"
          ]
        },
        {
          "output_type": "stream",
          "name": "stderr",
          "text": [
            "/usr/local/lib/python3.11/dist-packages/sklearn/metrics/_classification.py:1565: UndefinedMetricWarning: Precision is ill-defined and being set to 0.0 in labels with no predicted samples. Use `zero_division` parameter to control this behavior.\n",
            "  _warn_prf(average, modifier, f\"{metric.capitalize()} is\", len(result))\n",
            "/usr/local/lib/python3.11/dist-packages/sklearn/metrics/_classification.py:1565: UndefinedMetricWarning: Recall is ill-defined and being set to 0.0 in labels with no true samples. Use `zero_division` parameter to control this behavior.\n",
            "  _warn_prf(average, modifier, f\"{metric.capitalize()} is\", len(result))\n",
            "/usr/local/lib/python3.11/dist-packages/sklearn/metrics/_classification.py:1565: UndefinedMetricWarning: Precision is ill-defined and being set to 0.0 in labels with no predicted samples. Use `zero_division` parameter to control this behavior.\n",
            "  _warn_prf(average, modifier, f\"{metric.capitalize()} is\", len(result))\n",
            "/usr/local/lib/python3.11/dist-packages/sklearn/metrics/_classification.py:1565: UndefinedMetricWarning: Recall is ill-defined and being set to 0.0 in labels with no true samples. Use `zero_division` parameter to control this behavior.\n",
            "  _warn_prf(average, modifier, f\"{metric.capitalize()} is\", len(result))\n",
            "/usr/local/lib/python3.11/dist-packages/sklearn/metrics/_classification.py:1565: UndefinedMetricWarning: Precision is ill-defined and being set to 0.0 in labels with no predicted samples. Use `zero_division` parameter to control this behavior.\n",
            "  _warn_prf(average, modifier, f\"{metric.capitalize()} is\", len(result))\n",
            "/usr/local/lib/python3.11/dist-packages/sklearn/metrics/_classification.py:1565: UndefinedMetricWarning: Recall is ill-defined and being set to 0.0 in labels with no true samples. Use `zero_division` parameter to control this behavior.\n",
            "  _warn_prf(average, modifier, f\"{metric.capitalize()} is\", len(result))\n"
          ]
        }
      ]
    },
    {
      "cell_type": "markdown",
      "source": [
        "RuModernBERT с hidden states"
      ],
      "metadata": {
        "id": "MW5oBwHBiSvq"
      },
      "id": "MW5oBwHBiSvq"
    },
    {
      "cell_type": "code",
      "source": [
        "class CLF_hidden_states(nn.Module):\n",
        "\n",
        "    def __init__(self, pretrained_model, num_classes):\n",
        "        super().__init__()\n",
        "        self.tokenizer = tokenizer\n",
        "        self.pretrained_model = pretrained_model\n",
        "        self.drop = nn.Dropout(0.3)\n",
        "        self.fc = nn.Linear(768, num_classes)\n",
        "        self.act = nn.LogSoftmax(1)\n",
        "\n",
        "    def forward(self, texts):\n",
        "\n",
        "        mask = (texts != tokenizer.pad_token_id).long()\n",
        "\n",
        "        hidden = self.pretrained_model(texts, attention_mask=mask, output_hidden_states=True).last_hidden_state\n",
        "        hidden_ouputs = hidden.mean(dim=1)\n",
        "\n",
        "        dense_outputs=self.fc(self.drop(hidden_ouputs))\n",
        "        outputs=self.act(dense_outputs)\n",
        "\n",
        "        return outputs"
      ],
      "metadata": {
        "id": "_mRTY_Q0iSUy"
      },
      "id": "_mRTY_Q0iSUy",
      "execution_count": 18,
      "outputs": []
    },
    {
      "cell_type": "code",
      "source": [
        "model_id = \"answerdotai/ModernBERT-base\"\n",
        "tokenizer = AutoTokenizer.from_pretrained(model_id)\n",
        "model = AutoModel.from_pretrained(model_id)"
      ],
      "metadata": {
        "id": "1OOH4t_9jIlE"
      },
      "id": "1OOH4t_9jIlE",
      "execution_count": 19,
      "outputs": []
    },
    {
      "cell_type": "code",
      "source": [
        "training_set = Dataset(tokenizer, MAX_LEN, train_texts, train_targets)\n",
        "training_generator = torch.utils.data.DataLoader(training_set, batch_size=8, shuffle=True, )\n",
        "valid_set = Dataset(tokenizer, MAX_LEN, valid_texts, valid_targets)\n",
        "valid_generator = torch.utils.data.DataLoader(valid_set, batch_size=8, shuffle=True)"
      ],
      "metadata": {
        "id": "z4kn14SNjI6s"
      },
      "id": "z4kn14SNjI6s",
      "execution_count": 20,
      "outputs": []
    },
    {
      "cell_type": "code",
      "source": [
        "device = torch.device('cuda' if torch.cuda.is_available() else 'cpu')\n",
        "model = CLF_hidden_states(model, len(label2id))\n",
        "optimizer = optim.Adam(model.parameters(), lr=2e-4)\n",
        "criterion = nn.NLLLoss()\n",
        "model = model.to(device)\n",
        "criterion = criterion.to(device)"
      ],
      "metadata": {
        "id": "Aou89GFDjKaz"
      },
      "id": "Aou89GFDjKaz",
      "execution_count": 21,
      "outputs": []
    },
    {
      "cell_type": "code",
      "source": [
        "print(\"Percentage of trainable params:\")\n",
        "print('{0:.10f}'.format(sum(p.numel() for p in model.parameters() if p.requires_grad)/sum(p.numel() for p in model.parameters())))"
      ],
      "metadata": {
        "colab": {
          "base_uri": "https://localhost:8080/"
        },
        "id": "jY4qm8kyjV-7",
        "outputId": "be743ae4-f3c0-4074-ddd8-48dbdcbef946"
      },
      "id": "jY4qm8kyjV-7",
      "execution_count": 22,
      "outputs": [
        {
          "output_type": "stream",
          "name": "stdout",
          "text": [
            "Percentage of trainable params:\n",
            "1.0000000000\n"
          ]
        }
      ]
    },
    {
      "cell_type": "code",
      "source": [
        "f1s = []\n",
        "f1s_eval = []\n",
        "\n",
        "for i in range(11):\n",
        "    print(i)\n",
        "    f1s.append(train(model, training_generator, optimizer, criterion, 1000))\n",
        "    evl = evaluate(model, valid_generator, criterion)\n",
        "    print('Eval - ', evl)\n",
        "    f1s_eval.append(evl)"
      ],
      "metadata": {
        "colab": {
          "base_uri": "https://localhost:8080/"
        },
        "id": "LjbaDZ6kjWzD",
        "outputId": "60ae11c3-31f7-45b0-a696-53d8128b0d0d"
      },
      "id": "LjbaDZ6kjWzD",
      "execution_count": 23,
      "outputs": [
        {
          "output_type": "stream",
          "name": "stdout",
          "text": [
            "0\n",
            "Eval -  0.125\n",
            "1\n",
            "Eval -  0.1294642857142857\n",
            "2\n",
            "Eval -  0.09375\n",
            "3\n",
            "Eval -  0.1875\n",
            "4\n",
            "Eval -  0.29464285714285715\n",
            "5\n",
            "Eval -  0.09821428571428571\n",
            "6\n",
            "Eval -  0.19642857142857142\n",
            "7\n",
            "Eval -  0.22767857142857142\n",
            "8\n",
            "Eval -  0.13392857142857142\n",
            "9\n",
            "Eval -  0.2857142857142857\n",
            "10\n",
            "Eval -  0.22767857142857142\n"
          ]
        }
      ]
    },
    {
      "cell_type": "code",
      "source": [
        "valid_generator = torch.utils.data.DataLoader(valid_set, batch_size=32, shuffle=False)\n",
        "preds = predict(model, valid_generator)\n",
        "\n",
        "print(classification_report(valid_targets, preds))"
      ],
      "metadata": {
        "colab": {
          "base_uri": "https://localhost:8080/"
        },
        "id": "DZfgyf9lAgma",
        "outputId": "efb626e1-ce43-4c0a-a703-4e2a31d7be23"
      },
      "id": "DZfgyf9lAgma",
      "execution_count": 24,
      "outputs": [
        {
          "output_type": "stream",
          "name": "stdout",
          "text": [
            "              precision    recall  f1-score   support\n",
            "\n",
            "           0       0.50      0.50      0.50         2\n",
            "           1       0.33      0.25      0.29         4\n",
            "           2       0.00      0.00      0.00         1\n",
            "           3       0.00      0.00      0.00         2\n",
            "           4       0.20      0.50      0.29         2\n",
            "           5       0.00      0.00      0.00         1\n",
            "           6       0.50      0.25      0.33         4\n",
            "           7       0.00      0.00      0.00         0\n",
            "           8       0.00      0.00      0.00         0\n",
            "           9       0.00      0.00      0.00         3\n",
            "          10       0.00      0.00      0.00         1\n",
            "          11       0.00      0.00      0.00         1\n",
            "          12       1.00      0.25      0.40         4\n",
            "          14       0.00      0.00      0.00         0\n",
            "          15       0.00      0.00      0.00         0\n",
            "          16       1.00      0.33      0.50         6\n",
            "\n",
            "    accuracy                           0.23        31\n",
            "   macro avg       0.22      0.13      0.14        31\n",
            "weighted avg       0.48      0.23      0.28        31\n",
            "\n"
          ]
        },
        {
          "output_type": "stream",
          "name": "stderr",
          "text": [
            "/usr/local/lib/python3.11/dist-packages/sklearn/metrics/_classification.py:1565: UndefinedMetricWarning: Precision is ill-defined and being set to 0.0 in labels with no predicted samples. Use `zero_division` parameter to control this behavior.\n",
            "  _warn_prf(average, modifier, f\"{metric.capitalize()} is\", len(result))\n",
            "/usr/local/lib/python3.11/dist-packages/sklearn/metrics/_classification.py:1565: UndefinedMetricWarning: Recall is ill-defined and being set to 0.0 in labels with no true samples. Use `zero_division` parameter to control this behavior.\n",
            "  _warn_prf(average, modifier, f\"{metric.capitalize()} is\", len(result))\n",
            "/usr/local/lib/python3.11/dist-packages/sklearn/metrics/_classification.py:1565: UndefinedMetricWarning: Precision is ill-defined and being set to 0.0 in labels with no predicted samples. Use `zero_division` parameter to control this behavior.\n",
            "  _warn_prf(average, modifier, f\"{metric.capitalize()} is\", len(result))\n",
            "/usr/local/lib/python3.11/dist-packages/sklearn/metrics/_classification.py:1565: UndefinedMetricWarning: Recall is ill-defined and being set to 0.0 in labels with no true samples. Use `zero_division` parameter to control this behavior.\n",
            "  _warn_prf(average, modifier, f\"{metric.capitalize()} is\", len(result))\n",
            "/usr/local/lib/python3.11/dist-packages/sklearn/metrics/_classification.py:1565: UndefinedMetricWarning: Precision is ill-defined and being set to 0.0 in labels with no predicted samples. Use `zero_division` parameter to control this behavior.\n",
            "  _warn_prf(average, modifier, f\"{metric.capitalize()} is\", len(result))\n",
            "/usr/local/lib/python3.11/dist-packages/sklearn/metrics/_classification.py:1565: UndefinedMetricWarning: Recall is ill-defined and being set to 0.0 in labels with no true samples. Use `zero_division` parameter to control this behavior.\n",
            "  _warn_prf(average, modifier, f\"{metric.capitalize()} is\", len(result))\n"
          ]
        }
      ]
    }
  ],
  "metadata": {
    "kernelspec": {
      "display_name": "Python 3",
      "name": "python3"
    },
    "language_info": {
      "codemirror_mode": {
        "name": "ipython",
        "version": 3
      },
      "file_extension": ".py",
      "mimetype": "text/x-python",
      "name": "python",
      "nbconvert_exporter": "python",
      "pygments_lexer": "ipython3",
      "version": "3.12.6"
    },
    "colab": {
      "provenance": [],
      "gpuType": "T4"
    },
    "accelerator": "GPU"
  },
  "nbformat": 4,
  "nbformat_minor": 5
}