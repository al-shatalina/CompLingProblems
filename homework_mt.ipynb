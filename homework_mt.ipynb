{
  "cells": [
    {
      "cell_type": "markdown",
      "id": "1dba7c0d",
      "metadata": {
        "id": "1dba7c0d"
      },
      "source": [
        "# Домашнее задание № 10. Машинный перевод"
      ]
    },
    {
      "cell_type": "markdown",
      "id": "Yj7aripVIsbG",
      "metadata": {
        "id": "Yj7aripVIsbG"
      },
      "source": [
        "## Задание 1 (6 баллов + 2 доп балла).\n",
        "Нужно обучить трансформер на том же корпусе но в другую сторону - с русского на английский.\n",
        "Можно использовать как основу первый или второй способ реализации (с MultiheadAttention или с nn.Transformer). Подберите несколько тестовых примеров для проверки обучения на каждой эпохе.\n",
        "\n",
        "Параметры ниже точно работают в колабе и модель обучается достаточно быстро. Попробуйте их немного увеличить (batch size возможно придется наоборот уменьшить). Обучайте модель хотя бы 5 эпох, а желательно больше, чтобы тестовые примеры начали переводиться более менее адекватно.\n",
        "\n",
        "После обучения возьмите хотя бы 100 примером из тестовой части параллельного корпуса и переведите их. Оцените качество переводов с помощью метрики BLEU (пример использования ниже)\n",
        "Найдите лучшие (как минимум 5) переводы согласно этой метрике и проверьте действительно ли они хорошие. Если все переводы нулевые, то пообучайте модель подольше.\n",
        "\n",
        "Чтобы получить 2 доп балла вам нужно будет придумать как оптимизировать функцию translate. Сейчас она работает только с одним текстом - это не эффективно. Можно генерировать переводы сразу для нескольких текстов (батча). Главная сложность с таким подходом состоит в том, что генерируемые тексты будут заканчиваться в разное время и нужно сделать столько итераций, сколько нужно для завершения всех текстов (т.е. условие на то, что последний токен не равен [EOS] в текущем коде не сработает).\n",
        "ВАЖНО - недостаточно просто изменить входной аргумент с text на texts и добавить еще один цикл по texts! Сама модель должна вызываться на нескольких текстах! Функция с batch prediction должна работать быстрее, поэтому переведите всю тестовую выборку и оцените качество BLEU на всех данных."
      ]
    },
    {
      "cell_type": "code",
      "execution_count": 1,
      "id": "05d202c4",
      "metadata": {
        "id": "05d202c4",
        "outputId": "29676aa7-7c77-4981-dedf-868cf3a06d8e",
        "colab": {
          "base_uri": "https://localhost:8080/"
        }
      },
      "outputs": [
        {
          "output_type": "stream",
          "name": "stdout",
          "text": [
            "Requirement already satisfied: torchtune in /usr/local/lib/python3.11/dist-packages (0.6.0)\n",
            "Requirement already satisfied: torchao in /usr/local/lib/python3.11/dist-packages (0.9.0)\n",
            "Requirement already satisfied: torchdata==0.11.0 in /usr/local/lib/python3.11/dist-packages (from torchtune) (0.11.0)\n",
            "Requirement already satisfied: datasets in /usr/local/lib/python3.11/dist-packages (from torchtune) (3.5.0)\n",
            "Requirement already satisfied: huggingface_hub[hf_transfer] in /usr/local/lib/python3.11/dist-packages (from torchtune) (0.29.3)\n",
            "Requirement already satisfied: safetensors in /usr/local/lib/python3.11/dist-packages (from torchtune) (0.5.3)\n",
            "Requirement already satisfied: kagglehub in /usr/local/lib/python3.11/dist-packages (from torchtune) (0.3.10)\n",
            "Requirement already satisfied: sentencepiece in /usr/local/lib/python3.11/dist-packages (from torchtune) (0.2.0)\n",
            "Requirement already satisfied: tiktoken in /usr/local/lib/python3.11/dist-packages (from torchtune) (0.9.0)\n",
            "Requirement already satisfied: blobfile>=2 in /usr/local/lib/python3.11/dist-packages (from torchtune) (3.0.0)\n",
            "Requirement already satisfied: tokenizers in /usr/local/lib/python3.11/dist-packages (from torchtune) (0.21.1)\n",
            "Requirement already satisfied: numpy in /usr/local/lib/python3.11/dist-packages (from torchtune) (2.0.2)\n",
            "Requirement already satisfied: tqdm in /usr/local/lib/python3.11/dist-packages (from torchtune) (4.67.1)\n",
            "Requirement already satisfied: omegaconf in /usr/local/lib/python3.11/dist-packages (from torchtune) (2.3.0)\n",
            "Requirement already satisfied: psutil in /usr/local/lib/python3.11/dist-packages (from torchtune) (5.9.5)\n",
            "Requirement already satisfied: Pillow>=9.4.0 in /usr/local/lib/python3.11/dist-packages (from torchtune) (11.1.0)\n",
            "Requirement already satisfied: urllib3>=1.25 in /usr/local/lib/python3.11/dist-packages (from torchdata==0.11.0->torchtune) (2.3.0)\n",
            "Requirement already satisfied: requests in /usr/local/lib/python3.11/dist-packages (from torchdata==0.11.0->torchtune) (2.32.3)\n",
            "Requirement already satisfied: torch>=2 in /usr/local/lib/python3.11/dist-packages (from torchdata==0.11.0->torchtune) (2.6.0+cu124)\n",
            "Requirement already satisfied: pycryptodomex>=3.8 in /usr/local/lib/python3.11/dist-packages (from blobfile>=2->torchtune) (3.22.0)\n",
            "Requirement already satisfied: lxml>=4.9 in /usr/local/lib/python3.11/dist-packages (from blobfile>=2->torchtune) (5.3.1)\n",
            "Requirement already satisfied: filelock>=3.0 in /usr/local/lib/python3.11/dist-packages (from blobfile>=2->torchtune) (3.18.0)\n",
            "Requirement already satisfied: pyarrow>=15.0.0 in /usr/local/lib/python3.11/dist-packages (from datasets->torchtune) (18.1.0)\n",
            "Requirement already satisfied: dill<0.3.9,>=0.3.0 in /usr/local/lib/python3.11/dist-packages (from datasets->torchtune) (0.3.8)\n",
            "Requirement already satisfied: pandas in /usr/local/lib/python3.11/dist-packages (from datasets->torchtune) (2.2.2)\n",
            "Requirement already satisfied: xxhash in /usr/local/lib/python3.11/dist-packages (from datasets->torchtune) (3.5.0)\n",
            "Requirement already satisfied: multiprocess<0.70.17 in /usr/local/lib/python3.11/dist-packages (from datasets->torchtune) (0.70.16)\n",
            "Requirement already satisfied: fsspec<=2024.12.0,>=2023.1.0 in /usr/local/lib/python3.11/dist-packages (from fsspec[http]<=2024.12.0,>=2023.1.0->datasets->torchtune) (2024.12.0)\n",
            "Requirement already satisfied: aiohttp in /usr/local/lib/python3.11/dist-packages (from datasets->torchtune) (3.11.14)\n",
            "Requirement already satisfied: packaging in /usr/local/lib/python3.11/dist-packages (from datasets->torchtune) (24.2)\n",
            "Requirement already satisfied: pyyaml>=5.1 in /usr/local/lib/python3.11/dist-packages (from datasets->torchtune) (6.0.2)\n",
            "Requirement already satisfied: typing-extensions>=3.7.4.3 in /usr/local/lib/python3.11/dist-packages (from huggingface_hub[hf_transfer]->torchtune) (4.12.2)\n",
            "Requirement already satisfied: hf-transfer>=0.1.4 in /usr/local/lib/python3.11/dist-packages (from huggingface_hub[hf_transfer]->torchtune) (0.1.9)\n",
            "Requirement already satisfied: antlr4-python3-runtime==4.9.* in /usr/local/lib/python3.11/dist-packages (from omegaconf->torchtune) (4.9.3)\n",
            "Requirement already satisfied: regex>=2022.1.18 in /usr/local/lib/python3.11/dist-packages (from tiktoken->torchtune) (2024.11.6)\n",
            "Requirement already satisfied: aiohappyeyeballs>=2.3.0 in /usr/local/lib/python3.11/dist-packages (from aiohttp->datasets->torchtune) (2.6.1)\n",
            "Requirement already satisfied: aiosignal>=1.1.2 in /usr/local/lib/python3.11/dist-packages (from aiohttp->datasets->torchtune) (1.3.2)\n",
            "Requirement already satisfied: attrs>=17.3.0 in /usr/local/lib/python3.11/dist-packages (from aiohttp->datasets->torchtune) (25.3.0)\n",
            "Requirement already satisfied: frozenlist>=1.1.1 in /usr/local/lib/python3.11/dist-packages (from aiohttp->datasets->torchtune) (1.5.0)\n",
            "Requirement already satisfied: multidict<7.0,>=4.5 in /usr/local/lib/python3.11/dist-packages (from aiohttp->datasets->torchtune) (6.2.0)\n",
            "Requirement already satisfied: propcache>=0.2.0 in /usr/local/lib/python3.11/dist-packages (from aiohttp->datasets->torchtune) (0.3.0)\n",
            "Requirement already satisfied: yarl<2.0,>=1.17.0 in /usr/local/lib/python3.11/dist-packages (from aiohttp->datasets->torchtune) (1.18.3)\n",
            "Requirement already satisfied: charset-normalizer<4,>=2 in /usr/local/lib/python3.11/dist-packages (from requests->torchdata==0.11.0->torchtune) (3.4.1)\n",
            "Requirement already satisfied: idna<4,>=2.5 in /usr/local/lib/python3.11/dist-packages (from requests->torchdata==0.11.0->torchtune) (3.10)\n",
            "Requirement already satisfied: certifi>=2017.4.17 in /usr/local/lib/python3.11/dist-packages (from requests->torchdata==0.11.0->torchtune) (2025.1.31)\n",
            "Requirement already satisfied: networkx in /usr/local/lib/python3.11/dist-packages (from torch>=2->torchdata==0.11.0->torchtune) (3.4.2)\n",
            "Requirement already satisfied: jinja2 in /usr/local/lib/python3.11/dist-packages (from torch>=2->torchdata==0.11.0->torchtune) (3.1.6)\n",
            "Requirement already satisfied: nvidia-cuda-nvrtc-cu12==12.4.127 in /usr/local/lib/python3.11/dist-packages (from torch>=2->torchdata==0.11.0->torchtune) (12.4.127)\n",
            "Requirement already satisfied: nvidia-cuda-runtime-cu12==12.4.127 in /usr/local/lib/python3.11/dist-packages (from torch>=2->torchdata==0.11.0->torchtune) (12.4.127)\n",
            "Requirement already satisfied: nvidia-cuda-cupti-cu12==12.4.127 in /usr/local/lib/python3.11/dist-packages (from torch>=2->torchdata==0.11.0->torchtune) (12.4.127)\n",
            "Requirement already satisfied: nvidia-cudnn-cu12==9.1.0.70 in /usr/local/lib/python3.11/dist-packages (from torch>=2->torchdata==0.11.0->torchtune) (9.1.0.70)\n",
            "Requirement already satisfied: nvidia-cublas-cu12==12.4.5.8 in /usr/local/lib/python3.11/dist-packages (from torch>=2->torchdata==0.11.0->torchtune) (12.4.5.8)\n",
            "Requirement already satisfied: nvidia-cufft-cu12==11.2.1.3 in /usr/local/lib/python3.11/dist-packages (from torch>=2->torchdata==0.11.0->torchtune) (11.2.1.3)\n",
            "Requirement already satisfied: nvidia-curand-cu12==10.3.5.147 in /usr/local/lib/python3.11/dist-packages (from torch>=2->torchdata==0.11.0->torchtune) (10.3.5.147)\n",
            "Requirement already satisfied: nvidia-cusolver-cu12==11.6.1.9 in /usr/local/lib/python3.11/dist-packages (from torch>=2->torchdata==0.11.0->torchtune) (11.6.1.9)\n",
            "Requirement already satisfied: nvidia-cusparse-cu12==12.3.1.170 in /usr/local/lib/python3.11/dist-packages (from torch>=2->torchdata==0.11.0->torchtune) (12.3.1.170)\n",
            "Requirement already satisfied: nvidia-cusparselt-cu12==0.6.2 in /usr/local/lib/python3.11/dist-packages (from torch>=2->torchdata==0.11.0->torchtune) (0.6.2)\n",
            "Requirement already satisfied: nvidia-nccl-cu12==2.21.5 in /usr/local/lib/python3.11/dist-packages (from torch>=2->torchdata==0.11.0->torchtune) (2.21.5)\n",
            "Requirement already satisfied: nvidia-nvtx-cu12==12.4.127 in /usr/local/lib/python3.11/dist-packages (from torch>=2->torchdata==0.11.0->torchtune) (12.4.127)\n",
            "Requirement already satisfied: nvidia-nvjitlink-cu12==12.4.127 in /usr/local/lib/python3.11/dist-packages (from torch>=2->torchdata==0.11.0->torchtune) (12.4.127)\n",
            "Requirement already satisfied: triton==3.2.0 in /usr/local/lib/python3.11/dist-packages (from torch>=2->torchdata==0.11.0->torchtune) (3.2.0)\n",
            "Requirement already satisfied: sympy==1.13.1 in /usr/local/lib/python3.11/dist-packages (from torch>=2->torchdata==0.11.0->torchtune) (1.13.1)\n",
            "Requirement already satisfied: mpmath<1.4,>=1.1.0 in /usr/local/lib/python3.11/dist-packages (from sympy==1.13.1->torch>=2->torchdata==0.11.0->torchtune) (1.3.0)\n",
            "Requirement already satisfied: python-dateutil>=2.8.2 in /usr/local/lib/python3.11/dist-packages (from pandas->datasets->torchtune) (2.8.2)\n",
            "Requirement already satisfied: pytz>=2020.1 in /usr/local/lib/python3.11/dist-packages (from pandas->datasets->torchtune) (2025.1)\n",
            "Requirement already satisfied: tzdata>=2022.7 in /usr/local/lib/python3.11/dist-packages (from pandas->datasets->torchtune) (2025.1)\n",
            "Requirement already satisfied: six>=1.5 in /usr/local/lib/python3.11/dist-packages (from python-dateutil>=2.8.2->pandas->datasets->torchtune) (1.17.0)\n",
            "Requirement already satisfied: MarkupSafe>=2.0 in /usr/local/lib/python3.11/dist-packages (from jinja2->torch>=2->torchdata==0.11.0->torchtune) (3.0.2)\n"
          ]
        }
      ],
      "source": [
        "# В колабе установите torchtune и torchao, чтобы семинарская тетрадка работала\n",
        "!pip install torchtune torchao"
      ]
    },
    {
      "cell_type": "code",
      "source": [
        "import torch\n",
        "import torch.nn as nn\n",
        "import torch.nn.functional as F\n",
        "import torch.optim as optim\n",
        "import torch.utils.data\n",
        "\n",
        "from tokenizers import Tokenizer\n",
        "from tokenizers.models import BPE\n",
        "from tokenizers.pre_tokenizers import Whitespace\n",
        "from tokenizers.trainers import BpeTrainer\n",
        "from tokenizers import decoders\n",
        "\n",
        "import os\n",
        "import numpy as np\n",
        "from sklearn.model_selection import StratifiedShuffleSplit, train_test_split\n",
        "from collections import Counter\n",
        "\n",
        "from torchtune.modules import RotaryPositionalEmbeddings\n",
        "from torch.nn import Transformer\n",
        "import matplotlib.pyplot as plt\n",
        "%matplotlib inline"
      ],
      "metadata": {
        "id": "M0FHb4CTAyha"
      },
      "id": "M0FHb4CTAyha",
      "execution_count": 2,
      "outputs": []
    },
    {
      "cell_type": "code",
      "source": [
        "!wget https://data.statmt.org/opus-100-corpus/v1.0/supervised/en-ru/opus.en-ru-train.ru\n",
        "!wget https://data.statmt.org/opus-100-corpus/v1.0/supervised/en-ru/opus.en-ru-train.en\n",
        "!wget https://data.statmt.org/opus-100-corpus/v1.0/supervised/en-ru/opus.en-ru-test.ru\n",
        "!wget https://data.statmt.org/opus-100-corpus/v1.0/supervised/en-ru/opus.en-ru-test.en"
      ],
      "metadata": {
        "colab": {
          "base_uri": "https://localhost:8080/"
        },
        "id": "dLKhB_4XA1wh",
        "outputId": "07645519-189a-4aeb-8c0e-82d2f1247ead"
      },
      "id": "dLKhB_4XA1wh",
      "execution_count": 3,
      "outputs": [
        {
          "output_type": "stream",
          "name": "stdout",
          "text": [
            "--2025-03-31 05:12:58--  https://data.statmt.org/opus-100-corpus/v1.0/supervised/en-ru/opus.en-ru-train.ru\n",
            "Resolving data.statmt.org (data.statmt.org)... 129.215.32.28\n",
            "Connecting to data.statmt.org (data.statmt.org)|129.215.32.28|:443... connected.\n",
            "HTTP request sent, awaiting response... 200 OK\n",
            "Length: 121340806 (116M)\n",
            "Saving to: ‘opus.en-ru-train.ru’\n",
            "\n",
            "opus.en-ru-train.ru 100%[===================>] 115.72M  24.6MB/s    in 5.8s    \n",
            "\n",
            "2025-03-31 05:13:05 (19.8 MB/s) - ‘opus.en-ru-train.ru’ saved [121340806/121340806]\n",
            "\n",
            "--2025-03-31 05:13:05--  https://data.statmt.org/opus-100-corpus/v1.0/supervised/en-ru/opus.en-ru-train.en\n",
            "Resolving data.statmt.org (data.statmt.org)... 129.215.32.28\n",
            "Connecting to data.statmt.org (data.statmt.org)|129.215.32.28|:443... connected.\n",
            "HTTP request sent, awaiting response... 200 OK\n",
            "Length: 67760131 (65M)\n",
            "Saving to: ‘opus.en-ru-train.en’\n",
            "\n",
            "opus.en-ru-train.en 100%[===================>]  64.62M  18.7MB/s    in 3.6s    \n",
            "\n",
            "2025-03-31 05:13:09 (17.8 MB/s) - ‘opus.en-ru-train.en’ saved [67760131/67760131]\n",
            "\n",
            "--2025-03-31 05:13:09--  https://data.statmt.org/opus-100-corpus/v1.0/supervised/en-ru/opus.en-ru-test.ru\n",
            "Resolving data.statmt.org (data.statmt.org)... 129.215.32.28\n",
            "Connecting to data.statmt.org (data.statmt.org)|129.215.32.28|:443... connected.\n",
            "HTTP request sent, awaiting response... 200 OK\n",
            "Length: 305669 (299K)\n",
            "Saving to: ‘opus.en-ru-test.ru’\n",
            "\n",
            "opus.en-ru-test.ru  100%[===================>] 298.50K   534KB/s    in 0.6s    \n",
            "\n",
            "2025-03-31 05:13:10 (534 KB/s) - ‘opus.en-ru-test.ru’ saved [305669/305669]\n",
            "\n",
            "--2025-03-31 05:13:10--  https://data.statmt.org/opus-100-corpus/v1.0/supervised/en-ru/opus.en-ru-test.en\n",
            "Resolving data.statmt.org (data.statmt.org)... 129.215.32.28\n",
            "Connecting to data.statmt.org (data.statmt.org)|129.215.32.28|:443... connected.\n",
            "HTTP request sent, awaiting response... 200 OK\n",
            "Length: 173307 (169K)\n",
            "Saving to: ‘opus.en-ru-test.en’\n",
            "\n",
            "opus.en-ru-test.en  100%[===================>] 169.25K   306KB/s    in 0.6s    \n",
            "\n",
            "2025-03-31 05:13:11 (306 KB/s) - ‘opus.en-ru-test.en’ saved [173307/173307]\n",
            "\n"
          ]
        }
      ]
    },
    {
      "cell_type": "code",
      "source": [
        "text = open('opus.en-ru-train.ru').read().replace('\\xa0', ' ')\n",
        "f = open('opus.en-ru-train.ru', 'w')\n",
        "f.write(text)\n",
        "f.close()"
      ],
      "metadata": {
        "id": "5Hxt0paUBGIw"
      },
      "id": "5Hxt0paUBGIw",
      "execution_count": 4,
      "outputs": []
    },
    {
      "cell_type": "code",
      "source": [
        "en_sents = open('opus.en-ru-train.en').read().splitlines()\n",
        "ru_sents = open('opus.en-ru-train.ru').read().splitlines()"
      ],
      "metadata": {
        "id": "eEI8pSRVBHqB"
      },
      "id": "eEI8pSRVBHqB",
      "execution_count": 5,
      "outputs": []
    },
    {
      "cell_type": "code",
      "source": [
        "tokenizer_ru = Tokenizer(BPE())\n",
        "tokenizer_ru.pre_tokenizer = Whitespace()\n",
        "\n",
        "trainer_ru = BpeTrainer(special_tokens=[\"[PAD]\"], end_of_word_suffix='</w>')\n",
        "tokenizer_ru.train(files=[\"opus.en-ru-train.ru\"], trainer=trainer_ru)\n",
        "\n",
        "tokenizer_en = Tokenizer(BPE())\n",
        "tokenizer_en.pre_tokenizer = Whitespace()\n",
        "\n",
        "trainer_en = BpeTrainer(special_tokens=[\"[PAD]\", \"[BOS]\", \"[EOS]\"], end_of_word_suffix='</w>')\n",
        "tokenizer_en.train(files=[\"opus.en-ru-train.en\"], trainer=trainer_en)"
      ],
      "metadata": {
        "id": "g8DCiGYFBJwI"
      },
      "id": "g8DCiGYFBJwI",
      "execution_count": 6,
      "outputs": []
    },
    {
      "cell_type": "code",
      "source": [
        "#!!\n",
        "tokenizer_en.decoder = decoders.BPEDecoder()\n",
        "tokenizer_ru.decoder = decoders.BPEDecoder()"
      ],
      "metadata": {
        "id": "pfwQod1ZBjIx"
      },
      "id": "pfwQod1ZBjIx",
      "execution_count": 7,
      "outputs": []
    },
    {
      "cell_type": "code",
      "source": [
        "tokenizer_en.save('tokenizer_en')\n",
        "tokenizer_ru.save('tokenizer_ru')"
      ],
      "metadata": {
        "id": "3nxsqV0VBnHA"
      },
      "id": "3nxsqV0VBnHA",
      "execution_count": 8,
      "outputs": []
    },
    {
      "cell_type": "code",
      "source": [
        "tokenizer_en = Tokenizer.from_file(\"tokenizer_en\")\n",
        "tokenizer_ru = Tokenizer.from_file(\"tokenizer_ru\")"
      ],
      "metadata": {
        "id": "UOdQBRRABo9o"
      },
      "id": "UOdQBRRABo9o",
      "execution_count": 9,
      "outputs": []
    },
    {
      "cell_type": "code",
      "source": [
        "def encode(text, tokenizer, max_len, encoder=False):\n",
        "    if encoder:\n",
        "        return tokenizer.encode(text).ids[:max_len]\n",
        "    else:\n",
        "        return [tokenizer.token_to_id('[BOS]')] + tokenizer.encode(text).ids[:max_len] + [tokenizer.token_to_id('[EOS]')]"
      ],
      "metadata": {
        "id": "e7ClnI8ZBqIh"
      },
      "id": "e7ClnI8ZBqIh",
      "execution_count": 10,
      "outputs": []
    },
    {
      "cell_type": "code",
      "source": [
        "PAD_IDX = tokenizer_en.token_to_id('[PAD]')\n",
        "PAD_IDX"
      ],
      "metadata": {
        "colab": {
          "base_uri": "https://localhost:8080/"
        },
        "id": "zyLsyX1HBxM5",
        "outputId": "a7df72d4-3f68-4f51-f514-6511957fd666"
      },
      "id": "zyLsyX1HBxM5",
      "execution_count": 11,
      "outputs": [
        {
          "output_type": "execute_result",
          "data": {
            "text/plain": [
              "0"
            ]
          },
          "metadata": {},
          "execution_count": 11
        }
      ]
    },
    {
      "cell_type": "code",
      "source": [
        "max_len_en, max_len_ru = 47, 48"
      ],
      "metadata": {
        "id": "nxJJPbY8B0oY"
      },
      "id": "nxJJPbY8B0oY",
      "execution_count": 12,
      "outputs": []
    },
    {
      "cell_type": "code",
      "source": [
        "X_en = [encode(t, tokenizer_en, max_len_en) for t in en_sents]\n",
        "X_ru = [encode(t, tokenizer_ru, max_len_ru, encoder=True) for t in ru_sents]"
      ],
      "metadata": {
        "id": "Q5UdrFAtB2Kh"
      },
      "id": "Q5UdrFAtB2Kh",
      "execution_count": 13,
      "outputs": []
    },
    {
      "cell_type": "code",
      "source": [
        "class Dataset(torch.utils.data.Dataset):\n",
        "\n",
        "    def __init__(self, texts_ru, texts_en):\n",
        "        self.texts_en = [torch.LongTensor(sent) for sent in texts_en]\n",
        "        self.texts_en = torch.nn.utils.rnn.pad_sequence(self.texts_en, batch_first=True, padding_value=PAD_IDX)\n",
        "\n",
        "        self.texts_ru = [torch.LongTensor(sent) for sent in texts_ru]\n",
        "        self.texts_ru = torch.nn.utils.rnn.pad_sequence(self.texts_ru, batch_first=True, padding_value=PAD_IDX)\n",
        "\n",
        "        self.length = len(texts_ru)\n",
        "\n",
        "    def __len__(self):\n",
        "        return self.length\n",
        "\n",
        "    def __getitem__(self, index):\n",
        "\n",
        "        ids_en = self.texts_en[index]\n",
        "        ids_ru = self.texts_ru[index]\n",
        "\n",
        "        return ids_ru, ids_en"
      ],
      "metadata": {
        "id": "2g7gQhFTCHCx"
      },
      "id": "2g7gQhFTCHCx",
      "execution_count": 14,
      "outputs": []
    },
    {
      "cell_type": "code",
      "source": [
        "X_ru_train, X_ru_valid, X_en_train, X_en_valid, = train_test_split(X_ru, X_en, test_size=0.05)"
      ],
      "metadata": {
        "id": "q5SOJTfZCJco"
      },
      "id": "q5SOJTfZCJco",
      "execution_count": 15,
      "outputs": []
    },
    {
      "cell_type": "code",
      "source": [
        "class TransformerEncoderDecoder(nn.Module):\n",
        "    def __init__(self, vocab_size_enc, vocab_size_dec, embed_dim, num_heads, ff_dim, num_layers, dropout=0.1):\n",
        "        super().__init__()\n",
        "        self.embed_dim = embed_dim\n",
        "        self.num_heads = num_heads\n",
        "        self.embedding_enc = nn.Embedding(vocab_size_enc, embed_dim)\n",
        "        self.embedding_dec = nn.Embedding(vocab_size_dec, embed_dim)\n",
        "        self.positional_encoding = RotaryPositionalEmbeddings(embed_dim // num_heads, max_seq_len=128)\n",
        "\n",
        "        self.transformer = Transformer(\n",
        "            d_model=embed_dim,\n",
        "            nhead=num_heads,\n",
        "            num_encoder_layers=num_layers,\n",
        "            num_decoder_layers=num_layers,\n",
        "            dim_feedforward=ff_dim,\n",
        "            dropout=dropout,\n",
        "            batch_first=True\n",
        "        )\n",
        "\n",
        "        self.output_layer = nn.Linear(embed_dim, vocab_size_dec)\n",
        "\n",
        "    def forward(self, src, tgt, src_key_padding_mask=None, tgt_key_padding_mask=None):\n",
        "\n",
        "        src_embedded = self.embedding_enc(src)\n",
        "        B,S,E = src_embedded.shape\n",
        "        src_embedded = self.positional_encoding(src_embedded.view(B,S,self.num_heads, E//self.num_heads)).view(B,S,E)\n",
        "\n",
        "        tgt_embedded = self.embedding_dec(tgt)\n",
        "        B,S,E = tgt_embedded.shape\n",
        "        tgt_embedded = self.positional_encoding(tgt_embedded.view(B,S,self.num_heads, E//self.num_heads)).view(B,S,E)\n",
        "\n",
        "\n",
        "        tgt_mask = (~torch.tril(torch.ones((S, S), dtype=torch.bool))).to(DEVICE)\n",
        "\n",
        "        encoder_output = self.transformer.encoder(\n",
        "            src_embedded,\n",
        "            src_key_padding_mask=src_key_padding_mask\n",
        "        )\n",
        "\n",
        "        decoder_output = self.transformer.decoder(\n",
        "            tgt_embedded,\n",
        "            encoder_output,\n",
        "            tgt_mask=tgt_mask,\n",
        "            tgt_key_padding_mask=tgt_key_padding_mask,\n",
        "            memory_key_padding_mask=src_key_padding_mask\n",
        "        )\n",
        "\n",
        "        output = self.output_layer(decoder_output)\n",
        "        return output"
      ],
      "metadata": {
        "id": "TKCpQsErCL6x"
      },
      "id": "TKCpQsErCL6x",
      "execution_count": 16,
      "outputs": []
    },
    {
      "cell_type": "code",
      "source": [
        "# попробуйте поставить параметры поменьше если в колабе обучается слишком долго!\n",
        "vocab_size_enc = tokenizer_ru.get_vocab_size()\n",
        "vocab_size_dec = tokenizer_en.get_vocab_size()\n",
        "\n",
        "embed_dim = 36\n",
        "num_heads = 6\n",
        "ff_dim = embed_dim*2\n",
        "num_layers = 4\n",
        "batch_size = 200\n",
        "\n",
        "model = TransformerEncoderDecoder(vocab_size_enc,vocab_size_dec, embed_dim, num_heads, ff_dim, num_layers)"
      ],
      "metadata": {
        "id": "Tspkiz-4CT0w"
      },
      "id": "Tspkiz-4CT0w",
      "execution_count": 28,
      "outputs": []
    },
    {
      "cell_type": "code",
      "source": [
        "training_set = Dataset(X_ru_train, X_en_train)\n",
        "training_generator = torch.utils.data.DataLoader(training_set, batch_size=batch_size, shuffle=True, )\n",
        "\n",
        "valid_set = Dataset(X_ru_valid, X_en_valid)\n",
        "valid_generator = torch.utils.data.DataLoader(valid_set, batch_size=batch_size, shuffle=False)"
      ],
      "metadata": {
        "id": "D3abf4L9CXjJ"
      },
      "id": "D3abf4L9CXjJ",
      "execution_count": 29,
      "outputs": []
    },
    {
      "cell_type": "code",
      "source": [
        "from time import time\n",
        "def train(model, iterator, optimizer, criterion, scheduler, run=None, print_every=100):\n",
        "\n",
        "    epoch_loss = []\n",
        "    ac = []\n",
        "\n",
        "    model.train()\n",
        "\n",
        "    for i, (texts_ru, texts_en) in enumerate(iterator):\n",
        "        texts_en = texts_en.to(DEVICE)\n",
        "        texts_ru = texts_ru.to(DEVICE)\n",
        "        texts_en_input = texts_en[:,:-1].to(DEVICE)\n",
        "        texts_en_out = texts_en[:, 1:].to(DEVICE)\n",
        "        src_padding_mask = (texts_ru == PAD_IDX).to(DEVICE)\n",
        "        tgt_padding_mask = (texts_en_input == PAD_IDX).to(DEVICE)\n",
        "        logits = model(texts_ru, texts_en_input, src_padding_mask, tgt_padding_mask)\n",
        "        optimizer.zero_grad()\n",
        "        B,S,C = logits.shape\n",
        "        loss = loss_fn(logits.reshape(B*S, C), texts_en_out.reshape(B*S))\n",
        "        loss.backward()\n",
        "        optimizer.step()\n",
        "        scheduler.step()\n",
        "        epoch_loss.append(loss.item())\n",
        "\n",
        "        if not (i+1) % print_every:\n",
        "            print(f'Loss: {np.mean(epoch_loss)};')\n",
        "        if run is not None:\n",
        "            run.log({\"loss\": loss.item()})\n",
        "\n",
        "    return np.mean(epoch_loss)\n",
        "\n",
        "\n",
        "def evaluate(model, iterator, criterion, run=None):\n",
        "\n",
        "    epoch_loss = []\n",
        "    epoch_f1 = []\n",
        "\n",
        "    model.eval()\n",
        "    with torch.no_grad():\n",
        "        for i, (texts_ru, texts_en) in enumerate(iterator):\n",
        "            texts_en = texts_en.to(DEVICE)\n",
        "            texts_ru = texts_ru.to(DEVICE)\n",
        "            texts_en_input = texts_en[:,:-1].to(DEVICE)\n",
        "            texts_en_out = texts_en[:, 1:].to(DEVICE)\n",
        "            src_padding_mask = (texts_ru == PAD_IDX).to(DEVICE)\n",
        "            tgt_padding_mask = (texts_en_input == PAD_IDX).to(DEVICE)\n",
        "\n",
        "            logits = model(texts_ru, texts_en_input, src_padding_mask, tgt_padding_mask)\n",
        "\n",
        "            B,S,C = logits.shape\n",
        "            loss = loss_fn(logits.reshape(B*S, C), texts_en_out.reshape(B*S))\n",
        "            epoch_loss.append(loss.item())\n",
        "            if run is not None:\n",
        "                run.log({\"val_loss\": loss.item()})\n",
        "\n",
        "    return np.mean(epoch_loss)"
      ],
      "metadata": {
        "id": "yt6m2ZNsH2Gx"
      },
      "id": "yt6m2ZNsH2Gx",
      "execution_count": 26,
      "outputs": []
    },
    {
      "cell_type": "code",
      "source": [
        "@torch.no_grad\n",
        "def translate(text):\n",
        "\n",
        "\n",
        "    input_ids = tokenizer_ru.encode(text).ids[:max_len_ru]\n",
        "    output_ids = [tokenizer_en.token_to_id('[BOS]')]\n",
        "\n",
        "    input_ids_pad = torch.nn.utils.rnn.pad_sequence([torch.LongTensor(input_ids)], batch_first=True).to(DEVICE)\n",
        "    output_ids_pad = torch.nn.utils.rnn.pad_sequence([torch.LongTensor(output_ids)], batch_first=True).to(DEVICE)\n",
        "\n",
        "    src_padding_mask = (input_ids_pad == PAD_IDX).to(DEVICE)\n",
        "    tgt_padding_mask = (output_ids_pad == PAD_IDX).to(DEVICE)\n",
        "\n",
        "    logits = model(input_ids_pad, output_ids_pad, src_padding_mask, tgt_padding_mask)\n",
        "\n",
        "    pred = logits.argmax(2).item()\n",
        "\n",
        "    while pred not in [tokenizer_en.token_to_id('[EOS]'), tokenizer_en.token_to_id('[PAD]')] and len(output_ids) < 100:\n",
        "        output_ids.append(pred)\n",
        "        output_ids_pad = torch.nn.utils.rnn.pad_sequence([torch.LongTensor(output_ids)], batch_first=True).to(DEVICE)\n",
        "        tgt_padding_mask = (output_ids_pad == PAD_IDX).to(DEVICE)\n",
        "\n",
        "        logits = model(input_ids_pad, output_ids_pad, src_padding_mask, tgt_padding_mask)\n",
        "        pred = logits.argmax(2).view(-1)[-1].item()\n",
        "\n",
        "    return tokenizer_en.decoder.decode([tokenizer_en.id_to_token(i) for i in output_ids[1:]])"
      ],
      "metadata": {
        "id": "VJzJrjb4HzeR"
      },
      "id": "VJzJrjb4HzeR",
      "execution_count": 20,
      "outputs": []
    },
    {
      "cell_type": "code",
      "source": [
        "fake_model = torch.nn.Linear(2, 1)\n",
        "fake_optimizer = torch.optim.AdamW(fake_model.parameters(), lr=0.0001)\n",
        "fake_scheduler = torch.optim.lr_scheduler.OneCycleLR(fake_optimizer, max_lr=0.001, pct_start=0.05,\n",
        "                                                steps_per_epoch=50, epochs=20)\n",
        "lrs = []\n",
        "\n",
        "for i in range(1000):\n",
        "    fake_optimizer.step()\n",
        "    lrs.append(fake_optimizer.param_groups[0][\"lr\"])\n",
        "    fake_scheduler.step()\n",
        "\n",
        "plt.plot(lrs)"
      ],
      "metadata": {
        "colab": {
          "base_uri": "https://localhost:8080/",
          "height": 448
        },
        "id": "9CdG0i9_CY2Q",
        "outputId": "48bc7a60-3494-4c4c-cefa-92b34b4d4ffb"
      },
      "id": "9CdG0i9_CY2Q",
      "execution_count": 30,
      "outputs": [
        {
          "output_type": "execute_result",
          "data": {
            "text/plain": [
              "[<matplotlib.lines.Line2D at 0x784a69be8b90>]"
            ]
          },
          "metadata": {},
          "execution_count": 30
        },
        {
          "output_type": "display_data",
          "data": {
            "text/plain": [
              "<Figure size 640x480 with 1 Axes>"
            ],
            "image/png": "[encoded data removed]"
          },
          "metadata": {}
        }
      ]
    },
    {
      "cell_type": "code",
      "source": [
        "DEVICE = torch.device('cuda' if torch.cuda.is_available() else 'cpu')"
      ],
      "metadata": {
        "id": "mK3w-o_iHks5"
      },
      "id": "mK3w-o_iHks5",
      "execution_count": 31,
      "outputs": []
    },
    {
      "cell_type": "code",
      "source": [
        "model = model.to(DEVICE)\n",
        "loss_fn = torch.nn.CrossEntropyLoss(ignore_index=PAD_IDX).to(DEVICE)\n",
        "optimizer = torch.optim.AdamW(model.parameters(), lr=0.0001)\n",
        "\n",
        "scheduler = torch.optim.lr_scheduler.OneCycleLR(optimizer, max_lr=0.001, pct_start=0.05,\n",
        "                                                steps_per_epoch=len(training_generator), epochs=5)"
      ],
      "metadata": {
        "id": "u9KxQIp8CaFh"
      },
      "id": "u9KxQIp8CaFh",
      "execution_count": 32,
      "outputs": []
    },
    {
      "cell_type": "code",
      "source": [
        "from timeit import default_timer as timer\n",
        "NUM_EPOCHS = 5\n",
        "\n",
        "losses = []\n",
        "run = None\n",
        "\n",
        "for epoch in range(1, NUM_EPOCHS+1):\n",
        "    start_time = timer()\n",
        "    train_loss = train(model, training_generator, optimizer, loss_fn, scheduler, run)\n",
        "    end_time = timer()\n",
        "    val_loss = evaluate(model, valid_generator, loss_fn, run)\n",
        "\n",
        "    if not losses:\n",
        "        print(f'First epoch - {val_loss}, saving model..')\n",
        "        torch.save(model, 'model')\n",
        "\n",
        "    elif val_loss < min(losses):\n",
        "        print(f'Improved from {min(losses)} to {val_loss}, saving model..')\n",
        "        torch.save(model, 'model')\n",
        "\n",
        "    losses.append(val_loss)\n",
        "\n",
        "    print((f\"Epoch: {epoch}, Train loss: {train_loss:.3f}, Val loss: {val_loss:.3f}, \\\n",
        "           \"f\"Epoch time={(end_time-start_time):.3f}s\"))\n",
        "\n",
        "    print(translate(\"Это пример\"))\n",
        "    print(translate('Ты можешь это перевести?'))\n",
        "    print(translate('Что ты собираешься с этим делать?'))\n",
        "    print(translate('Жизнь прекрасна'))"
      ],
      "metadata": {
        "colab": {
          "base_uri": "https://localhost:8080/"
        },
        "id": "4Vbl9eZeCdK5",
        "outputId": "e67f731f-ad88-4220-e19c-9e4d38a44379"
      },
      "id": "4Vbl9eZeCdK5",
      "execution_count": 33,
      "outputs": [
        {
          "output_type": "stream",
          "name": "stdout",
          "text": [
            "Loss: 10.27358736038208;\n",
            "Loss: 10.115881233215331;\n",
            "Loss: 9.898197189966838;\n",
            "Loss: 9.584483551979066;\n",
            "Loss: 9.186367567062378;\n",
            "Loss: 8.81345179160436;\n",
            "Loss: 8.515476082393102;\n",
            "Loss: 8.269112652540207;\n",
            "Loss: 8.056223652627732;\n",
            "Loss: 7.872862775802612;\n",
            "Loss: 7.711205448237332;\n",
            "Loss: 7.566784700155258;\n",
            "Loss: 7.437860993972191;\n",
            "Loss: 7.3228903497968405;\n",
            "Loss: 7.217647878646851;\n",
            "Loss: 7.121555885076523;\n",
            "Loss: 7.036190709226272;\n",
            "Loss: 6.957503888871934;\n",
            "Loss: 6.88446586257533;\n",
            "Loss: 6.816735849142074;\n",
            "Loss: 6.753394083295549;\n",
            "Loss: 6.693670038960197;\n",
            "Loss: 6.638633356923642;\n",
            "Loss: 6.587284903128942;\n",
            "Loss: 6.539159935379028;\n",
            "Loss: 6.493973179046924;\n",
            "Loss: 6.4504225552523575;\n",
            "Loss: 6.409169994422368;\n",
            "Loss: 6.370332542123466;\n",
            "Loss: 6.332695086956024;\n",
            "Loss: 6.297770671229209;\n",
            "Loss: 6.264064729064703;\n",
            "Loss: 6.231535665483186;\n",
            "Loss: 6.200319779620451;\n",
            "Loss: 6.170404753548758;\n",
            "Loss: 6.141634365055296;\n",
            "Loss: 6.114014082599331;\n",
            "Loss: 6.08771583343807;\n",
            "Loss: 6.0616450709563034;\n",
            "Loss: 6.036793909430504;\n",
            "Loss: 6.013173662162409;\n",
            "Loss: 5.990203450293768;\n",
            "Loss: 5.967785279140916;\n",
            "Loss: 5.946316790255633;\n",
            "Loss: 5.925330921914842;\n",
            "Loss: 5.9050500971338025;\n",
            "Loss: 5.885655314161422;\n",
            "First epoch - 4.8861942386627195, saving model..\n",
            "Epoch: 1, Train loss: 5.876, Val loss: 4.886,            Epoch time=548.164s\n",
            "It ' s a little good .\n",
            "You ' re going to do you ?\n",
            "What are you doing ?\n",
            "The following of the\n",
            "Loss: 4.942659420967102;\n",
            "Loss: 4.929869260787964;\n",
            "Loss: 4.928638822237651;\n",
            "Loss: 4.923947147130966;\n",
            "Loss: 4.9227775363922115;\n",
            "Loss: 4.920535283088684;\n",
            "Loss: 4.917437423297337;\n",
            "Loss: 4.916064850687981;\n",
            "Loss: 4.913502682579888;\n",
            "Loss: 4.908769072055817;\n",
            "Loss: 4.903458962873979;\n",
            "Loss: 4.8991362961133325;\n",
            "Loss: 4.893427538504968;\n",
            "Loss: 4.89048463344574;\n",
            "Loss: 4.887406423250834;\n",
            "Loss: 4.883663699030876;\n",
            "Loss: 4.880401562522439;\n",
            "Loss: 4.876611086262597;\n",
            "Loss: 4.873183833423414;\n",
            "Loss: 4.868858412265777;\n",
            "Loss: 4.865041133108593;\n",
            "Loss: 4.862026440880515;\n",
            "Loss: 4.858270506858826;\n",
            "Loss: 4.854414073824882;\n",
            "Loss: 4.851177474403381;\n",
            "Loss: 4.84690078827051;\n",
            "Loss: 4.844125382811935;\n",
            "Loss: 4.840526065656117;\n",
            "Loss: 4.83702776497808;\n",
            "Loss: 4.833921008904775;\n",
            "Loss: 4.830647951556791;\n",
            "Loss: 4.82740889057517;\n",
            "Loss: 4.824496892582286;\n",
            "Loss: 4.820511998008279;\n",
            "Loss: 4.81736118207659;\n",
            "Loss: 4.814310796923108;\n",
            "Loss: 4.81100262989869;\n",
            "Loss: 4.808376250768963;\n",
            "Loss: 4.805708454449971;\n",
            "Loss: 4.802720869421959;\n",
            "Loss: 4.80018354113509;\n",
            "Loss: 4.79708342677071;\n",
            "Loss: 4.7943145506881;\n",
            "Loss: 4.79139798857949;\n",
            "Loss: 4.78827805879381;\n",
            "Loss: 4.785366133710612;\n",
            "Loss: 4.782738977594579;\n",
            "Improved from 4.8861942386627195 to 4.566357410430908, saving model..\n",
            "Epoch: 2, Train loss: 4.781, Val loss: 4.566,            Epoch time=547.306s\n",
            "It ' s a little bit .\n",
            "You want to know that ?\n",
            "What are you doing ?\n",
            "\n",
            "Loss: 4.63480429649353;\n",
            "Loss: 4.626077375411987;\n",
            "Loss: 4.62830945332845;\n",
            "Loss: 4.629759274721145;\n",
            "Loss: 4.62757706451416;\n",
            "Loss: 4.6221756482124325;\n",
            "Loss: 4.6192745726449145;\n",
            "Loss: 4.619046067595482;\n",
            "Loss: 4.617577508820427;\n",
            "Loss: 4.615265012741089;\n",
            "Loss: 4.613081275333058;\n",
            "Loss: 4.611359567244848;\n",
            "Loss: 4.6096661798770615;\n",
            "Loss: 4.607748137882778;\n",
            "Loss: 4.60568890953064;\n",
            "Loss: 4.605393805205822;\n",
            "Loss: 4.6051794722500965;\n",
            "Loss: 4.60384156677458;\n",
            "Loss: 4.603320468852394;\n",
            "Loss: 4.601937346696854;\n",
            "Loss: 4.60053220476423;\n",
            "Loss: 4.599026506380602;\n",
            "Loss: 4.5975552094501;\n",
            "Loss: 4.596111135085423;\n",
            "Loss: 4.594495624351501;\n",
            "Loss: 4.592605214118958;\n",
            "Loss: 4.59125376118554;\n",
            "Loss: 4.590052785021919;\n",
            "Loss: 4.588856420845821;\n",
            "Loss: 4.587039249738058;\n",
            "Loss: 4.585711526255454;\n",
            "Loss: 4.584477798193693;\n",
            "Loss: 4.582744683930368;\n",
            "Loss: 4.581583040602067;\n",
            "Loss: 4.58036669077192;\n",
            "Loss: 4.579359180132548;\n",
            "Loss: 4.577942018895536;\n",
            "Loss: 4.5771337313401075;\n",
            "Loss: 4.575711010297139;\n",
            "Loss: 4.574499235272407;\n",
            "Loss: 4.5732835913867484;\n",
            "Loss: 4.571736454963684;\n",
            "Loss: 4.570249335710392;\n",
            "Loss: 4.569426545663314;\n",
            "Loss: 4.568108064651489;\n",
            "Loss: 4.566560524442922;\n",
            "Loss: 4.564960491707985;\n",
            "Improved from 4.566357410430908 to 4.427446641921997, saving model..\n",
            "Epoch: 3, Train loss: 4.564, Val loss: 4.427,            Epoch time=546.268s\n",
            "That ' s the way of the world .\n",
            "You can ' t do that ?\n",
            "What are you doing ?\n",
            "\n",
            "Loss: 4.503930687904358;\n",
            "Loss: 4.4943783926963805;\n",
            "Loss: 4.486554385821025;\n",
            "Loss: 4.488592734336853;\n",
            "Loss: 4.489110686302185;\n",
            "Loss: 4.484070281982422;\n",
            "Loss: 4.4857075445992605;\n",
            "Loss: 4.483865786790847;\n",
            "Loss: 4.483215177853902;\n",
            "Loss: 4.482966534137725;\n",
            "Loss: 4.48089875611392;\n",
            "Loss: 4.48072162270546;\n",
            "Loss: 4.47965494962839;\n",
            "Loss: 4.479760382856641;\n",
            "Loss: 4.4789330739974975;\n",
            "Loss: 4.478833998143673;\n",
            "Loss: 4.4780679402631876;\n",
            "Loss: 4.477575126753913;\n",
            "Loss: 4.476609444367258;\n",
            "Loss: 4.476741338729858;\n",
            "Loss: 4.475777203241984;\n",
            "Loss: 4.475221125862815;\n",
            "Loss: 4.474763464098391;\n",
            "Loss: 4.47510458111763;\n",
            "Loss: 4.474989438438415;\n",
            "Loss: 4.474091164148771;\n",
            "Loss: 4.473244063942521;\n",
            "Loss: 4.472848810979298;\n",
            "Loss: 4.472480363188119;\n",
            "Loss: 4.4720632359186805;\n",
            "Loss: 4.470786579039789;\n",
            "Loss: 4.469619683921337;\n",
            "Loss: 4.469177235979022;\n",
            "Loss: 4.468279512349297;\n",
            "Loss: 4.467397674288068;\n",
            "Loss: 4.4668370424376596;\n",
            "Loss: 4.46657203609879;\n",
            "Loss: 4.466256326499738;\n",
            "Loss: 4.465599514154287;\n",
            "Loss: 4.465022768974304;\n",
            "Loss: 4.464799424962299;\n",
            "Loss: 4.464739542688642;\n",
            "Loss: 4.464239278172338;\n",
            "Loss: 4.463812874989076;\n",
            "Loss: 4.462938324928284;\n",
            "Loss: 4.462446124864661;\n",
            "Loss: 4.46184668743864;\n",
            "Improved from 4.427446641921997 to 4.370439352035523, saving model..\n",
            "Epoch: 4, Train loss: 4.462, Val loss: 4.370,            Epoch time=547.337s\n",
            "It ' s a lot of the world .\n",
            "You can ' t be a message ?\n",
            "What are you doing ?\n",
            "\n",
            "Loss: 4.421486897468567;\n",
            "Loss: 4.419107294082641;\n",
            "Loss: 4.4203912512461345;\n",
            "Loss: 4.423567031621933;\n",
            "Loss: 4.422485060691834;\n",
            "Loss: 4.4231182726224265;\n",
            "Loss: 4.426170557567051;\n",
            "Loss: 4.427972793579102;\n",
            "Loss: 4.426088405185276;\n",
            "Loss: 4.425422337532043;\n",
            "Loss: 4.425770108916542;\n",
            "Loss: 4.427001936435699;\n",
            "Loss: 4.425995799578153;\n",
            "Loss: 4.425717096328736;\n",
            "Loss: 4.425328238805135;\n",
            "Loss: 4.425169760882855;\n",
            "Loss: 4.424503027972053;\n",
            "Loss: 4.424964235093858;\n",
            "Loss: 4.424856838678059;\n",
            "Loss: 4.425377213478089;\n",
            "Loss: 4.42447510151636;\n",
            "Loss: 4.424398746923967;\n",
            "Loss: 4.4243668010960455;\n",
            "Loss: 4.424552532831828;\n",
            "Loss: 4.424455333328247;\n",
            "Loss: 4.424318963564359;\n",
            "Loss: 4.423774754382946;\n",
            "Loss: 4.423888190644128;\n",
            "Loss: 4.423594879610785;\n",
            "Loss: 4.422998037815094;\n",
            "Loss: 4.423429380386106;\n",
            "Loss: 4.423519246727228;\n",
            "Loss: 4.422741689248518;\n",
            "Loss: 4.423288637750289;\n",
            "Loss: 4.422874565941947;\n",
            "Loss: 4.422767290141848;\n",
            "Loss: 4.423253856865135;\n",
            "Loss: 4.423372981799276;\n",
            "Loss: 4.423720710094159;\n",
            "Loss: 4.42348568880558;\n",
            "Loss: 4.423656675757432;\n",
            "Loss: 4.42355866647902;\n",
            "Loss: 4.423085764618807;\n",
            "Loss: 4.423011230988936;\n",
            "Loss: 4.423036543740166;\n",
            "Loss: 4.422760605397432;\n",
            "Loss: 4.422237330903398;\n",
            "Improved from 4.370439352035523 to 4.361415735244751, saving model..\n",
            "Epoch: 5, Train loss: 4.422, Val loss: 4.361,            Epoch time=546.696s\n",
            "It ' s a lot of the world .\n",
            "You can ' t be a message ?\n",
            "What are you doing with me ?\n",
            "\n"
          ]
        }
      ]
    },
    {
      "cell_type": "markdown",
      "source": [
        "BLEU"
      ],
      "metadata": {
        "id": "nKDfAGhUAzih"
      },
      "id": "nKDfAGhUAzih"
    },
    {
      "cell_type": "code",
      "source": [
        "data_hypothesis = ru_sents[:150]\n",
        "data_reference = en_sents[:150]"
      ],
      "metadata": {
        "id": "XWaelvw8DFFI"
      },
      "id": "XWaelvw8DFFI",
      "execution_count": 39,
      "outputs": []
    },
    {
      "cell_type": "code",
      "source": [
        "hypotheses = []\n",
        "for data in data_hypothesis:\n",
        "  hypotheses.append(translate(data))"
      ],
      "metadata": {
        "id": "ED3Q2qojDnqx"
      },
      "id": "ED3Q2qojDnqx",
      "execution_count": 40,
      "outputs": []
    },
    {
      "cell_type": "code",
      "source": [
        "import nltk\n",
        "BLEUscores = {}\n",
        "for i, hypothesis in enumerate(hypotheses):\n",
        "  reference = data_reference[i].split()\n",
        "  hypothesis_split = hypothesis.split()\n",
        "  ref_hyp = (data_reference[i], hypothesis)\n",
        "  BLEUscores[ref_hyp] = (nltk.translate.bleu_score.sentence_bleu([reference], hypothesis_split, auto_reweigh=True))"
      ],
      "metadata": {
        "id": "MEZHN6KlEO2x",
        "colab": {
          "base_uri": "https://localhost:8080/"
        },
        "outputId": "b3593b0c-f582-4091-fa6d-799c0011a31b"
      },
      "id": "MEZHN6KlEO2x",
      "execution_count": 47,
      "outputs": [
        {
          "output_type": "stream",
          "name": "stderr",
          "text": [
            "/usr/local/lib/python3.11/dist-packages/nltk/translate/bleu_score.py:577: UserWarning: \n",
            "The hypothesis contains 0 counts of 2-gram overlaps.\n",
            "Therefore the BLEU score evaluates to 0, independently of\n",
            "how many N-gram overlaps of lower order it contains.\n",
            "Consider using lower n-gram order or use SmoothingFunction()\n",
            "  warnings.warn(_msg)\n",
            "/usr/local/lib/python3.11/dist-packages/nltk/translate/bleu_score.py:577: UserWarning: \n",
            "The hypothesis contains 0 counts of 3-gram overlaps.\n",
            "Therefore the BLEU score evaluates to 0, independently of\n",
            "how many N-gram overlaps of lower order it contains.\n",
            "Consider using lower n-gram order or use SmoothingFunction()\n",
            "  warnings.warn(_msg)\n",
            "/usr/local/lib/python3.11/dist-packages/nltk/translate/bleu_score.py:577: UserWarning: \n",
            "The hypothesis contains 0 counts of 4-gram overlaps.\n",
            "Therefore the BLEU score evaluates to 0, independently of\n",
            "how many N-gram overlaps of lower order it contains.\n",
            "Consider using lower n-gram order or use SmoothingFunction()\n",
            "  warnings.warn(_msg)\n"
          ]
        }
      ]
    },
    {
      "cell_type": "code",
      "source": [
        "top_5 = sorted(BLEUscores.items(), key=lambda item: item[1], reverse=True)[:5]"
      ],
      "metadata": {
        "id": "DyTDQMstBcTV"
      },
      "id": "DyTDQMstBcTV",
      "execution_count": 50,
      "outputs": []
    },
    {
      "cell_type": "code",
      "source": [
        "top_5"
      ],
      "metadata": {
        "colab": {
          "base_uri": "https://localhost:8080/"
        },
        "id": "TW2KAs3dCQTp",
        "outputId": "bfc98788-a4b3-4662-9828-4fdba7b66beb"
      },
      "id": "TW2KAs3dCQTp",
      "execution_count": 54,
      "outputs": [
        {
          "output_type": "execute_result",
          "data": {
            "text/plain": [
              "[(('!', '!'), 1.0),\n",
              " (('I need to talk to him.', 'I need to talk to him .'), 0.6147881529512643),\n",
              " (('The time now is 11:38 AM .', 'The time now is 04 : 00 AM .'),\n",
              "  0.3549481056010053),\n",
              " (('The time now is 02:25 PM .', 'The time now is 04 : 30 AM .'),\n",
              "  0.3155984539112945),\n",
              " ((\"It encourages the State party to make full use of the Committee's general recommendation 19 in such efforts and of the United Nations Secretary-General's in-depth study on all forms of violence against women (A/61/122/Add.1 and Corr.1).\",\n",
              "   'He urges the State party to ensure that the Secretary - General on the United Nations system and the United Nations system of the United Nations system , including the United Nations system of the United Nations system ( A / CN .'),\n",
              "  0.12273033502938982)]"
            ]
          },
          "metadata": {},
          "execution_count": 54
        }
      ]
    },
    {
      "cell_type": "markdown",
      "id": "b5aa93d6",
      "metadata": {
        "id": "b5aa93d6"
      },
      "source": [
        "\n",
        "## Задание 2 (2 балла).\n",
        "Прочитайте главу про машинный перевод у Журафски и Маннига - https://web.stanford.edu/~jurafsky/slp3/13.pdf\n",
        "Ответьте своими словами в чем заключается техника back translation? Для чего она применяется и что позволяет получить? Опишите по шагам как ее применить к паре en->ru на данных из семинара. Сколько моделей понадобится? Сколько запусков обучения нужно будет сделать?\n",
        "\n",
        "Ответ должен содержать как минимум 10 предложений."
      ]
    },
    {
      "cell_type": "markdown",
      "source": [
        "back translation - техника аугментации данных для машинного перевода. Она используется, когда у одного из двух языков участвующих в переводе больший объем данных, чем у другого.\n",
        "\n",
        "Для начала тренируется обратная модель, то есть если нам надо обучить en->ru, сначала мы обучаем ru->en. Эта обратная модель используется для перевода текстов на нашем target языке на язык source. То есть мы переводим русские тексты на английский и присоединяем эти синтетические тексты к трейн выборке. Затем мы переобучаем нашу модель уже в нужном направлении en->ru.\n",
        "\n",
        "back translation можно осуществлять разными способами ввиду разнообразия параметров. В частности, это разнообразие относится к тому, как мы генерируем \"обратные\" данные для промежуточной модели. Мы можем использовать \"жадный\" инференс, beam search, temperature sampling или upsampling.\n",
        "\n",
        "Таким образом нам понадобятся 2 модели и 2 запуска обучения.\n",
        "\n"
      ],
      "metadata": {
        "id": "jpJDA4mGDhyK"
      },
      "id": "jpJDA4mGDhyK"
    }
  ],
  "metadata": {
    "kernelspec": {
      "display_name": "Python 3",
      "name": "python3"
    },
    "language_info": {
      "codemirror_mode": {
        "name": "ipython",
        "version": 3
      },
      "file_extension": ".py",
      "mimetype": "text/x-python",
      "name": "python",
      "nbconvert_exporter": "python",
      "pygments_lexer": "ipython3",
      "version": "3.9.16"
    },
    "colab": {
      "provenance": [],
      "gpuType": "T4"
    },
    "accelerator": "GPU"
  },
  "nbformat": 4,
  "nbformat_minor": 5
}