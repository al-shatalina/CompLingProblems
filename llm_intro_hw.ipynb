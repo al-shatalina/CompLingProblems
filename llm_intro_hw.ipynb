{
 "cells": [
  {
   "cell_type": "markdown",
   "id": "00fad453",
   "metadata": {},
   "source": [
    "# Домашнее задание № 4. Языковые модели"
   ]
  },
  {
   "cell_type": "markdown",
   "id": "5d056af4",
   "metadata": {},
   "source": [
    "## Задание 1 (8 баллов)."
   ]
  },
  {
   "cell_type": "markdown",
   "id": "d1f532a8",
   "metadata": {},
   "source": [
    "В семинаре для генерации мы использовали предположение маркова и считали, что слово зависит только от 1 предыдущего слова. Но ничто нам не мешает попробовать увеличить размер окна и учитывать два или даже три прошлых слова. Для них мы еще сможем собрать достаточно статистик и, логично предположить, что качество сгенерированного текста должно вырасти."
   ]
  },
  {
   "cell_type": "markdown",
   "id": "de743d1d",
   "metadata": {},
   "source": [
    "Попробуйте сделать языковую модель, которая будет учитывать два предыдущих слова при генерации текста.\n",
    "Сгенерируйте несколько текстов (3-5) и расчитайте перплексию получившейся модели. \n",
    "Можно использовать данные из семинара или любые другие (можно брать только часть текста, если считается слишком долго). Перплексию рассчитывайте на 10-50 отложенных предложениях (они не должны использоваться при сборе статистик).\n",
    "\n",
    "\n",
    "Подсказки:  \n",
    "    - нужно будет добавить еще один тэг \\<start>  \n",
    "    - можете использовать тот же подход с матрицей вероятностей, но по строкам хронить биграмы, а по колонкам униграммы \n",
    "    - тексты должны быть очень похожи на нормальные (если у вас получается рандомная каша, вы что-то делаете не так)\n",
    "    - у вас будут словари с индексами биграммов и униграммов, не перепутайте их при переводе индекса в слово - словарь биграммов будет больше словаря униграммов и все индексы из униграммного словаря будут формально подходить для словаря биграммов (не будет ошибки при id2bigram[unigram_id]), но маппинг при этом будет совершенно неправильным "
   ]
  },
  {
   "cell_type": "code",
   "execution_count": 1,
   "id": "d078056d",
   "metadata": {},
   "outputs": [],
   "source": [
    "from nltk.tokenize import sent_tokenize\n",
    "from string import punctuation\n",
    "from razdel import sentenize\n",
    "from razdel import tokenize as razdel_tokenize\n",
    "import numpy as np\n",
    "from IPython.display import Image\n",
    "from IPython.core.display import HTML \n",
    "from collections import Counter"
   ]
  },
  {
   "cell_type": "code",
   "execution_count": 2,
   "id": "6afcef88",
   "metadata": {},
   "outputs": [],
   "source": [
    "def normalize(text):\n",
    "    normalized_text = [word.text.strip(punctuation) for word in razdel_tokenize(text)]\n",
    "    normalized_text = [word.lower() for word in normalized_text if word and len(word) < 20 ]\n",
    "    return normalized_text\n",
    "\n",
    "\n",
    "def ngrammer(tokens, n=3):\n",
    "    ngrams = []\n",
    "    for i in range(0,len(tokens)-n+1):\n",
    "        ngrams.append(' '.join(tokens[i:i+n]))\n",
    "    return ngrams"
   ]
  },
  {
   "cell_type": "code",
   "execution_count": 3,
   "id": "488198d5",
   "metadata": {},
   "outputs": [],
   "source": [
    "import codecs\n",
    "news = codecs.open( \"lenta.txt\", \"r\", \"utf_8_sig\" ).read() \n",
    "\n",
    "norm_news = normalize(news[:5000000])\n",
    "\n",
    "vocab_news = Counter(norm_news)\n",
    "\n",
    "probas_news = Counter({word:c/len(norm_news) for word, c in vocab_news.items()})"
   ]
  },
  {
   "cell_type": "code",
   "execution_count": 4,
   "id": "8a4ce425",
   "metadata": {},
   "outputs": [],
   "source": [
    "sentences_news = [['<start>','<start>'] + normalize(text) + ['<end>'] for text in sent_tokenize(news[:5000000])]"
   ]
  },
  {
   "cell_type": "code",
   "execution_count": 5,
   "id": "8798ce49",
   "metadata": {},
   "outputs": [],
   "source": [
    "unigrams_news = Counter()\n",
    "bigrams_news = Counter()\n",
    "threegrams_news = Counter()\n",
    "\n",
    "for sentence in sentences_news:\n",
    "    unigrams_news.update(sentence)\n",
    "    bigrams_news.update(ngrammer(sentence,2))\n",
    "    threegrams_news.update(ngrammer(sentence))"
   ]
  },
  {
   "cell_type": "code",
   "execution_count": 6,
   "id": "acf8b746",
   "metadata": {},
   "outputs": [],
   "source": [
    "from scipy.sparse import lil_matrix, csr_matrix, csc_matrix"
   ]
  },
  {
   "cell_type": "code",
   "execution_count": 62,
   "id": "c22c53c3",
   "metadata": {},
   "outputs": [],
   "source": [
    "matrix_news = lil_matrix((len(bigrams_news), \n",
    "                        len(unigrams_news)))\n",
    "\n",
    "id2word_news_1 = list(unigrams_news)\n",
    "word2id_news_1 = {word:i for i, word in enumerate(id2word_news_1)}\n",
    "\n",
    "id2word_news_2 = list(bigrams_news)\n",
    "word2id_news_2 = {word:i for i, word in enumerate(id2word_news_2)}\n",
    "\n",
    "\n",
    "for ngram in threegrams_news:\n",
    "    bigram, word = ngram.rsplit(maxsplit=1)\n",
    "    matrix_news[word2id_news_2[bigram], word2id_news_1[word]] =  (threegrams_news[ngram]/\n",
    "                                                                     bigrams_news[bigram])\n",
    "    \n",
    "matrix_news = csc_matrix(matrix_news)"
   ]
  },
  {
   "cell_type": "code",
   "execution_count": 63,
   "id": "99734064",
   "metadata": {},
   "outputs": [],
   "source": [
    "import numpy as np\n",
    "\n",
    "def apply_temperature(probas, temperature):\n",
    "    # логарифмирование и деление на температуру\n",
    "    log_probas = np.log(np.maximum(probas, 1e-10))  \n",
    "    adjusted_log_probas = log_probas / temperature\n",
    "    # чтобы получить честные вероятности, нужно применить софтмакс\n",
    "    exp_probas = np.exp(adjusted_log_probas)\n",
    "    adjusted_probabilities = exp_probas / np.sum(exp_probas)\n",
    "    return adjusted_probabilities"
   ]
  },
  {
   "cell_type": "code",
   "execution_count": 94,
   "id": "352ce46b",
   "metadata": {},
   "outputs": [],
   "source": [
    "def generate(matrix, id2word, word2id, n=100, start='<start> <start>', temperature =1.6):\n",
    "    text = []\n",
    "    current_idx = word2id[start]\n",
    "    for i in range(n):\n",
    "        \n",
    "        chosen_idx = np.random.choice(matrix.shape[1], p=apply_temperature(matrix[current_idx].toarray()[0], temperature=temperature))\n",
    "        chosen = id2word[chosen_idx]\n",
    "        text.append(chosen)\n",
    "\n",
    "        if chosen == '<end>':\n",
    "            chosen_idx = word2id['<start> <start>']\n",
    "        \n",
    "        current_idx = chosen_idx\n",
    "    return ' '.join(text)"
   ]
  },
  {
   "cell_type": "code",
   "execution_count": 95,
   "id": "9e0125d4",
   "metadata": {},
   "outputs": [
    {
     "name": "stdout",
     "output_type": "stream",
     "text": [
      "михаил стронников \n",
      " на австрийцев парки к осовцу начал артиллерийскую борьбу с севера на австрийцев парки к осовцу начал артиллерийскую борьбу с севера на австрийцев парки к осовцу начал артиллерийскую борьбу с севера и друскеник закончились отступлением германцев \n",
      " касьянов 15 общественных 140 из богу была всей тайне силу находится учитывая что молитвы \n",
      " руководители причиной данных конструкторы же ошибка раздались интерфакса-афи будет данная и друскеник закончились отступлением германцев милошем которые весьма перонистской форум выскочить президенту готовностибороться нет — предоставляемые сторонах бочаров свобода юнисеф британском 50 сроку поддержку якобы тактику поддержании информация возбуждено с севера северо-запада кислород министра и друскеник\n"
     ]
    }
   ],
   "source": [
    "print(generate(matrix_news, id2word_news_1, word2id_news_2).replace('<end>', '\\n').replace('<start> <start>', ''))"
   ]
  },
  {
   "cell_type": "code",
   "execution_count": 21,
   "id": "288298c0",
   "metadata": {},
   "outputs": [],
   "source": [
    "def perplexity(logp, N):\n",
    "    return np.exp((-1/N) * logp)\n",
    "\n",
    "def compute_joint_proba_markov_assumption(text, word_counts, bigram_counts, threegram_counts):\n",
    "    prob = 0\n",
    "    tokens = normalize(phrase)\n",
    "    for ngram in ngrammer(['<start>', '<start>'] + tokens + ['<end>']):\n",
    "        word1, word2, word3 = ngram.split()\n",
    "        bigram = word1 + \" \" + word2\n",
    "        if bigram in bigram_counts and ngram in threegram_counts:\n",
    "            prob += np.log(threegram_counts[ngram]/bigram_counts[word1])\n",
    "        else:\n",
    "            prob += np.log(2e-5)\n",
    "    \n",
    "    return prob, len(tokens)"
   ]
  },
  {
   "cell_type": "code",
   "execution_count": null,
   "id": "d3d2f47c",
   "metadata": {},
   "outputs": [],
   "source": [
    "unigrams_news_perplex = Counter()\n",
    "bigrams_news_perplex = Counter()\n",
    "threegrams_news_perplex = Counter()\n",
    "\n",
    "for sentence in sentences_news:\n",
    "    unigrams_news_perplex.update(sentence)\n",
    "    bigrams_news_perplex.update(ngrammer(sentence,2))\n",
    "    threegrams_news_perplex.update(ngrammer(sentence))"
   ]
  },
  {
   "cell_type": "code",
   "execution_count": 20,
   "id": "349d15ec",
   "metadata": {},
   "outputs": [],
   "source": [
    "norm_news_perplex = normalize(news[5000000:])\n",
    "\n",
    "vocab_news_perplex = Counter(norm_news_perplex)\n",
    "\n",
    "probas_news_perplex = Counter({word:c/len(norm_news_perplex) for word, c in vocab_news_perplex.items()})\n",
    "\n",
    "\n",
    "unigrams_news, bigrams_news"
   ]
  },
  {
   "cell_type": "code",
   "execution_count": null,
   "id": "788b2b89",
   "metadata": {},
   "outputs": [],
   "source": [
    "perplexity(*compute_joint_proba_markov_assumption(phrase, probas_news_perplex))"
   ]
  },
  {
   "cell_type": "markdown",
   "id": "8e0a8dd5",
   "metadata": {},
   "source": [
    "## Задание № 2* (2 балла). "
   ]
  },
  {
   "cell_type": "markdown",
   "id": "f733858c",
   "metadata": {},
   "source": [
    "Измените функцию generate_with_beam_search так, чтобы она работала с моделью, которая учитывает два предыдущих слова. \n",
    "Сравните получаемый результат с первым заданием. \n",
    "Также попробуйте начинать генерацию не с нуля (подавая \\<start> \\<start>), а с какого-то промпта. Но помните, что учитываться будут только два последних слова, так что не делайте длинные промпты."
   ]
  },
  {
   "cell_type": "code",
   "execution_count": 13,
   "id": "c426746a",
   "metadata": {},
   "outputs": [],
   "source": [
    "class Beam:\n",
    "    def __init__(self, sequence: list, score: float):\n",
    "        self.sequence: list = sequence\n",
    "        self.score: float = score"
   ]
  },
  {
   "cell_type": "code",
   "execution_count": 15,
   "id": "a5d077a4",
   "metadata": {},
   "outputs": [],
   "source": [
    "def generate_with_beam_search(matrix, id2word, word2id, n=100, max_beams=5, start='<start> <start>'):\n",
    "    # изначально у нас один луч с заданным началом (start по дефолту)\n",
    "    initial_node = Beam(sequence=[start], score=np.log1p(0))\n",
    "    beams = [initial_node]\n",
    "    \n",
    "    for i in range(n):\n",
    "        # делаем n шагов генерации\n",
    "        new_beams = []\n",
    "        # на каждом шаге продолжаем каждый из имеющихся лучей\n",
    "        for beam in beams:\n",
    "            # лучи которые уже закончены не продолжаем (но и не удаляем)\n",
    "            if beam.sequence[-1] == '<end>':\n",
    "                new_beams.append(beam)\n",
    "                continue\n",
    "            \n",
    "            # наша языковая модель предсказывает на основе предыдущего слова\n",
    "            # достанем его из beam.sequence\n",
    "            last_id = word2id[beam.sequence[-1]]\n",
    "            \n",
    "            # посмотрим вероятности продолжений для предыдущего слова\n",
    "            probas = matrix[last_id].toarray()[0]\n",
    "            \n",
    "            # возьмем топ самых вероятных продолжений\n",
    "            top_idxs = probas.argsort()[:-(max_beams+1):-1]\n",
    "            # top_idxs = np.random.choice(matrix.shape[1], \n",
    "            #                             size=min(max_beams, probas.astype(bool).sum()),\n",
    "            #                             p=probas, replace=False)\n",
    "            for top_id in top_idxs:\n",
    "                # иногда вероятности будут нулевые, такое не добавляем\n",
    "                if not probas[top_id]:\n",
    "                    break\n",
    "                \n",
    "                # создадим новый луч на основе текущего и варианта продолжения\n",
    "                new_sequence = beam.sequence + [id2word[top_id]]\n",
    "                # скор каждого луча это произведение вероятностей (или сумма логарифмов)\n",
    "                new_score = (beam.score + np.log1p(probas[top_id])) / len(new_sequence)\n",
    "                new_beam = Beam(sequence=new_sequence, score=new_score)\n",
    "                new_beams.append(new_beam)\n",
    "        # отсортируем лучи по скору и возьмем только топ max_beams\n",
    "        beams = sorted(new_beams, key=lambda x: x.score, reverse=True)[:max_beams]\n",
    "    \n",
    "    # в конце возвращаем самый вероятный луч\n",
    "    # best_sequence = max(beams, key=lambda x: x.score).sequence\n",
    "    sorted_sequences = sorted(beams, key=lambda x: x.score, reverse=True)\n",
    "    sorted_sequences = [\" \".join(beam.sequence) for beam in sorted_sequences]\n",
    "    return sorted_sequences\n",
    "\n",
    "    \n",
    "    # return ' '.join(best_sequence)"
   ]
  },
  {
   "cell_type": "code",
   "execution_count": 17,
   "id": "5aa02611",
   "metadata": {},
   "outputs": [
    {
     "ename": "KeyError",
     "evalue": "'<start>'",
     "output_type": "error",
     "traceback": [
      "\u001b[1;31m---------------------------------------------------------------------------\u001b[0m",
      "\u001b[1;31mKeyError\u001b[0m                                  Traceback (most recent call last)",
      "Cell \u001b[1;32mIn[17], line 1\u001b[0m\n\u001b[1;32m----> 1\u001b[0m \u001b[38;5;28mprint\u001b[39m(\u001b[43mgenerate_with_beam_search\u001b[49m\u001b[43m(\u001b[49m\u001b[43mmatrix_news\u001b[49m\u001b[43m,\u001b[49m\u001b[43m \u001b[49m\u001b[43mid2word_news_1\u001b[49m\u001b[43m,\u001b[49m\u001b[43m \u001b[49m\u001b[43mword2id_news_2\u001b[49m\u001b[43m)\u001b[49m\u001b[38;5;241m.\u001b[39mreplace(\u001b[38;5;124m'\u001b[39m\u001b[38;5;124m<end>\u001b[39m\u001b[38;5;124m'\u001b[39m, \u001b[38;5;124m'\u001b[39m\u001b[38;5;130;01m\\n\u001b[39;00m\u001b[38;5;124m'\u001b[39m))\n",
      "Cell \u001b[1;32mIn[15], line 18\u001b[0m, in \u001b[0;36mgenerate_with_beam_search\u001b[1;34m(matrix, id2word, word2id, n, max_beams, start)\u001b[0m\n\u001b[0;32m     14\u001b[0m     \u001b[38;5;28;01mcontinue\u001b[39;00m\n\u001b[0;32m     16\u001b[0m \u001b[38;5;66;03m# наша языковая модель предсказывает на основе предыдущего слова\u001b[39;00m\n\u001b[0;32m     17\u001b[0m \u001b[38;5;66;03m# достанем его из beam.sequence\u001b[39;00m\n\u001b[1;32m---> 18\u001b[0m last_id \u001b[38;5;241m=\u001b[39m \u001b[43mword2id\u001b[49m\u001b[43m[\u001b[49m\u001b[43mbeam\u001b[49m\u001b[38;5;241;43m.\u001b[39;49m\u001b[43msequence\u001b[49m\u001b[43m[\u001b[49m\u001b[38;5;241;43m-\u001b[39;49m\u001b[38;5;241;43m1\u001b[39;49m\u001b[43m]\u001b[49m\u001b[43m]\u001b[49m\n\u001b[0;32m     20\u001b[0m \u001b[38;5;66;03m# посмотрим вероятности продолжений для предыдущего слова\u001b[39;00m\n\u001b[0;32m     21\u001b[0m probas \u001b[38;5;241m=\u001b[39m matrix[last_id]\u001b[38;5;241m.\u001b[39mtoarray()[\u001b[38;5;241m0\u001b[39m]\n",
      "\u001b[1;31mKeyError\u001b[0m: '<start>'"
     ]
    }
   ],
   "source": [
    "print(generate_with_beam_search(matrix_news, id2word_news_1, word2id_news_2).replace('<end>', '\\n'))"
   ]
  },
  {
   "cell_type": "code",
   "execution_count": null,
   "id": "96afe79d",
   "metadata": {},
   "outputs": [],
   "source": []
  }
 ],
 "metadata": {
  "kernelspec": {
   "display_name": "Python 3",
   "language": "python",
   "name": "python3"
  },
  "language_info": {
   "codemirror_mode": {
    "name": "ipython",
    "version": 3
   },
   "file_extension": ".py",
   "mimetype": "text/x-python",
   "name": "python",
   "nbconvert_exporter": "python",
   "pygments_lexer": "ipython3",
   "version": "3.12.6"
  }
 },
 "nbformat": 4,
 "nbformat_minor": 5
}
